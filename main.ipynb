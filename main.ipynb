{
  "cells": [
    {
      "cell_type": "code",
      "execution_count": 8,
      "metadata": {
        "execution": {
          "iopub.execute_input": "2021-10-17T09:46:47.190602Z",
          "iopub.status.busy": "2021-10-17T09:46:47.190226Z"
        },
        "colab": {
          "base_uri": "https://localhost:8080/"
        },
        "id": "n-T9DTZWhQyh",
        "outputId": "7c9182cb-50a1-41d9-d64d-bcc57d9d2266"
      },
      "outputs": [
        {
          "output_type": "stream",
          "name": "stdout",
          "text": [
            "--2023-02-01 02:18:48--  https://repo.anaconda.com/miniconda/Miniconda3-py37_4.8.2-Linux-x86_64.sh\n",
            "Resolving repo.anaconda.com (repo.anaconda.com)... 104.16.130.3, 104.16.131.3, 2606:4700::6810:8303, ...\n",
            "Connecting to repo.anaconda.com (repo.anaconda.com)|104.16.130.3|:443... connected.\n",
            "HTTP request sent, awaiting response... 200 OK\n",
            "Length: 85055499 (81M) [application/x-sh]\n",
            "Saving to: ‘Miniconda3-py37_4.8.2-Linux-x86_64.sh.1’\n",
            "\n",
            "Miniconda3-py37_4.8 100%[===================>]  81.12M   151MB/s    in 0.5s    \n",
            "\n",
            "2023-02-01 02:18:49 (151 MB/s) - ‘Miniconda3-py37_4.8.2-Linux-x86_64.sh.1’ saved [85055499/85055499]\n",
            "\n",
            "PREFIX=/home/aistudio/work\n",
            "Unpacking payload ...\n",
            "Collecting package metadata (current_repodata.json): - \b\b\\ \b\b| \b\bdone\n",
            "Solving environment: - \b\b\\ \b\b| \b\b/ \n",
            "The environment is inconsistent, please check the package plan carefully\n",
            "The following packages are causing the inconsistency:\n",
            "\n",
            "  - conda-forge/linux-64::openmm==7.6.0=py37hd49da16_0\n",
            "  - conda-forge/linux-64::conda==4.14.0=py37h89c1867_0\n",
            "  - conda-forge/linux-64::ocl-icd==2.3.1=h7f98852_0\n",
            "  - conda-forge/linux-64::python_abi==3.7=2_cp37m\n",
            "  - conda-forge/linux-64::fftw==3.3.10=nompi_h77c792f_102\n",
            "  - conda-forge/noarch::certifi==2022.12.7=pyhd8ed1ab_0\n",
            "  - defaults/linux-64::libgcc-ng==11.2.0=h1234567_1\n",
            "  - defaults/linux-64::ruamel_yaml==0.15.87=py37h7b6447c_0\n",
            "  - conda-forge/linux-64::ocl-icd-system==1.0.0=1\n",
            "  - defaults/linux-64::pysocks==1.7.1=py37_0\n",
            "  - defaults/linux-64::pip==20.0.2=py37_1\n",
            "  - defaults/linux-64::yaml==0.1.7=had09818_2\n",
            "  - defaults/linux-64::xz==5.2.4=h14c3975_4\n",
            "  - conda-forge/linux-64::libopenblas==0.3.20=pthreads_h78a6416_0\n",
            "  - defaults/noarch::tqdm==4.42.1=py_0\n",
            "  - defaults/linux-64::requests==2.22.0=py37_1\n",
            "  - conda-forge/linux-64::libcblas==3.9.0=15_linux64_openblas\n",
            "  - defaults/linux-64::ncurses==6.2=he6710b0_0\n",
            "  - defaults/linux-64::tk==8.6.8=hbc83047_0\n",
            "  - conda-forge/noarch::pdbfixer==1.8.1=pyh6c4a22f_0\n",
            "  - conda-forge/noarch::toolz==0.12.0=pyhd8ed1ab_0\n",
            "  - defaults/linux-64::asn1crypto==1.3.0=py37_0\n",
            "  - defaults/linux-64::chardet==3.0.4=py37_1003\n",
            "  - defaults/linux-64::conda-package-handling==1.6.0=py37h7b6447c_0\n",
            "  - defaults/linux-64::python==3.7.6=h0371630_2\n",
            "  - defaults/linux-64::sqlite==3.31.1=h7b6447c_0\n",
            "  - defaults/linux-64::setuptools==45.2.0=py37_0\n",
            "  - conda-forge/linux-64::liblapack==3.9.0=15_linux64_openblas\n",
            "  - defaults/linux-64::libedit==3.1.20181209=hc058e9b_0\n",
            "  - defaults/linux-64::pycparser==2.19=py37_0\n",
            "  - conda-forge/linux-64::libblas==3.9.0=15_linux64_openblas\n",
            "  - defaults/linux-64::pycosat==0.6.3=py37h7b6447c_0\n",
            "  - conda-forge/linux-64::numpy==1.20.3=py37h3e96413_2\n",
            "  - defaults/linux-64::six==1.14.0=py37_0\n",
            "  - defaults/linux-64::zlib==1.2.11=h7b6447c_3\n",
            "  - defaults/linux-64::readline==7.0=h7b6447c_5\n",
            "  - defaults/linux-64::idna==2.8=py37_0\n",
            "  - conda-forge/linux-64::openssl==1.1.1l=h7f98852_0\n",
            "  - defaults/linux-64::libffi==3.2.1=hd88cf55_4\n",
            "  - defaults/linux-64::wheel==0.34.2=py37_0\n",
            "  - defaults/linux-64::pyopenssl==19.1.0=py37_0\n",
            "  - defaults/linux-64::cffi==1.14.0=py37h2e261b9_0\n",
            "  - defaults/linux-64::urllib3==1.25.8=py37_0\n",
            "  - defaults/linux-64::cryptography==2.8=py37h1ba5d50_0\n",
            "\b\b- \b\b\\ \b\b| \b\b/ \b\b- \b\bdone\n",
            "\n",
            "## Package Plan ##\n",
            "\n",
            "  environment location: /home/aistudio/work\n",
            "\n",
            "  added / updated specs:\n",
            "    - _libgcc_mutex==0.1=main\n",
            "    - asn1crypto==1.3.0=py37_0\n",
            "    - ca-certificates==2020.1.1=0\n",
            "    - certifi==2019.11.28=py37_0\n",
            "    - cffi==1.14.0=py37h2e261b9_0\n",
            "    - chardet==3.0.4=py37_1003\n",
            "    - conda-package-handling==1.6.0=py37h7b6447c_0\n",
            "    - conda==4.8.2=py37_0\n",
            "    - cryptography==2.8=py37h1ba5d50_0\n",
            "    - idna==2.8=py37_0\n",
            "    - ld_impl_linux-64==2.33.1=h53a641e_7\n",
            "    - libedit==3.1.20181209=hc058e9b_0\n",
            "    - libffi==3.2.1=hd88cf55_4\n",
            "    - libgcc-ng==9.1.0=hdf63c60_0\n",
            "    - libstdcxx-ng==9.1.0=hdf63c60_0\n",
            "    - ncurses==6.2=he6710b0_0\n",
            "    - openssl==1.1.1d=h7b6447c_4\n",
            "    - pip==20.0.2=py37_1\n",
            "    - pycosat==0.6.3=py37h7b6447c_0\n",
            "    - pycparser==2.19=py37_0\n",
            "    - pyopenssl==19.1.0=py37_0\n",
            "    - pysocks==1.7.1=py37_0\n",
            "    - python==3.7.6=h0371630_2\n",
            "    - readline==7.0=h7b6447c_5\n",
            "    - requests==2.22.0=py37_1\n",
            "    - ruamel_yaml==0.15.87=py37h7b6447c_0\n",
            "    - setuptools==45.2.0=py37_0\n",
            "    - six==1.14.0=py37_0\n",
            "    - sqlite==3.31.1=h7b6447c_0\n",
            "    - tk==8.6.8=hbc83047_0\n",
            "    - tqdm==4.42.1=py_0\n",
            "    - urllib3==1.25.8=py37_0\n",
            "    - wheel==0.34.2=py37_0\n",
            "    - xz==5.2.4=h14c3975_4\n",
            "    - yaml==0.1.7=had09818_2\n",
            "    - zlib==1.2.11=h7b6447c_3\n",
            "\n",
            "\n",
            "The following packages will be SUPERSEDED by a higher-priority channel:\n",
            "\n",
            "  ca-certificates    conda-forge::ca-certificates-2022.12.~ --> pkgs/main::ca-certificates-2020.1.1-0\n",
            "\n",
            "\n",
            "Preparing transaction: | \b\bdone\n",
            "Executing transaction: - \b\bdone\n",
            "installation finished.\n",
            "WARNING:\n",
            "    You currently have a PYTHONPATH environment variable set. This may cause\n",
            "    unexpected behavior when running the Python interpreter in Miniconda3.\n",
            "    For best results, please verify that your PYTHONPATH only points to\n",
            "    directories of packages that are compatible with the Python interpreter\n",
            "    in Miniconda3: /home/aistudio/work\n"
          ]
        }
      ],
      "source": [
        "! wget https://repo.anaconda.com/miniconda/Miniconda3-py37_4.8.2-Linux-x86_64.sh\n",
        "! chmod +x Miniconda3-py37_4.8.2-Linux-x86_64.sh\n",
        "! bash ./Miniconda3-py37_4.8.2-Linux-x86_64.sh -b -f -p /home/aistudio/work/\n",
        "import sys\n",
        "sys.path.append('/home/aistudio/work/lib/python3.7/site-packages/')"
      ]
    },
    {
      "cell_type": "code",
      "execution_count": 9,
      "metadata": {
        "execution": {
          "iopub.execute_input": "2021-10-17T09:30:42.950431Z",
          "iopub.status.busy": "2021-10-17T09:30:42.950122Z",
          "iopub.status.idle": "2021-10-17T09:31:36.742917Z",
          "shell.execute_reply": "2021-10-17T09:31:36.742146Z",
          "shell.execute_reply.started": "2021-10-17T09:30:42.950386Z"
        },
        "scrolled": true,
        "colab": {
          "base_uri": "https://localhost:8080/"
        },
        "id": "MdLTT9VbhQyi",
        "outputId": "753fa5eb-60cf-4947-e9ab-3bc99dd1753f"
      },
      "outputs": [
        {
          "output_type": "stream",
          "name": "stdout",
          "text": [
            "Collecting package metadata (current_repodata.json): - \b\b\\ \b\b| \b\b/ \b\b- \b\b\\ \b\b| \b\b/ \b\b- \b\b\\ \b\b| \b\b/ \b\b- \b\b\\ \b\b| \b\b/ \b\b- \b\b\\ \b\b| \b\b/ \b\b- \b\b\\ \b\b| \b\b/ \b\b- \b\b\\ \b\b| \b\b/ \b\b- \b\b\\ \b\b| \b\b/ \b\b- \b\b\\ \b\b| \b\b/ \b\b- \b\b\\ \b\b| \b\b/ \b\b- \b\b\\ \b\b| \b\b/ \b\b- \b\b\\ \b\b| \b\b/ \b\b- \b\b\\ \b\b| \b\b/ \b\b- \b\b\\ \b\b| \b\b/ \b\b- \b\b\\ \b\b| \b\b/ \b\b- \b\b\\ \b\b| \b\b/ \b\b- \b\b\\ \b\b| \b\b/ \b\b- \b\b\\ \b\b| \b\b/ \b\b- \b\b\\ \b\b| \b\b/ \b\b- \b\b\\ \b\b| \b\b/ \b\b- \b\b\\ \b\b| \b\b/ \b\b- \b\b\\ \b\b| \b\b/ \b\b- \b\b\\ \b\b| \b\b/ \b\b- \b\b\\ \b\b| \b\b/ \b\b- \b\b\\ \b\b| \b\b/ \b\b- \b\b\\ \b\b| \b\b/ \b\b- \b\b\\ \b\b| \b\b/ \b\b- \b\b\\ \b\b| \b\b/ \b\b- \b\b\\ \b\b| \b\b/ \b\b- \b\b\\ \b\b| \b\b/ \b\b- \b\b\\ \b\b| \b\b/ \b\b- \b\b\\ \b\b| \b\b/ \b\b- \b\b\\ \b\b| \b\b/ \b\b- \b\b\\ \b\b| \b\b/ \b\b- \b\b\\ \b\b| \b\b/ \b\b- \b\b\\ \b\b| \b\b/ \b\b- \b\b\\ \b\b| \b\b/ \b\b- \b\b\\ \b\b| \b\b/ \b\b- \b\b\\ \b\b| \b\b/ \b\b- \b\b\\ \b\b| \b\b/ \b\b- \b\b\\ \b\b| \b\b/ \b\b- \b\b\\ \b\b| \b\b/ \b\b- \b\b\\ \b\b| \b\b/ \b\b- \b\b\\ \b\b| \b\b/ \b\bdone\n",
            "Solving environment: \\ \b\b| \b\b/ \b\b- \b\b\\ \b\b| \b\b/ \b\b- \b\b\\ \b\b| \b\b/ \b\b- \b\b\\ \b\b| \b\b/ \b\b- \b\b\\ \b\b| \b\b/ \b\b- \b\b\\ \b\b| \b\b/ \b\b- \b\b\\ \b\bdone\n",
            "\n",
            "\n",
            "==> WARNING: A newer version of conda exists. <==\n",
            "  current version: 4.14.0\n",
            "  latest version: 22.11.1\n",
            "\n",
            "Please update conda by running\n",
            "\n",
            "    $ conda update -n base -c conda-forge conda\n",
            "\n",
            "\n",
            "\n",
            "## Package Plan ##\n",
            "\n",
            "  environment location: /home/aistudio/work\n",
            "\n",
            "  added / updated specs:\n",
            "    - openmm\n",
            "\n",
            "\n",
            "The following packages will be UPDATED:\n",
            "\n",
            "  ca-certificates     pkgs/main::ca-certificates-2020.1.1-0 --> conda-forge::ca-certificates-2022.12.7-ha878542_0\n",
            "\n",
            "\n",
            "Proceed ([y]/n)? \n",
            "Preparing transaction: / \b\bdone\n",
            "Verifying transaction: \\ \b\bdone\n",
            "Executing transaction: / \b\bdone\n",
            "Retrieving notices: ...working... done\n"
          ]
        }
      ],
      "source": [
        "!yes | /home/aistudio/work/bin/conda install -c conda-forge openmm"
      ]
    },
    {
      "cell_type": "code",
      "execution_count": 10,
      "metadata": {
        "execution": {
          "iopub.execute_input": "2021-10-17T09:23:51.709439Z",
          "iopub.status.busy": "2021-10-17T09:23:51.709115Z",
          "iopub.status.idle": "2021-10-17T09:24:58.881025Z",
          "shell.execute_reply": "2021-10-17T09:24:58.879589Z",
          "shell.execute_reply.started": "2021-10-17T09:23:51.709390Z"
        },
        "scrolled": true,
        "colab": {
          "base_uri": "https://localhost:8080/"
        },
        "id": "-DfqsbVmhQyi",
        "outputId": "8b51e1e3-1f61-44a6-e6f4-d443ce005bc4"
      },
      "outputs": [
        {
          "output_type": "stream",
          "name": "stdout",
          "text": [
            "Collecting package metadata (current_repodata.json): - \b\b\\ \b\b| \b\b/ \b\b- \b\b\\ \b\b| \b\b/ \b\b- \b\b\\ \b\b| \b\b/ \b\b- \b\b\\ \b\b| \b\b/ \b\b- \b\b\\ \b\b| \b\b/ \b\b- \b\b\\ \b\b| \b\b/ \b\b- \b\b\\ \b\b| \b\b/ \b\b- \b\b\\ \b\bdone\n",
            "Solving environment: / \b\b- \b\b\\ \b\b| \b\b/ \b\b- \b\b\\ \b\b| \b\b/ \b\b- \b\b\\ \b\b| \b\b/ \b\b- \b\b\\ \b\b| \b\b/ \b\b- \b\b\\ \b\b| \b\b/ \b\b- \b\b\\ \b\bdone\n",
            "\n",
            "\n",
            "==> WARNING: A newer version of conda exists. <==\n",
            "  current version: 4.14.0\n",
            "  latest version: 22.11.1\n",
            "\n",
            "Please update conda by running\n",
            "\n",
            "    $ conda update -n base -c conda-forge conda\n",
            "\n",
            "\n",
            "\n",
            "# All requested packages already installed.\n",
            "\n",
            "Retrieving notices: ...working... done\n"
          ]
        }
      ],
      "source": [
        "!yes | /home/aistudio/work/bin/conda install -c conda-forge pdbfixer"
      ]
    },
    {
      "cell_type": "markdown",
      "metadata": {
        "id": "DVEbkxufhQyj"
      },
      "source": [
        "# 3.安装成功验证"
      ]
    },
    {
      "cell_type": "code",
      "execution_count": 4,
      "metadata": {
        "execution": {
          "iopub.execute_input": "2021-10-14T13:52:35.384200Z",
          "iopub.status.busy": "2021-10-14T13:52:35.383775Z",
          "iopub.status.idle": "2021-10-14T13:52:35.999252Z",
          "shell.execute_reply": "2021-10-14T13:52:35.998000Z",
          "shell.execute_reply.started": "2021-10-14T13:52:35.384135Z"
        },
        "colab": {
          "base_uri": "https://localhost:8080/"
        },
        "id": "en5Bd3ckhQyj",
        "outputId": "ccefeee4-76c6-4395-a1a7-cd013a1d3890"
      },
      "outputs": [
        {
          "output_type": "stream",
          "name": "stdout",
          "text": [
            "Usage: pdbfixer\n",
            "       pdbfixer filename [options] \n",
            "\n",
            "When run with no arguments, it launches the user interface.  If any arguments are specified, it runs in command line mode.\n",
            "\n",
            "Options:\n",
            "  -h, --help            show this help message and exit\n",
            "  --pdbid=PDBID         PDB id to retrieve from RCSB [default: None]\n",
            "  --url=URL             URL to retrieve PDB from [default: None]\n",
            "  --output=FILENAME     output pdb file [default: output.pdb]\n",
            "  --add-atoms=ATOMS     which missing atoms to add: all, heavy, hydrogen, or\n",
            "                        none [default: all]\n",
            "  --keep-heterogens=OPTION\n",
            "                        which heterogens to keep: all, water, or none\n",
            "                        [default: all]\n",
            "  --replace-nonstandard\n",
            "                        replace nonstandard residues with standard equivalents\n",
            "  --add-residues        add missing residues\n",
            "  --water-box=X Y Z     add a water box. The value is the box dimensions in nm\n",
            "                        [example: --water-box=2.5 2.4 3.0]\n",
            "  --ph=PH               the pH to use for adding missing hydrogens [default:\n",
            "                        7.0]\n",
            "  --positive-ion=ION    positive ion to include in the water box: Cs+, K+,\n",
            "                        Li+, Na+, or Rb+ [default: Na+]\n",
            "  --negative-ion=ION    negative ion to include in the water box: Cl-, Br-,\n",
            "                        F-, or I- [default: Cl-]\n",
            "  --ionic-strength=STRENGTH\n",
            "                        molar concentration of ions to add to the water box\n",
            "                        [default: 0.0]\n",
            "  --verbose             Print verbose output\n"
          ]
        }
      ],
      "source": [
        "!/home/aistudio/work/bin/pdbfixer --help"
      ]
    },
    {
      "cell_type": "code",
      "execution_count": 5,
      "metadata": {
        "execution": {
          "iopub.execute_input": "2021-10-14T13:52:53.739458Z",
          "iopub.status.busy": "2021-10-14T13:52:53.738597Z",
          "iopub.status.idle": "2021-10-14T13:53:24.168555Z",
          "shell.execute_reply": "2021-10-14T13:53:24.166859Z",
          "shell.execute_reply.started": "2021-10-14T13:52:53.739120Z"
        },
        "colab": {
          "base_uri": "https://localhost:8080/"
        },
        "id": "xzH1G92-hQyj",
        "outputId": "bfa536fb-41ae-4f2c-d3a4-2671016b9c7d"
      },
      "outputs": [
        {
          "output_type": "stream",
          "name": "stdout",
          "text": [
            "--2023-02-01 01:12:21--  https://files.rcsb.org/download/7L10.pdb\n",
            "Resolving files.rcsb.org (files.rcsb.org)... 128.6.158.70\n",
            "Connecting to files.rcsb.org (files.rcsb.org)|128.6.158.70|:443... connected.\n",
            "HTTP request sent, awaiting response... 200 OK\n",
            "Length: unspecified [application/octet-stream]\n",
            "Saving to: ‘7L10.pdb’\n",
            "\n",
            "\r7L10.pdb                [<=>                 ]       0  --.-KB/s               \r7L10.pdb                [ <=>                ] 241.42K  --.-KB/s    in 0.07s   \n",
            "\n",
            "2023-02-01 01:12:22 (3.19 MB/s) - ‘7L10.pdb’ saved [247212]\n",
            "\n"
          ]
        }
      ],
      "source": [
        "!wget https://files.rcsb.org/download/7L10.pdb"
      ]
    },
    {
      "cell_type": "code",
      "execution_count": 7,
      "metadata": {
        "execution": {
          "iopub.execute_input": "2021-10-14T14:03:55.376689Z",
          "iopub.status.busy": "2021-10-14T14:03:55.376277Z"
        },
        "colab": {
          "base_uri": "https://localhost:8080/"
        },
        "id": "eKvj30K-hQyj",
        "outputId": "5c66c734-5a75-4fd1-de58-194945619716"
      },
      "outputs": [
        {
          "output_type": "stream",
          "name": "stdout",
          "text": [
            "Warning: importing 'simtk.openmm' is deprecated.  Import 'openmm' instead.\n"
          ]
        }
      ],
      "source": [
        "!/home/aistudio/work/bin/pdbfixer  7L10.pdb --ph=7  --replace-nonstandard --add-residues "
      ]
    }
  ],
  "metadata": {
    "kernelspec": {
      "display_name": "Python 3",
      "language": "python",
      "name": "py35-paddle1.2.0"
    },
    "language_info": {
      "codemirror_mode": {
        "name": "ipython",
        "version": 3
      },
      "file_extension": ".py",
      "mimetype": "text/x-python",
      "name": "python",
      "nbconvert_exporter": "python",
      "pygments_lexer": "ipython3",
      "version": "3.7.4"
    },
    "colab": {
      "provenance": []
    }
  },
  "nbformat": 4,
  "nbformat_minor": 0
}