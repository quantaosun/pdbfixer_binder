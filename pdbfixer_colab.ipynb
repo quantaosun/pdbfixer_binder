{
  "cells": [
    {
      "cell_type": "markdown",
      "source": [
        "# Protein Ligand Interaction Diagram Generator\n",
        "\n",
        "## Essiencially, this is a free protein preparation process, and at last you will get the prepared structure named as \n",
        "```complex_prepared.pdb``` \n",
        "## while the 2D interaction is just inside this notebook which is online, you can just copy and paste it to anywhere you want.\n",
        "\n",
        "- This workflow allow you to input a PDB bank protein-ligand co-crystal structure.\n",
        "- The structure will be splited and prepared separately\n",
        "- The prepared structures then combined again\n",
        "- The 2D interaction is draw based on the merged structure\n",
        "- The user is expected to provide the PDB ID and the ligand name as per in the PDB database which can be found on small molecule section of the PDB main page of the corresponding structure"
      ],
      "metadata": {
        "id": "onNJ9LWWznMC"
      }
    },
    {
      "cell_type": "code",
      "execution_count": 33,
      "metadata": {
        "cellView": "form",
        "colab": {
          "base_uri": "https://localhost:8080/"
        },
        "id": "s5B8su8nB0mS",
        "outputId": "67bb4a1a-74eb-45a1-b762-6b695893347a"
      },
      "outputs": [
        {
          "output_type": "stream",
          "name": "stdout",
          "text": [
            "--2023-02-01 09:20:32--  https://files.rcsb.org/download/6NZP.pdb\n",
            "Resolving files.rcsb.org (files.rcsb.org)... 132.249.210.134\n",
            "Connecting to files.rcsb.org (files.rcsb.org)|132.249.210.134|:443... connected.\n",
            "HTTP request sent, awaiting response... 200 OK\n",
            "Length: unspecified [application/octet-stream]\n",
            "Saving to: ‘6NZP.pdb.1’\n",
            "\n",
            "6NZP.pdb.1              [   <=>              ] 390.52K   752KB/s    in 0.5s    \n",
            "\n",
            "2023-02-01 09:20:33 (752 KB/s) - ‘6NZP.pdb.1’ saved [399897]\n",
            "\n"
          ]
        }
      ],
      "source": [
        "#@title Input expected from the user\n",
        "PDB_ID = \"6NZP\" #@param {type:\"string\"}\n",
        "pdb = PDB_ID + \".pdb\"\n",
        "! wget https://files.rcsb.org/download/$pdb\n",
        "#@title Ligand three-letter name\n",
        "Ligand = \"LB7\" #@param {type:\"string\"}\n"
      ]
    },
    {
      "cell_type": "markdown",
      "source": [
        "# Install Conda"
      ],
      "metadata": {
        "id": "a4WNaxHtzsrg"
      }
    },
    {
      "cell_type": "code",
      "execution_count": 28,
      "metadata": {
        "execution": {
          "iopub.execute_input": "2021-10-17T09:46:47.190602Z",
          "iopub.status.busy": "2021-10-17T09:46:47.190226Z"
        },
        "colab": {
          "base_uri": "https://localhost:8080/"
        },
        "id": "n-T9DTZWhQyh",
        "outputId": "b66dffa1-d0b0-41be-eaf3-a7629bdd690d"
      },
      "outputs": [
        {
          "output_type": "stream",
          "name": "stdout",
          "text": [
            "\u001b[33mWARNING: Running pip as the 'root' user can result in broken permissions and conflicting behaviour with the system package manager. It is recommended to use a virtual environment instead: https://pip.pypa.io/warnings/venv\u001b[0m\u001b[33m\n",
            "\u001b[0m✨🍰✨ Everything looks OK!\n"
          ]
        }
      ],
      "source": [
        "!pip install -q condacolab\n",
        "import condacolab\n",
        "condacolab.install()"
      ]
    },
    {
      "cell_type": "markdown",
      "source": [
        "# Install dependencies"
      ],
      "metadata": {
        "id": "DzAOumhnzfV_"
      }
    },
    {
      "cell_type": "code",
      "execution_count": 29,
      "metadata": {
        "execution": {
          "iopub.execute_input": "2021-10-17T09:30:42.950431Z",
          "iopub.status.busy": "2021-10-17T09:30:42.950122Z",
          "iopub.status.idle": "2021-10-17T09:31:36.742917Z",
          "shell.execute_reply": "2021-10-17T09:31:36.742146Z",
          "shell.execute_reply.started": "2021-10-17T09:30:42.950386Z"
        },
        "scrolled": true,
        "id": "MdLTT9VbhQyi",
        "outputId": "fd4d1baa-da0f-4f1f-fe72-45a0cd6572d2",
        "colab": {
          "base_uri": "https://localhost:8080/"
        }
      },
      "outputs": [
        {
          "output_type": "stream",
          "name": "stdout",
          "text": [
            "Collecting package metadata (current_repodata.json): - \b\b\\ \b\b| \b\b/ \b\b- \b\b\\ \b\b| \b\b/ \b\b- \b\b\\ \b\b| \b\b/ \b\b- \b\b\\ \b\b| \b\b/ \b\b- \b\b\\ \b\b| \b\b/ \b\b- \b\b\\ \b\b| \b\b/ \b\b- \b\b\\ \b\b| \b\b/ \b\b- \b\b\\ \b\b| \b\b/ \b\b- \b\b\\ \b\b| \b\b/ \b\b- \b\b\\ \b\b| \b\b/ \b\b- \b\b\\ \b\b| \b\b/ \b\b- \b\b\\ \b\b| \b\b/ \b\b- \b\b\\ \b\b| \b\b/ \b\b- \b\b\\ \b\b| \b\b/ \b\b- \b\b\\ \b\b| \b\b/ \b\b- \b\b\\ \b\b| \b\b/ \b\b- \b\b\\ \b\b| \b\b/ \b\b- \b\b\\ \b\b| \b\b/ \b\b- \b\b\\ \b\b| \b\b/ \b\b- \b\b\\ \b\b| \b\b/ \b\b- \b\b\\ \b\b| \b\b/ \b\b- \b\b\\ \b\b| \b\b/ \b\b- \b\b\\ \b\b| \b\b/ \b\b- \b\b\\ \b\b| \b\b/ \b\b- \b\b\\ \b\b| \b\b/ \b\b- \b\b\\ \b\b| \b\b/ \b\b- \b\b\\ \b\b| \b\b/ \b\b- \b\b\\ \b\b| \b\b/ \b\b- \b\b\\ \b\b| \b\b/ \b\b- \b\b\\ \b\b| \b\b/ \b\b- \b\b\\ \b\b| \b\b/ \b\b- \b\b\\ \b\b| \b\b/ \b\b- \b\b\\ \b\b| \b\b/ \b\b- \b\b\\ \b\b| \b\b/ \b\b- \b\b\\ \b\b| \b\b/ \b\b- \b\b\\ \b\b| \b\b/ \b\b- \b\b\\ \b\b| \b\b/ \b\b- \b\b\\ \b\b| \b\b/ \b\b- \b\b\\ \b\b| \b\b/ \b\b- \b\b\\ \b\b| \b\b/ \b\b- \b\b\\ \b\b| \b\b/ \b\b- \b\b\\ \b\b| \b\b/ \b\b- \b\b\\ \b\b| \b\b/ \b\b- \b\b\\ \b\b| \b\b/ \b\b- \b\b\\ \b\b| \b\b/ \b\bdone\n",
            "Solving environment: \\ \b\b| \b\b/ \b\b- \b\b\\ \b\b| \b\b/ \b\b- \b\b\\ \b\b| \b\b/ \b\b- \b\b\\ \b\b| \b\b/ \b\b- \b\b\\ \b\b| \b\b/ \b\b- \b\b\\ \b\b| \b\b/ \b\b- \b\b\\ \b\b| \b\b/ \b\b- \b\b\\ \b\b| \b\b/ \b\b- \b\b\\ \b\b| \b\b/ \b\b- \b\b\\ \b\b| \b\b/ \b\b- \b\b\\ \b\b| \b\b/ \b\b- \b\b\\ \b\b| \b\b/ \b\b- \b\b\\ \b\b| \b\b/ \b\b- \b\b\\ \b\b| \b\b/ \b\b- \b\b\\ \b\b| \b\b/ \b\b- \b\b\\ \b\b| \b\b/ \b\b- \b\bdone\n",
            "\n",
            "# All requested packages already installed.\n",
            "\n",
            "Collecting package metadata (current_repodata.json): - \b\b\\ \b\b| \b\b/ \b\b- \b\b\\ \b\b| \b\b/ \b\b- \b\b\\ \b\b| \b\b/ \b\b- \b\b\\ \b\b| \b\b/ \b\b- \b\b\\ \b\b| \b\b/ \b\b- \b\b\\ \b\b| \b\b/ \b\b- \b\b\\ \b\bdone\n",
            "Solving environment: / \b\b- \b\b\\ \b\b| \b\b/ \b\b- \b\b\\ \b\b| \b\b/ \b\b- \b\b\\ \b\b| \b\b/ \b\b- \b\b\\ \b\b| \b\b/ \b\b- \b\b\\ \b\b| \b\b/ \b\b- \b\b\\ \b\b| \b\b/ \b\b- \b\b\\ \b\b| \b\b/ \b\b- \b\b\\ \b\b| \b\b/ \b\b- \b\b\\ \b\b| \b\b/ \b\b- \b\b\\ \b\b| \b\b/ \b\b- \b\b\\ \b\b| \b\b/ \b\b- \b\b\\ \b\b| \b\b/ \b\b- \b\b\\ \b\b| \b\b/ \b\b- \b\b\\ \b\b| \b\b/ \b\b- \b\b\\ \b\b| \b\b/ \b\b- \b\b\\ \b\bdone\n",
            "\n",
            "# All requested packages already installed.\n",
            "\n"
          ]
        }
      ],
      "source": [
        "!conda install -c conda-forge openmm -y\n",
        "!conda install -c conda-forge pdbfixer -y\n",
        "!yes|conda install -c conda-forge pymol-open-source 2>&1 1>/dev/null\n",
        "!conda install -c rdkit rdkit -y 2>&1 1>/dev/null\n",
        "!conda install -q -y -c openbabel openbabel 2>&1 1>/dev/null\n",
        "!conda install -c conda-forge mdanalysis 2>&1 1>/dev/null\n",
        "!conda install -c conda-forge prolif 2>&1 1>/dev/null"
      ]
    },
    {
      "cell_type": "code",
      "source": [
        "import sys\n",
        "import os\n",
        "from rdkit import Chem\n",
        "from rdkit.Chem import AllChem\n",
        "from rdkit.Chem import Draw\n",
        "from rdkit.Chem.Draw import IPythonConsole\n",
        "from rdkit.Chem import DataStructs\n",
        "from rdkit.Chem import RDConfig\n",
        "from rdkit.Chem import rdBase\n",
        "print(rdBase.rdkitVersion)\n",
        "from openbabel import pybel\n",
        "import MDAnalysis as mda\n",
        "import prolif as plf"
      ],
      "metadata": {
        "colab": {
          "base_uri": "https://localhost:8080/"
        },
        "id": "ZddkDoYUbYQf",
        "outputId": "0ea70b80-7586-4f70-f490-a1ef6183134b"
      },
      "execution_count": 83,
      "outputs": [
        {
          "output_type": "stream",
          "name": "stdout",
          "text": [
            "2022.09.4\n"
          ]
        }
      ]
    },
    {
      "cell_type": "markdown",
      "source": [
        "# Write out a Pytmol script that can split protein and ligand\n",
        "Only Chain A retained"
      ],
      "metadata": {
        "id": "oSy3j1SjzSCq"
      }
    },
    {
      "cell_type": "code",
      "execution_count": 61,
      "metadata": {
        "id": "nbHM8p20i7pD"
      },
      "outputs": [],
      "source": [
        "#@title Write out a script for pymol\n",
        "com_file = open('split.pml','w')\n",
        "com_file.write('''\n",
        "load 3HTB.pdb\n",
        "remove not chain A\n",
        "remove resn HOH\n",
        "h_add elem O or elem N\n",
        "select 3HTB-JZ4, resn JZ4 #Create a selection called 1OYT-FSN from the ligand\n",
        "select 3HTB-receptor, 3HTB and not 3HTB-JZ4 #Select all that is not the ligand\n",
        "save 3HTB-JZ4.pdb, 3HTB-JZ4\n",
        "save 3HTB-receptor.pdb, 3HTB-receptor    \n",
        "''')\n",
        "com_file.close()"
      ]
    },
    {
      "cell_type": "code",
      "source": [
        "#@title Correct the script with right PDB ID and ligand name\n",
        "!sed -i 's/3HTB/{PDB_ID}/g' split.pml\n",
        "!sed 's/JZ4/{Ligand}/g' split.pml\n",
        "!sed -i 's/JZ4/{Ligand}/g' split.pml"
      ],
      "metadata": {
        "id": "Gpjf85fDeTf5",
        "colab": {
          "base_uri": "https://localhost:8080/"
        },
        "outputId": "04e2cb71-9525-45d7-d2fc-756155815e2e"
      },
      "execution_count": 62,
      "outputs": [
        {
          "output_type": "stream",
          "name": "stdout",
          "text": [
            "\n",
            "load 6NZP.pdb\n",
            "remove not chain A\n",
            "remove resn HOH\n",
            "h_add elem O or elem N\n",
            "select 6NZP-LB7, resn LB7 #Create a selection called 1OYT-FSN from the ligand\n",
            "select 6NZP-receptor, 6NZP and not 6NZP-LB7 #Select all that is not the ligand\n",
            "save 6NZP-LB7.pdb, 6NZP-LB7\n",
            "save 6NZP-receptor.pdb, 6NZP-receptor    \n"
          ]
        }
      ]
    },
    {
      "cell_type": "code",
      "execution_count": 63,
      "metadata": {
        "id": "scOeFAqYi7pD",
        "outputId": "94fe2fdf-e246-47c6-8dc4-8a515927eae0",
        "colab": {
          "base_uri": "https://localhost:8080/"
        }
      },
      "outputs": [
        {
          "output_type": "stream",
          "name": "stdout",
          "text": [
            " PyMOL(TM) Molecular Graphics System, Version 2.5.0.\n",
            " Copyright (c) Schrodinger, LLC.\n",
            " All Rights Reserved.\n",
            " \n",
            "    Created by Warren L. DeLano, Ph.D. \n",
            " \n",
            "    PyMOL is user-supported open-source software.  Although some versions\n",
            "    are freely available, PyMOL is not in the public domain.\n",
            " \n",
            "    If PyMOL is helpful in your work or study, then please volunteer \n",
            "    support for our ongoing efforts to create open and affordable scientific\n",
            "    software by purchasing a PyMOL Maintenance and/or Support subscription.\n",
            "\n",
            "    More information can be found at \"http://www.pymol.org\".\n",
            " \n",
            "    Enter \"help\" for a list of commands.\n",
            "    Enter \"help <command-name>\" for information on a specific command.\n",
            "\n",
            " Hit ESC anytime to toggle between text and graphics.\n",
            "\n",
            " Detected 2 CPU cores.  Enabled multithreaded rendering.\n",
            "PyMOL>load 6NZP.pdb\n",
            "HEADER    TRANSFERASE                             14-FEB-19   6NZP\n",
            "TITLE     CRYSTAL STRUCTURE OF TYROSINE KINASE 2 JH2 (PSEUDO KINASE DOMAIN)\n",
            "TITLE    2 COMPLEXED WITH COMPOUND-11 AKA 6-CYCLOPROPANEAMIDO-4-{[2-METHOXY-3-\n",
            "TITLE    3 (1-METHYL-1H-1,2,4-TRI AZOL-3-YL)PHENYL]AMINO}-N-(?H?)\n",
            "TITLE    4 METHYLPYRIDAZINE-3-CARBOXAMIDE\n",
            "COMPND    MOL_ID: 1;\n",
            "COMPND   2 MOLECULE: NON-RECEPTOR TYROSINE-PROTEIN KINASE TYK2;\n",
            "COMPND   3 CHAIN: A, B;\n",
            "COMPND   4 FRAGMENT: PSEUDO KINASE DOMAIN, RESIDUES 575-869;\n",
            "COMPND   5 EC: 2.7.10.2;\n",
            "COMPND   6 ENGINEERED: YES\n",
            " ObjectMolecule: Read secondary structure assignments.\n",
            " ObjectMolecule: Read crystal symmetry information.\n",
            " CmdLoad: \"\" loaded as \"6NZP\".\n",
            "PyMOL>remove not chain A\n",
            " Remove: eliminated 2107 atoms in model \"6NZP\".\n",
            "PyMOL>remove resn HOH\n",
            " Remove: eliminated 39 atoms in model \"6NZP\".\n",
            "PyMOL>h_add elem O or elem N\n",
            "PyMOL>select 6NZP-LB7, resn LB7 #Create a selection called 1OYT-FSN from the ligand\n",
            " Selector: selection \"6NZP-LB7\" defined with 53 atoms.\n",
            "PyMOL>select 6NZP-receptor, 6NZP and not 6NZP-LB7 #Select all that is not the ligand\n",
            " Selector: selection \"6NZP-receptor\" defined with 2442 atoms.\n",
            "PyMOL>save 6NZP-LB7.pdb, 6NZP-LB7\n",
            " Save: wrote \"6NZP-LB7.pdb\".\n",
            "PyMOL>save 6NZP-receptor.pdb, 6NZP-receptor\n",
            " Save: wrote \"6NZP-receptor.pdb\".\n"
          ]
        }
      ],
      "source": [
        "#@title Run pymol to split protein and native ligand\n",
        "!pymol -c split.pml"
      ]
    },
    {
      "cell_type": "markdown",
      "source": [
        "# Splited protein and ligand is allocated to 2 variables, respectively"
      ],
      "metadata": {
        "id": "lm4nqzovy9-I"
      }
    },
    {
      "cell_type": "code",
      "source": [
        "Protein_PDB_file_name = PDB_ID + '-receptor.pdb'\n",
        "ligand_name = PDB_ID + '-' + Ligand + '.pdb'"
      ],
      "metadata": {
        "id": "-JvvUwiNrsQB"
      },
      "execution_count": 78,
      "outputs": []
    },
    {
      "cell_type": "markdown",
      "source": [
        "# ligand name is to changed to LIG as a general variable"
      ],
      "metadata": {
        "id": "H7wLZN6qvmx8"
      }
    },
    {
      "cell_type": "code",
      "source": [
        "!sed -i 's/{Ligand}/LIG/g' {ligand_name}"
      ],
      "metadata": {
        "id": "jpwPxgOMu7nn"
      },
      "execution_count": 98,
      "outputs": []
    },
    {
      "cell_type": "markdown",
      "source": [
        "# Prepare the protein only"
      ],
      "metadata": {
        "id": "XG7x0Ti8x--3"
      }
    },
    {
      "cell_type": "code",
      "source": [
        "from pdbfixer import PDBFixer\n",
        "from openmm.app import PDBFile\n",
        "fixer = PDBFixer(filename=Protein_PDB_file_name)\n",
        "fixer.findMissingResidues()\n",
        "fixer.findNonstandardResidues()\n",
        "fixer.replaceNonstandardResidues()\n",
        "fixer.removeHeterogens(True)\n",
        "fixer.findMissingAtoms()\n",
        "fixer.addMissingAtoms()\n",
        "fixer.addMissingHydrogens(7.0)\n",
        "fixer.addSolvent(fixer.topology.getUnitCellDimensions())\n",
        "PDBFile.writeFile(fixer.topology, fixer.positions, open('output.pdb', 'w'))"
      ],
      "metadata": {
        "id": "cs1lB2W8YGni"
      },
      "execution_count": 82,
      "outputs": []
    },
    {
      "cell_type": "markdown",
      "source": [
        "# Prepare the ligand\n",
        "This give the ligand correct H atoms since they do not exist in PDB bank, also give ligand correct charges"
      ],
      "metadata": {
        "id": "MZ-MieIqyFPW"
      }
    },
    {
      "cell_type": "code",
      "source": [
        "m=Chem.MolFromPDBFile(ligand_name)\n",
        "Draw.MolToImage(m)"
      ],
      "metadata": {
        "colab": {
          "base_uri": "https://localhost:8080/",
          "height": 317
        },
        "id": "gfJPH3rWbBCs",
        "outputId": "6caa111a-1ef8-4c4d-bbc3-4abe1e0e9fbc"
      },
      "execution_count": 114,
      "outputs": [
        {
          "output_type": "execute_result",
          "data": {
            "text/plain": [
              "<PIL.PngImagePlugin.PngImageFile image mode=RGB size=300x300 at 0x7F2F50AA2520>"
            ],
            "image/png": "[encoded data removed]"
          },
          "metadata": {},
          "execution_count": 114
        }
      ]
    },
    {
      "cell_type": "code",
      "source": [
        "!obabel -ipdb {ligand_name} -omol2 -O ligand.mol2 -h"
      ],
      "metadata": {
        "colab": {
          "base_uri": "https://localhost:8080/"
        },
        "id": "k76ASzZ-cEwk",
        "outputId": "519cd275-b3db-44fa-dc07-07be4350b163"
      },
      "execution_count": 115,
      "outputs": [
        {
          "output_type": "stream",
          "name": "stdout",
          "text": [
            "1 molecule converted\n"
          ]
        }
      ]
    },
    {
      "cell_type": "code",
      "source": [
        "m=Chem.MolFromMol2File('ligand.mol2',sanitize=False)\n",
        "Draw.MolToImage(m)"
      ],
      "metadata": {
        "colab": {
          "base_uri": "https://localhost:8080/",
          "height": 317
        },
        "id": "j0ANIjfzcXnd",
        "outputId": "597b35b2-bf0c-4fbc-9c09-15d11c3e9d1d"
      },
      "execution_count": 116,
      "outputs": [
        {
          "output_type": "execute_result",
          "data": {
            "text/plain": [
              "<PIL.PngImagePlugin.PngImageFile image mode=RGB size=300x300 at 0x7F2F31311F70>"
            ],
            "image/png": "[encoded data removed]"
          },
          "metadata": {},
          "execution_count": 116
        }
      ]
    },
    {
      "cell_type": "code",
      "source": [
        "#mol= [m for m in pybel.readfile(filename='ligand.mol2',format='mol2')][0]\n",
        "#mol.addh()\n",
        "#out=pybel.Outputfile(filename='ligand2.mol2',format='mol2',overwrite=True)\n",
        "#out.write(mol)\n",
        "#out.close()"
      ],
      "metadata": {
        "id": "17renKy9YbR0"
      },
      "execution_count": 102,
      "outputs": []
    },
    {
      "cell_type": "code",
      "source": [
        "#m=Chem.MolFromMol2File('ligand2.mol2',sanitize=False)\n",
        "#Draw.MolToImage(m)"
      ],
      "metadata": {
        "colab": {
          "base_uri": "https://localhost:8080/",
          "height": 317
        },
        "id": "Pg7ibNSFd-SN",
        "outputId": "1d8890ba-eed5-4280-f12e-6fecead8ee62"
      },
      "execution_count": 103,
      "outputs": [
        {
          "output_type": "execute_result",
          "data": {
            "text/plain": [
              "<PIL.PngImagePlugin.PngImageFile image mode=RGB size=300x300 at 0x7F2F5113AA30>"
            ],
            "image/png": "[encoded data removed]"
          },
          "metadata": {},
          "execution_count": 103
        }
      ]
    },
    {
      "cell_type": "code",
      "source": [
        "!obabel -imol2 ligand.mol2 -opdb -O ligand2.pdb -h"
      ],
      "metadata": {
        "colab": {
          "base_uri": "https://localhost:8080/"
        },
        "id": "4wFaiEgxe9Rh",
        "outputId": "fcae702b-babd-4728-9c03-fa0864da8436"
      },
      "execution_count": 117,
      "outputs": [
        {
          "output_type": "stream",
          "name": "stdout",
          "text": [
            "1 molecule converted\n"
          ]
        }
      ]
    },
    {
      "cell_type": "code",
      "source": [
        "m=Chem.MolFromPDBFile('ligand2.pdb')\n",
        "Draw.MolToImage(m)"
      ],
      "metadata": {
        "colab": {
          "base_uri": "https://localhost:8080/",
          "height": 317
        },
        "id": "R22q7xekfMv2",
        "outputId": "7ec6660a-8374-4bca-a5ea-a9ad269da56f"
      },
      "execution_count": 119,
      "outputs": [
        {
          "output_type": "execute_result",
          "data": {
            "text/plain": [
              "<PIL.PngImagePlugin.PngImageFile image mode=RGB size=300x300 at 0x7F2F34133610>"
            ],
            "image/png": "[encoded data removed]"
          },
          "metadata": {},
          "execution_count": 119
        }
      ]
    },
    {
      "cell_type": "code",
      "source": [
        "# Save the ligand and prepared protein together"
      ],
      "metadata": {
        "id": "YH9gy8LZeJXV"
      },
      "execution_count": null,
      "outputs": []
    },
    {
      "cell_type": "markdown",
      "source": [
        "# Merge the prepared protein and ligand again"
      ],
      "metadata": {
        "id": "ksUEI76nyNZv"
      }
    },
    {
      "cell_type": "code",
      "source": [
        "#@title Write out a script for pymol\n",
        "com_file = open('merge.pml','w')\n",
        "com_file.write('''\n",
        "load output.pdb\n",
        "load ligand2.pdb\n",
        "h_add elem O or elem N\n",
        "save complex_prepared.pdb, all   \n",
        "''')\n",
        "com_file.close()"
      ],
      "metadata": {
        "id": "yAj07OH6eJeF"
      },
      "execution_count": 125,
      "outputs": []
    },
    {
      "cell_type": "code",
      "source": [
        "!pymol -c merge.pml"
      ],
      "metadata": {
        "id": "95QFba_ceJnN",
        "outputId": "cbde0f11-9748-4842-cf7b-4d33dfe18e75",
        "colab": {
          "base_uri": "https://localhost:8080/"
        }
      },
      "execution_count": 126,
      "outputs": [
        {
          "output_type": "stream",
          "name": "stdout",
          "text": [
            " PyMOL(TM) Molecular Graphics System, Version 2.5.0.\n",
            " Copyright (c) Schrodinger, LLC.\n",
            " All Rights Reserved.\n",
            " \n",
            "    Created by Warren L. DeLano, Ph.D. \n",
            " \n",
            "    PyMOL is user-supported open-source software.  Although some versions\n",
            "    are freely available, PyMOL is not in the public domain.\n",
            " \n",
            "    If PyMOL is helpful in your work or study, then please volunteer \n",
            "    support for our ongoing efforts to create open and affordable scientific\n",
            "    software by purchasing a PyMOL Maintenance and/or Support subscription.\n",
            "\n",
            "    More information can be found at \"http://www.pymol.org\".\n",
            " \n",
            "    Enter \"help\" for a list of commands.\n",
            "    Enter \"help <command-name>\" for information on a specific command.\n",
            "\n",
            " Hit ESC anytime to toggle between text and graphics.\n",
            "\n",
            " Detected 2 CPU cores.  Enabled multithreaded rendering.\n",
            "PyMOL>load output.pdb\n",
            " ObjectMolecule: Read crystal symmetry information.\n",
            " CmdLoad: \"\" loaded as \"output\".\n",
            "PyMOL>load ligand2.pdb\n",
            "COMPND    6NZP-LB7.pdb\n",
            " CmdLoad: \"\" loaded as \"ligand2\".\n",
            "PyMOL>h_add elem O or elem N\n",
            "PyMOL>save complex_prepared.pdb, all\n",
            " Save: wrote \"complex_prepared.pdb\".\n"
          ]
        }
      ]
    },
    {
      "cell_type": "markdown",
      "source": [
        "# Read the merged complex into MDAnalysis as an python object\n",
        "Allocate two Rdkit variables to ligand and protein, respectively"
      ],
      "metadata": {
        "id": "_DKWhnMVyTB9"
      }
    },
    {
      "cell_type": "code",
      "source": [
        "import numpy as np\n",
        "# load topology\n",
        "u = mda.Universe('complex_prepared.pdb')\n",
        "lig = u.select_atoms(\"resname LIG\")\n",
        "prot = u.select_atoms(\"protein\")"
      ],
      "metadata": {
        "id": "-aZJe8mAimF4"
      },
      "execution_count": 128,
      "outputs": []
    },
    {
      "cell_type": "markdown",
      "source": [
        "# Show a 2D ligand\n",
        "This is done with Rdkit"
      ],
      "metadata": {
        "id": "Qajver0Uyoju"
      }
    },
    {
      "cell_type": "code",
      "source": [
        "from rdkit import Chem\n",
        "from rdkit.Chem import Draw\n",
        "\n",
        "# create a molecule from the MDAnalysis selection\n",
        "lmol = plf.Molecule.from_mda(lig)\n",
        "# cleanup before drawing\n",
        "mol = Chem.RemoveHs(lmol)\n",
        "mol.RemoveAllConformers()\n",
        "Draw.MolToImage(mol, size=(400, 200))"
      ],
      "metadata": {
        "colab": {
          "base_uri": "https://localhost:8080/",
          "height": 217
        },
        "id": "JNcvWmG8kEmT",
        "outputId": "f974e75a-ff55-42ab-c3ae-2797ef8ae629"
      },
      "execution_count": 129,
      "outputs": [
        {
          "output_type": "execute_result",
          "data": {
            "text/plain": [
              "<PIL.PngImagePlugin.PngImageFile image mode=RGB size=400x200 at 0x7F2F4CE056A0>"
            ],
            "image/png": "[encoded data removed]"
          },
          "metadata": {},
          "execution_count": 129
        }
      ]
    },
    {
      "cell_type": "markdown",
      "source": [
        "# Show the 2D interaction between protein and ligand\n",
        "This is done by ProLif"
      ],
      "metadata": {
        "id": "9kujsuMGyvCu"
      }
    },
    {
      "cell_type": "code",
      "source": [
        "from prolif.plotting.network import LigNetwork\n",
        "\n",
        "fp = plf.Fingerprint()\n",
        "fp.run(u.trajectory[::10], lig, prot)\n",
        "df = fp.to_dataframe(return_atoms=True)\n",
        "\n",
        "net = LigNetwork.from_ifp(\n",
        "    df,\n",
        "    lmol,\n",
        "    # replace with `kind=\"frame\", frame=0` for the other depiction\n",
        "    kind=\"aggregate\",\n",
        "    threshold=0.3,\n",
        "    rotation=270,\n",
        ")\n",
        "net.display()"
      ],
      "metadata": {
        "colab": {
          "base_uri": "https://localhost:8080/",
          "height": 773,
          "referenced_widgets": [
            "df170e25560e496cbe0e51f3ea3aee04",
            "d02f75ce59fe4128a3ba578029f79c53",
            "582a90fa1f76427498fcc5cd04ea12fa",
            "d66238619f29446ebe4520d1b7ec52ec",
            "627f473edb044962adc21e92e459bcf6",
            "6d2f73e5e10145e1a31ac807e840bf45",
            "2db2df992e8349999957c66d5fe01c91",
            "291a9a07da734207a538b665f0fcebd0",
            "bd5fb7ecd2824652bb2b4c39e0a73585",
            "edf5caec5497493e903f3c310df6f2c4",
            "b023df6fd9744b1ea351bdebb1f74201"
          ]
        },
        "id": "4aVukh4EimKF",
        "outputId": "bff5af80-39b9-4f87-cdba-1c2fd307ca05"
      },
      "execution_count": 130,
      "outputs": [
        {
          "output_type": "display_data",
          "data": {
            "text/plain": [
              "  0%|          | 0/1 [00:00<?, ?it/s]"
            ],
            "application/vnd.jupyter.widget-view+json": {
              "version_major": 2,
              "version_minor": 0,
              "model_id": "df170e25560e496cbe0e51f3ea3aee04"
            }
          },
          "metadata": {}
        },
        {
          "output_type": "stream",
          "name": "stderr",
          "text": [
            "/usr/lib/python3.8/multiprocessing/reduction.py:51: UserWarning: Reader has no dt information, set to 1.0 ps\n",
            "  cls(buf, protocol).dump(obj)\n",
            "/usr/local/lib/python3.8/site-packages/prolif/plotting/network.py:292: FutureWarning: In a future version, the Index constructor will not infer numeric dtypes when passed object-dtype sequences (matching Series behavior)\n",
            "  pd.get_dummies(\n",
            "/usr/local/lib/python3.8/site-packages/prolif/plotting/network.py:292: FutureWarning: In a future version, the Index constructor will not infer numeric dtypes when passed object-dtype sequences (matching Series behavior)\n",
            "  pd.get_dummies(\n"
          ]
        },
        {
          "output_type": "execute_result",
          "data": {
            "text/plain": [
              "<IPython.core.display.HTML object>"
            ],
            "text/html": [
              "<iframe width=\"100%\" height=\"590px\" frameborder=\"0\" srcdoc=\"\n",
              "        &lt;html&gt;\n",
              "        &lt;head&gt;\n",
              "        &lt;script type=&quot;text/javascript&quot; src=&quot;https://unpkg.com/vis-network@9.0.4/dist/vis-network.min.js&quot;&gt;&lt;/script&gt;\n",
              "        &lt;link href=&quot;https://unpkg.com/vis-network@9.0.4/dist/dist/vis-network.min.css&quot; rel=&quot;stylesheet&quot; type=&quot;text/css&quot; /&gt;\n",
              "        &lt;style type=&quot;text/css&quot;&gt;\n",
              "            body {\n",
              "                padding: 0;\n",
              "                margin: 0;\n",
              "                background: #fff;\n",
              "            }\n",
              "            .legend-btn.residues.disabled {\n",
              "                background: #b4b4b4 !important;\n",
              "                color: #555 !important;\n",
              "            }\n",
              "            .legend-btn.interactions.disabled {\n",
              "                border-color: #b4b4b4 !important;\n",
              "                color: #555 !important;\n",
              "            }\n",
              "        &lt;/style&gt;\n",
              "        &lt;/head&gt;\n",
              "        &lt;body&gt;\n",
              "        &lt;div id=&quot;mynetwork&quot;&gt;&lt;/div&gt;\n",
              "        &lt;div id=&quot;networklegend&quot;&gt;&lt;/div&gt;\n",
              "        &lt;script type=&quot;text/javascript&quot;&gt;\n",
              "            \n",
              "        var ifp, legend, nodes, edges, legend_buttons;\n",
              "        function drawGraph(_id, nodes, edges, options) {\n",
              "            var container = document.getElementById(_id);\n",
              "            nodes = new vis.DataSet(nodes);\n",
              "            edges = new vis.DataSet(edges);\n",
              "            var data = {nodes: nodes, edges: edges};\n",
              "            var network = new vis.Network(container, data, options);\n",
              "            network.on(&quot;stabilizationIterationsDone&quot;, function () {\n",
              "                network.setOptions( { physics: false } );\n",
              "            });\n",
              "            return network;\n",
              "        }\n",
              "        nodes = [{&quot;id&quot;: &quot;LYS37.A&quot;, &quot;label&quot;: &quot;LYS37.A&quot;, &quot;color&quot;: &quot;#5979e3&quot;, &quot;shape&quot;: &quot;box&quot;, &quot;borderWidth&quot;: 0, &quot;physics&quot;: true, &quot;mass&quot;: 2, &quot;group&quot;: &quot;protein&quot;, &quot;residue_type&quot;: &quot;Basic&quot;}, {&quot;id&quot;: &quot;VAL85.A&quot;, &quot;label&quot;: &quot;VAL85.A&quot;, &quot;color&quot;: &quot;#59e382&quot;, &quot;shape&quot;: &quot;box&quot;, &quot;borderWidth&quot;: 0, &quot;physics&quot;: true, &quot;mass&quot;: 2, &quot;group&quot;: &quot;protein&quot;, &quot;residue_type&quot;: &quot;Aliphatic&quot;}, {&quot;label&quot;: &quot; &quot;, &quot;shape&quot;: &quot;dot&quot;, &quot;color&quot;: &quot;black&quot;, &quot;size&quot;: 5.6000000000000005, &quot;id&quot;: 0, &quot;x&quot;: 51.65330999564839, &quot;y&quot;: 231.37259771653922, &quot;fixed&quot;: true, &quot;group&quot;: &quot;ligand&quot;, &quot;borderWidth&quot;: 0}, {&quot;label&quot;: &quot;N&quot;, &quot;shape&quot;: &quot;circle&quot;, &quot;color&quot;: &quot;white&quot;, &quot;font&quot;: {&quot;color&quot;: &quot;blue&quot;}, &quot;id&quot;: 1, &quot;x&quot;: 12.638206658084716, &quot;y&quot;: 196.24324088269955, &quot;fixed&quot;: true, &quot;group&quot;: &quot;ligand&quot;, &quot;borderWidth&quot;: 0}, {&quot;label&quot;: &quot;O&quot;, &quot;shape&quot;: &quot;circle&quot;, &quot;color&quot;: &quot;white&quot;, &quot;font&quot;: {&quot;color&quot;: &quot;red&quot;}, &quot;id&quot;: 2, &quot;x&quot;: 140.59888043870734, &quot;y&quot;: 250.2785623456936, &quot;fixed&quot;: true, &quot;group&quot;: &quot;ligand&quot;, &quot;borderWidth&quot;: 0}, {&quot;label&quot;: &quot; &quot;, &quot;shape&quot;: &quot;dot&quot;, &quot;color&quot;: &quot;black&quot;, &quot;size&quot;: 5.6000000000000005, &quot;id&quot;: 3, &quot;x&quot;: -48.207624215342314, &quot;y&quot;: 263.8193821259099, &quot;fixed&quot;: true, &quot;group&quot;: &quot;ligand&quot;, &quot;borderWidth&quot;: 0}, {&quot;label&quot;: &quot;N&quot;, &quot;shape&quot;: &quot;circle&quot;, &quot;color&quot;: &quot;white&quot;, &quot;font&quot;: {&quot;color&quot;: &quot;blue&quot;}, &quot;id&quot;: 4, &quot;x&quot;: -37.2922604474106, &quot;y&quot;: 212.46663308738505, &quot;fixed&quot;: true, &quot;group&quot;: &quot;ligand&quot;, &quot;borderWidth&quot;: 0}, {&quot;label&quot;: &quot;O&quot;, &quot;shape&quot;: &quot;circle&quot;, &quot;color&quot;: &quot;white&quot;, &quot;font&quot;: {&quot;color&quot;: &quot;red&quot;}, &quot;id&quot;: 5, &quot;x&quot;: 157.78325624040758, &quot;y&quot;: 388.113417256583, &quot;fixed&quot;: true, &quot;group&quot;: &quot;ligand&quot;, &quot;borderWidth&quot;: 0}, {&quot;label&quot;: &quot; &quot;, &quot;shape&quot;: &quot;dot&quot;, &quot;color&quot;: &quot;black&quot;, &quot;size&quot;: 5.6000000000000005, &quot;id&quot;: 6, &quot;x&quot;: -9.1925208777787, &quot;y&quot;: 298.9487389597495, &quot;fixed&quot;: true, &quot;group&quot;: &quot;ligand&quot;, &quot;borderWidth&quot;: 0}, {&quot;label&quot;: &quot;NH&quot;, &quot;shape&quot;: &quot;ellipse&quot;, &quot;color&quot;: &quot;white&quot;, &quot;font&quot;: {&quot;color&quot;: &quot;blue&quot;}, &quot;id&quot;: 7, &quot;x&quot;: -98.1380913208377, &quot;y&quot;: 280.04277433059525, &quot;fixed&quot;: true, &quot;group&quot;: &quot;ligand&quot;, &quot;borderWidth&quot;: 0}, {&quot;label&quot;: &quot;O&quot;, &quot;shape&quot;: &quot;circle&quot;, &quot;color&quot;: &quot;white&quot;, &quot;font&quot;: {&quot;color&quot;: &quot;red&quot;}, &quot;id&quot;: 8, &quot;x&quot;: -70.03835175120585, &quot;y&quot;: 366.52488020295976, &quot;fixed&quot;: true, &quot;group&quot;: &quot;ligand&quot;, &quot;borderWidth&quot;: 0}, {&quot;label&quot;: &quot; &quot;, &quot;shape&quot;: &quot;dot&quot;, &quot;color&quot;: &quot;black&quot;, &quot;size&quot;: 5.6000000000000005, &quot;id&quot;: 9, &quot;x&quot;: 40.73794622771675, &quot;y&quot;: 282.7253467550641, &quot;fixed&quot;: true, &quot;group&quot;: &quot;ligand&quot;, &quot;borderWidth&quot;: 0}, {&quot;label&quot;: &quot;NH&quot;, &quot;shape&quot;: &quot;ellipse&quot;, &quot;color&quot;: &quot;white&quot;, &quot;font&quot;: {&quot;color&quot;: &quot;blue&quot;}, &quot;id&quot;: 10, &quot;x&quot;: 79.75304956528025, &quot;y&quot;: 317.8547035889037, &quot;fixed&quot;: true, &quot;group&quot;: &quot;ligand&quot;, &quot;borderWidth&quot;: 0}, {&quot;label&quot;: &quot; &quot;, &quot;shape&quot;: &quot;dot&quot;, &quot;color&quot;: &quot;black&quot;, &quot;size&quot;: 5.6000000000000005, &quot;id&quot;: 11, &quot;x&quot;: 101.58377710114382, &quot;y&quot;: 215.14920551185384, &quot;fixed&quot;: true, &quot;group&quot;: &quot;ligand&quot;, &quot;borderWidth&quot;: 0}, {&quot;label&quot;: &quot;NH&quot;, &quot;shape&quot;: &quot;ellipse&quot;, &quot;color&quot;: &quot;white&quot;, &quot;font&quot;: {&quot;color&quot;: &quot;blue&quot;}, &quot;id&quot;: 12, &quot;x&quot;: 112.49914086907562, &quot;y&quot;: 163.796456473329, &quot;fixed&quot;: true, &quot;group&quot;: &quot;ligand&quot;, &quot;borderWidth&quot;: 0}, {&quot;label&quot;: &quot; &quot;, &quot;shape&quot;: &quot;dot&quot;, &quot;color&quot;: &quot;black&quot;, &quot;size&quot;: 5.6000000000000005, &quot;id&quot;: 13, &quot;x&quot;: 73.484037531512, &quot;y&quot;: 128.66709963948924, &quot;fixed&quot;: true, &quot;group&quot;: &quot;ligand&quot;, &quot;borderWidth&quot;: 0}, {&quot;label&quot;: &quot;N&quot;, &quot;shape&quot;: &quot;circle&quot;, &quot;color&quot;: &quot;white&quot;, &quot;font&quot;: {&quot;color&quot;: &quot;blue&quot;}, &quot;id&quot;: 14, &quot;x&quot;: 187.30527774306813, &quot;y&quot;: 479.90355156570024, &quot;fixed&quot;: true, &quot;group&quot;: &quot;ligand&quot;, &quot;borderWidth&quot;: 0}, {&quot;label&quot;: &quot; &quot;, &quot;shape&quot;: &quot;dot&quot;, &quot;color&quot;: &quot;black&quot;, &quot;size&quot;: 5.6000000000000005, &quot;id&quot;: 15, &quot;x&quot;: 68.83768579734841, &quot;y&quot;: 369.2074526274286, &quot;fixed&quot;: true, &quot;group&quot;: &quot;ligand&quot;, &quot;borderWidth&quot;: 0}, {&quot;label&quot;: &quot;N&quot;, &quot;shape&quot;: &quot;circle&quot;, &quot;color&quot;: &quot;white&quot;, &quot;font&quot;: {&quot;color&quot;: &quot;blue&quot;}, &quot;id&quot;: 16, &quot;x&quot;: 213.55527774306856, &quot;y&quot;: 525.3698852643831, &quot;fixed&quot;: true, &quot;group&quot;: &quot;ligand&quot;, &quot;borderWidth&quot;: 0}, {&quot;label&quot;: &quot; &quot;, &quot;shape&quot;: &quot;dot&quot;, &quot;color&quot;: &quot;black&quot;, &quot;size&quot;: 5.6000000000000005, &quot;id&quot;: 17, &quot;x&quot;: 18.90721869185278, &quot;y&quot;: 385.43084483211385, &quot;fixed&quot;: true, &quot;group&quot;: &quot;ligand&quot;, &quot;borderWidth&quot;: 0}, {&quot;label&quot;: &quot;N&quot;, &quot;shape&quot;: &quot;circle&quot;, &quot;color&quot;: &quot;white&quot;, &quot;font&quot;: {&quot;color&quot;: &quot;blue&quot;}, &quot;id&quot;: 18, &quot;x&quot;: 130.464784382992, &quot;y&quot;: 543.0313148404674, &quot;fixed&quot;: true, &quot;group&quot;: &quot;ligand&quot;, &quot;borderWidth&quot;: 0}, {&quot;label&quot;: &quot; &quot;, &quot;shape&quot;: &quot;dot&quot;, &quot;color&quot;: &quot;black&quot;, &quot;size&quot;: 5.6000000000000005, &quot;id&quot;: 19, &quot;x&quot;: 7.991854923920947, &quot;y&quot;: 436.7835938706388, &quot;fixed&quot;: true, &quot;group&quot;: &quot;ligand&quot;, &quot;borderWidth&quot;: 0}, {&quot;label&quot;: &quot; &quot;, &quot;shape&quot;: &quot;dot&quot;, &quot;color&quot;: &quot;black&quot;, &quot;size&quot;: 5.6000000000000005, &quot;id&quot;: 20, &quot;x&quot;: 47.006958261484435, &quot;y&quot;: 471.9129507044785, &quot;fixed&quot;: true, &quot;group&quot;: &quot;ligand&quot;, &quot;borderWidth&quot;: 0}, {&quot;label&quot;: &quot; &quot;, &quot;shape&quot;: &quot;dot&quot;, &quot;color&quot;: &quot;black&quot;, &quot;size&quot;: 5.6000000000000005, &quot;id&quot;: 21, &quot;x&quot;: 96.93742536697995, &quot;y&quot;: 455.6895584997933, &quot;fixed&quot;: true, &quot;group&quot;: &quot;ligand&quot;, &quot;borderWidth&quot;: 0}, {&quot;label&quot;: &quot; &quot;, &quot;shape&quot;: &quot;dot&quot;, &quot;color&quot;: &quot;black&quot;, &quot;size&quot;: 5.6000000000000005, &quot;id&quot;: 22, &quot;x&quot;: 107.85278913491177, &quot;y&quot;: 404.33680946126833, &quot;fixed&quot;: true, &quot;group&quot;: &quot;ligand&quot;, &quot;borderWidth&quot;: 0}, {&quot;label&quot;: &quot; &quot;, &quot;shape&quot;: &quot;dot&quot;, &quot;color&quot;: &quot;black&quot;, &quot;size&quot;: 5.6000000000000005, &quot;id&quot;: 23, &quot;x&quot;: -109.05345508876947, &quot;y&quot;: 331.39552336912016, &quot;fixed&quot;: true, &quot;group&quot;: &quot;ligand&quot;, &quot;borderWidth&quot;: 0}, {&quot;label&quot;: &quot; &quot;, &quot;shape&quot;: &quot;dot&quot;, &quot;color&quot;: &quot;black&quot;, &quot;size&quot;: 5.6000000000000005, &quot;id&quot;: 24, &quot;x&quot;: -158.98392219426466, &quot;y&quot;: 347.61891557380574, &quot;fixed&quot;: true, &quot;group&quot;: &quot;ligand&quot;, &quot;borderWidth&quot;: 0}, {&quot;label&quot;: &quot; &quot;, &quot;shape&quot;: &quot;dot&quot;, &quot;color&quot;: &quot;black&quot;, &quot;size&quot;: 5.6000000000000005, &quot;id&quot;: 25, &quot;x&quot;: 135.9525287045433, &quot;y&quot;: 490.818915333633, &quot;fixed&quot;: true, &quot;group&quot;: &quot;ligand&quot;, &quot;borderWidth&quot;: 0}, {&quot;label&quot;: &quot; &quot;, &quot;shape&quot;: &quot;dot&quot;, &quot;color&quot;: &quot;black&quot;, &quot;size&quot;: 5.6000000000000005, &quot;id&quot;: 26, &quot;x&quot;: 168.6986200083387, &quot;y&quot;: 336.7606682180578, &quot;fixed&quot;: true, &quot;group&quot;: &quot;ligand&quot;, &quot;borderWidth&quot;: 0}, {&quot;label&quot;: &quot; &quot;, &quot;shape&quot;: &quot;dot&quot;, &quot;color&quot;: &quot;black&quot;, &quot;size&quot;: 5.6000000000000005, &quot;id&quot;: 27, &quot;x&quot;: 178.42592090922884, &quot;y&quot;: 564.3849886019467, &quot;fixed&quot;: true, &quot;group&quot;: &quot;ligand&quot;, &quot;borderWidth&quot;: 0}, {&quot;label&quot;: &quot; &quot;, &quot;shape&quot;: &quot;dot&quot;, &quot;color&quot;: &quot;black&quot;, &quot;size&quot;: 5.6000000000000005, &quot;id&quot;: 28, &quot;x&quot;: 265.76767724990304, &quot;y&quot;: 530.8576295859345, &quot;fixed&quot;: true, &quot;group&quot;: &quot;ligand&quot;, &quot;borderWidth&quot;: 0}, {&quot;label&quot;: &quot; &quot;, &quot;shape&quot;: &quot;dot&quot;, &quot;color&quot;: &quot;black&quot;, &quot;size&quot;: 5.6000000000000005, &quot;id&quot;: 29, &quot;x&quot;: -200.35448675861699, &quot;y&quot;: 379.9411430284035, &quot;fixed&quot;: true, &quot;group&quot;: &quot;ligand&quot;, &quot;borderWidth&quot;: 0}, {&quot;label&quot;: &quot; &quot;, &quot;shape&quot;: &quot;dot&quot;, &quot;color&quot;: &quot;black&quot;, &quot;size&quot;: 5.6000000000000005, &quot;id&quot;: 30, &quot;x&quot;: -151.67733439386035, &quot;y&quot;: 399.6079891827381, &quot;fixed&quot;: true, &quot;group&quot;: &quot;ligand&quot;, &quot;borderWidth&quot;: 0}, {&quot;id&quot;: -2930220688842350166, &quot;x&quot;: 54.46365854235556, &quot;y&quot;: 228.25138944953412, &quot;shape&quot;: &quot;text&quot;, &quot;label&quot;: &quot; &quot;, &quot;fixed&quot;: true, &quot;physics&quot;: false}, {&quot;id&quot;: 3989589060665748907, &quot;x&quot;: 15.448555204791884, &quot;y&quot;: 193.12203261569445, &quot;shape&quot;: &quot;text&quot;, &quot;label&quot;: &quot; &quot;, &quot;fixed&quot;: true, &quot;physics&quot;: false}, {&quot;id&quot;: -4620943008183182448, &quot;x&quot;: 48.842961448941224, &quot;y&quot;: 234.49380598354432, &quot;shape&quot;: &quot;text&quot;, &quot;label&quot;: &quot; &quot;, &quot;fixed&quot;: true, &quot;physics&quot;: false}, {&quot;id&quot;: -9152961379611927806, &quot;x&quot;: 9.827858111377548, &quot;y&quot;: 199.36444914970465, &quot;shape&quot;: &quot;text&quot;, &quot;label&quot;: &quot; &quot;, &quot;fixed&quot;: true, &quot;physics&quot;: false}, {&quot;id&quot;: 470923238564419807, &quot;x&quot;: 47.545090072566396, &quot;y&quot;: 230.4993686151047, &quot;shape&quot;: &quot;text&quot;, &quot;label&quot;: &quot; &quot;, &quot;fixed&quot;: true, &quot;physics&quot;: false}, {&quot;id&quot;: -5248952214501902196, &quot;x&quot;: 36.62972630463475, &quot;y&quot;: 281.85211765362953, &quot;shape&quot;: &quot;text&quot;, &quot;label&quot;: &quot; &quot;, &quot;fixed&quot;: true, &quot;physics&quot;: false}, {&quot;id&quot;: 2884016063808743087, &quot;x&quot;: 55.76152991873039, &quot;y&quot;: 232.24582681797375, &quot;shape&quot;: &quot;text&quot;, &quot;label&quot;: &quot; &quot;, &quot;fixed&quot;: true, &quot;physics&quot;: false}, {&quot;id&quot;: 1828880651958069604, &quot;x&quot;: 44.846166150798744, &quot;y&quot;: 283.59857585649866, &quot;shape&quot;: &quot;text&quot;, &quot;label&quot;: &quot; &quot;, &quot;fixed&quot;: true, &quot;physics&quot;: false}, {&quot;id&quot;: -2460904488164556996, &quot;x&quot;: 11.340335281709876, &quot;y&quot;: 192.24880351425992, &quot;shape&quot;: &quot;text&quot;, &quot;label&quot;: &quot; &quot;, &quot;fixed&quot;: true, &quot;physics&quot;: false}, {&quot;id&quot;: -4997517322104960184, &quot;x&quot;: -38.59013182378544, &quot;y&quot;: 208.47219571894541, &quot;shape&quot;: &quot;text&quot;, &quot;label&quot;: &quot; &quot;, &quot;fixed&quot;: true, &quot;physics&quot;: false}, {&quot;id&quot;: -8227304268332607074, &quot;x&quot;: 13.936078034459555, &quot;y&quot;: 200.2376782511392, &quot;shape&quot;: &quot;text&quot;, &quot;label&quot;: &quot; &quot;, &quot;fixed&quot;: true, &quot;physics&quot;: false}, {&quot;id&quot;: -7558443896674688783, &quot;x&quot;: -35.994389071035755, &quot;y&quot;: 216.46107045582468, &quot;shape&quot;: &quot;text&quot;, &quot;label&quot;: &quot; &quot;, &quot;fixed&quot;: true, &quot;physics&quot;: false}, {&quot;id&quot;: 7198690673233501660, &quot;x&quot;: 143.40922898541453, &quot;y&quot;: 247.1573540786885, &quot;shape&quot;: &quot;text&quot;, &quot;label&quot;: &quot; &quot;, &quot;fixed&quot;: true, &quot;physics&quot;: false}, {&quot;id&quot;: 1398254542951982687, &quot;x&quot;: 104.394125647851, &quot;y&quot;: 212.02799724484876, &quot;shape&quot;: &quot;text&quot;, &quot;label&quot;: &quot; &quot;, &quot;fixed&quot;: true, &quot;physics&quot;: false}, {&quot;id&quot;: -6440696156319402816, &quot;x&quot;: 137.78853189200015, &quot;y&quot;: 253.39977061269866, &quot;shape&quot;: &quot;text&quot;, &quot;label&quot;: &quot; &quot;, &quot;fixed&quot;: true, &quot;physics&quot;: false}, {&quot;id&quot;: -2505851387618874116, &quot;x&quot;: 98.77342855443665, &quot;y&quot;: 218.2704137788589, &quot;shape&quot;: &quot;text&quot;, &quot;label&quot;: &quot; &quot;, &quot;fixed&quot;: true, &quot;physics&quot;: false}, {&quot;id&quot;: -2648552880568461152, &quot;x&quot;: -44.09940429226032, &quot;y&quot;: 264.69261122734446, &quot;shape&quot;: &quot;text&quot;, &quot;label&quot;: &quot; &quot;, &quot;fixed&quot;: true, &quot;physics&quot;: false}, {&quot;id&quot;: -5936355365575306695, &quot;x&quot;: -33.1840405243286, &quot;y&quot;: 213.33986218881958, &quot;shape&quot;: &quot;text&quot;, &quot;label&quot;: &quot; &quot;, &quot;fixed&quot;: true, &quot;physics&quot;: false}, {&quot;id&quot;: 6437073882875919479, &quot;x&quot;: -52.31584413842431, &quot;y&quot;: 262.94615302447534, &quot;shape&quot;: &quot;text&quot;, &quot;label&quot;: &quot; &quot;, &quot;fixed&quot;: true, &quot;physics&quot;: false}, {&quot;id&quot;: -187039110220364317, &quot;x&quot;: -41.400480370492595, &quot;y&quot;: 211.59340398595052, &quot;shape&quot;: &quot;text&quot;, &quot;label&quot;: &quot; &quot;, &quot;fixed&quot;: true, &quot;physics&quot;: false}, {&quot;id&quot;: -5917269590958177677, &quot;x&quot;: -51.01797276204948, &quot;y&quot;: 266.940590392915, &quot;shape&quot;: &quot;text&quot;, &quot;label&quot;: &quot; &quot;, &quot;fixed&quot;: true, &quot;physics&quot;: false}, {&quot;id&quot;: -3792838552528751851, &quot;x&quot;: -12.002869424485867, &quot;y&quot;: 302.0699472267546, &quot;shape&quot;: &quot;text&quot;, &quot;label&quot;: &quot; &quot;, &quot;fixed&quot;: true, &quot;physics&quot;: false}, {&quot;id&quot;: 5740387857757244088, &quot;x&quot;: -45.397275668635146, &quot;y&quot;: 260.6981738589048, &quot;shape&quot;: &quot;text&quot;, &quot;label&quot;: &quot; &quot;, &quot;fixed&quot;: true, &quot;physics&quot;: false}, {&quot;id&quot;: 7956099795176670084, &quot;x&quot;: -6.382172331071532, &quot;y&quot;: 295.8275306927444, &quot;shape&quot;: &quot;text&quot;, &quot;label&quot;: &quot; &quot;, &quot;fixed&quot;: true, &quot;physics&quot;: false}, {&quot;id&quot;: 5723364891576036571, &quot;x&quot;: -7.894649501403869, &quot;y&quot;: 302.9431763281891, &quot;shape&quot;: &quot;text&quot;, &quot;label&quot;: &quot; &quot;, &quot;fixed&quot;: true, &quot;physics&quot;: false}, {&quot;id&quot;: 2747027632452540146, &quot;x&quot;: 42.03581760409158, &quot;y&quot;: 286.7197841235037, &quot;shape&quot;: &quot;text&quot;, &quot;label&quot;: &quot; &quot;, &quot;fixed&quot;: true, &quot;physics&quot;: false}, {&quot;id&quot;: -5593239559193899244, &quot;x&quot;: -10.49039225415353, &quot;y&quot;: 294.9543015913099, &quot;shape&quot;: &quot;text&quot;, &quot;label&quot;: &quot; &quot;, &quot;fixed&quot;: true, &quot;physics&quot;: false}, {&quot;id&quot;: 70075498622684635, &quot;x&quot;: 39.44007485134192, &quot;y&quot;: 278.7309093866245, &quot;shape&quot;: &quot;text&quot;, &quot;label&quot;: &quot; &quot;, &quot;fixed&quot;: true, &quot;physics&quot;: false}, {&quot;id&quot;: 7910973288498756433, &quot;x&quot;: -67.22800320449868, &quot;y&quot;: 363.40367193595466, &quot;shape&quot;: &quot;text&quot;, &quot;label&quot;: &quot; &quot;, &quot;fixed&quot;: true, &quot;physics&quot;: false}, {&quot;id&quot;: -4485482960706406158, &quot;x&quot;: -106.24310654206229, &quot;y&quot;: 328.27431510211505, &quot;shape&quot;: &quot;text&quot;, &quot;label&quot;: &quot; &quot;, &quot;fixed&quot;: true, &quot;physics&quot;: false}, {&quot;id&quot;: -3659301829002499715, &quot;x&quot;: -72.84870029791303, &quot;y&quot;: 369.64608846996487, &quot;shape&quot;: &quot;text&quot;, &quot;label&quot;: &quot; &quot;, &quot;fixed&quot;: true, &quot;physics&quot;: false}, {&quot;id&quot;: 4408068869020489926, &quot;x&quot;: -111.86380363547664, &quot;y&quot;: 334.51673163612526, &quot;shape&quot;: &quot;text&quot;, &quot;label&quot;: &quot; &quot;, &quot;fixed&quot;: true, &quot;physics&quot;: false}, {&quot;id&quot;: -1410422305480564880, &quot;x&quot;: 183.6679710471735, &quot;y&quot;: 482.00355156570026, &quot;shape&quot;: &quot;text&quot;, &quot;label&quot;: &quot; &quot;, &quot;fixed&quot;: true, &quot;physics&quot;: false}, {&quot;id&quot;: 1136545375626608061, &quot;x&quot;: 209.91797104717392, &quot;y&quot;: 527.4698852643832, &quot;shape&quot;: &quot;text&quot;, &quot;label&quot;: &quot; &quot;, &quot;fixed&quot;: true, &quot;physics&quot;: false}, {&quot;id&quot;: 2847388798703049308, &quot;x&quot;: 190.94258443896277, &quot;y&quot;: 477.8035515657002, &quot;shape&quot;: &quot;text&quot;, &quot;label&quot;: &quot; &quot;, &quot;fixed&quot;: true, &quot;physics&quot;: false}, {&quot;id&quot;: -2569249473100202622, &quot;x&quot;: 217.1925844389632, &quot;y&quot;: 523.2698852643831, &quot;shape&quot;: &quot;text&quot;, &quot;label&quot;: &quot; &quot;, &quot;fixed&quot;: true, &quot;physics&quot;: false}, {&quot;id&quot;: -8485701553898801598, &quot;x&quot;: 186.43204864163351, &quot;y&quot;: 475.79533164261824, &quot;shape&quot;: &quot;text&quot;, &quot;label&quot;: &quot; &quot;, &quot;fixed&quot;: true, &quot;physics&quot;: false}, {&quot;id&quot;: -1200850145314986950, &quot;x&quot;: 135.0792996031087, &quot;y&quot;: 486.710695410551, &quot;shape&quot;: &quot;text&quot;, &quot;label&quot;: &quot; &quot;, &quot;fixed&quot;: true, &quot;physics&quot;: false}, {&quot;id&quot;: -6371140741053239256, &quot;x&quot;: 188.17850684450275, &quot;y&quot;: 484.01177148878224, &quot;shape&quot;: &quot;text&quot;, &quot;label&quot;: &quot; &quot;, &quot;fixed&quot;: true, &quot;physics&quot;: false}, {&quot;id&quot;: -6820300478480771195, &quot;x&quot;: 136.82575780597793, &quot;y&quot;: 494.927135256715, &quot;shape&quot;: &quot;text&quot;, &quot;label&quot;: &quot; &quot;, &quot;fixed&quot;: true, &quot;physics&quot;: false}, {&quot;id&quot;: -2642968305507885530, &quot;x&quot;: 67.5398144209736, &quot;y&quot;: 365.213015258989, &quot;shape&quot;: &quot;text&quot;, &quot;label&quot;: &quot; &quot;, &quot;fixed&quot;: true, &quot;physics&quot;: false}, {&quot;id&quot;: 9069485495954306557, &quot;x&quot;: 17.609347315477965, &quot;y&quot;: 381.4364074636742, &quot;shape&quot;: &quot;text&quot;, &quot;label&quot;: &quot; &quot;, &quot;fixed&quot;: true, &quot;physics&quot;: false}, {&quot;id&quot;: -3190077210302987375, &quot;x&quot;: 70.13555717372323, &quot;y&quot;: 373.2018899958682, &quot;shape&quot;: &quot;text&quot;, &quot;label&quot;: &quot; &quot;, &quot;fixed&quot;: true, &quot;physics&quot;: false}, {&quot;id&quot;: -294426313491771221, &quot;x&quot;: 20.205090068227594, &quot;y&quot;: 389.4252822005535, &quot;shape&quot;: &quot;text&quot;, &quot;label&quot;: &quot; &quot;, &quot;fixed&quot;: true, &quot;physics&quot;: false}, {&quot;id&quot;: 4641755884697347806, &quot;x&quot;: 66.02733725064122, &quot;y&quot;: 372.3286608944337, &quot;shape&quot;: &quot;text&quot;, &quot;label&quot;: &quot; &quot;, &quot;fixed&quot;: true, &quot;physics&quot;: false}, {&quot;id&quot;: 2931022912618318077, &quot;x&quot;: 105.04244058820458, &quot;y&quot;: 407.45801772827343, &quot;shape&quot;: &quot;text&quot;, &quot;label&quot;: &quot; &quot;, &quot;fixed&quot;: true, &quot;physics&quot;: false}, {&quot;id&quot;: -139418455435084316, &quot;x&quot;: 71.6480343440556, &quot;y&quot;: 366.0862443604235, &quot;shape&quot;: &quot;text&quot;, &quot;label&quot;: &quot; &quot;, &quot;fixed&quot;: true, &quot;physics&quot;: false}, {&quot;id&quot;: -1845443305427820595, &quot;x&quot;: 110.66313768161896, &quot;y&quot;: 401.21560119426323, &quot;shape&quot;: &quot;text&quot;, &quot;label&quot;: &quot; &quot;, &quot;fixed&quot;: true, &quot;physics&quot;: false}, {&quot;id&quot;: 349525823640625507, &quot;x&quot;: 210.43406947606348, &quot;y&quot;: 522.559536717676, &quot;shape&quot;: &quot;text&quot;, &quot;label&quot;: &quot; &quot;, &quot;fixed&quot;: true, &quot;physics&quot;: false}, {&quot;id&quot;: 7274128422345456738, &quot;x&quot;: 175.30471264222376, &quot;y&quot;: 561.5746400552396, &quot;shape&quot;: &quot;text&quot;, &quot;label&quot;: &quot; &quot;, &quot;fixed&quot;: true, &quot;physics&quot;: false}, {&quot;id&quot;: -6311830488307172662, &quot;x&quot;: 216.67648601007363, &quot;y&quot;: 528.1802338110903, &quot;shape&quot;: &quot;text&quot;, &quot;label&quot;: &quot; &quot;, &quot;fixed&quot;: true, &quot;physics&quot;: false}, {&quot;id&quot;: -1794643078453424268, &quot;x&quot;: 181.5471291762339, &quot;y&quot;: 567.1953371486538, &quot;shape&quot;: &quot;text&quot;, &quot;label&quot;: &quot; &quot;, &quot;fixed&quot;: true, &quot;physics&quot;: false}, {&quot;id&quot;: -8949743822251168912, &quot;x&quot;: 14.798998768770787, &quot;y&quot;: 384.5576157306793, &quot;shape&quot;: &quot;text&quot;, &quot;label&quot;: &quot; &quot;, &quot;fixed&quot;: true, &quot;physics&quot;: false}, {&quot;id&quot;: -9094724335717667610, &quot;x&quot;: 3.8836350008389537, &quot;y&quot;: 435.91036476920425, &quot;shape&quot;: &quot;text&quot;, &quot;label&quot;: &quot; &quot;, &quot;fixed&quot;: true, &quot;physics&quot;: false}, {&quot;id&quot;: -8388802177769774870, &quot;x&quot;: 23.015438614934773, &quot;y&quot;: 386.3040739335484, &quot;shape&quot;: &quot;text&quot;, &quot;label&quot;: &quot; &quot;, &quot;fixed&quot;: true, &quot;physics&quot;: false}, {&quot;id&quot;: -3389495582661855378, &quot;x&quot;: 12.10007484700294, &quot;y&quot;: 437.65682297207337, &quot;shape&quot;: &quot;text&quot;, &quot;label&quot;: &quot; &quot;, &quot;fixed&quot;: true, &quot;physics&quot;: false}, {&quot;id&quot;: -4841616119768936375, &quot;x&quot;: 134.64177634353877, &quot;y&quot;: 543.4703343861916, &quot;shape&quot;: &quot;text&quot;, &quot;label&quot;: &quot; &quot;, &quot;fixed&quot;: true, &quot;physics&quot;: false}, {&quot;id&quot;: 6594818319822836115, &quot;x&quot;: 140.12952066509007, &quot;y&quot;: 491.2579348793571, &quot;shape&quot;: &quot;text&quot;, &quot;label&quot;: &quot; &quot;, &quot;fixed&quot;: true, &quot;physics&quot;: false}, {&quot;id&quot;: -7505478070965583803, &quot;x&quot;: 126.28779242244525, &quot;y&quot;: 542.5922952947433, &quot;shape&quot;: &quot;text&quot;, &quot;label&quot;: &quot; &quot;, &quot;fixed&quot;: true, &quot;physics&quot;: false}, {&quot;id&quot;: -1496040767196496046, &quot;x&quot;: 131.77553674399655, &quot;y&quot;: 490.37989578790894, &quot;shape&quot;: &quot;text&quot;, &quot;label&quot;: &quot; &quot;, &quot;fixed&quot;: true, &quot;physics&quot;: false}, {&quot;id&quot;: 5330721551608768943, &quot;x&quot;: 128.75649048207367, &quot;y&quot;: 546.8682057625664, &quot;shape&quot;: &quot;text&quot;, &quot;label&quot;: &quot; &quot;, &quot;fixed&quot;: true, &quot;physics&quot;: false}, {&quot;id&quot;: 24736090623367257, &quot;x&quot;: 176.7176270083105, &quot;y&quot;: 568.2218795240457, &quot;shape&quot;: &quot;text&quot;, &quot;label&quot;: &quot; &quot;, &quot;fixed&quot;: true, &quot;physics&quot;: false}, {&quot;id&quot;: 8502286574545434152, &quot;x&quot;: 132.17307828391034, &quot;y&quot;: 539.1944239183684, &quot;shape&quot;: &quot;text&quot;, &quot;label&quot;: &quot; &quot;, &quot;fixed&quot;: true, &quot;physics&quot;: false}, {&quot;id&quot;: 5861516150509349580, &quot;x&quot;: 180.13421481014717, &quot;y&quot;: 560.5480976798477, &quot;shape&quot;: &quot;text&quot;, &quot;label&quot;: &quot; &quot;, &quot;fixed&quot;: true, &quot;physics&quot;: false}, {&quot;id&quot;: -6489416175098121219, &quot;x&quot;: 5.181506377213771, &quot;y&quot;: 439.9048021376439, &quot;shape&quot;: &quot;text&quot;, &quot;label&quot;: &quot; &quot;, &quot;fixed&quot;: true, &quot;physics&quot;: false}, {&quot;id&quot;: -5716924912154520674, &quot;x&quot;: 44.19660971477726, &quot;y&quot;: 475.0341589714836, &quot;shape&quot;: &quot;text&quot;, &quot;label&quot;: &quot; &quot;, &quot;fixed&quot;: true, &quot;physics&quot;: false}, {&quot;id&quot;: -1501862088299059721, &quot;x&quot;: 10.802203470628122, &quot;y&quot;: 433.6623856036337, &quot;shape&quot;: &quot;text&quot;, &quot;label&quot;: &quot; &quot;, &quot;fixed&quot;: true, &quot;physics&quot;: false}, {&quot;id&quot;: 1016573433627771023, &quot;x&quot;: 49.81730680819161, &quot;y&quot;: 468.7917424374734, &quot;shape&quot;: &quot;text&quot;, &quot;label&quot;: &quot; &quot;, &quot;fixed&quot;: true, &quot;physics&quot;: false}, {&quot;id&quot;: -74260671804535662, &quot;x&quot;: 48.30482963785925, &quot;y&quot;: 475.90738807291814, &quot;shape&quot;: &quot;text&quot;, &quot;label&quot;: &quot; &quot;, &quot;fixed&quot;: true, &quot;physics&quot;: false}, {&quot;id&quot;: -5388101521205316511, &quot;x&quot;: 98.23529674335477, &quot;y&quot;: 459.68399586823296, &quot;shape&quot;: &quot;text&quot;, &quot;label&quot;: &quot; &quot;, &quot;fixed&quot;: true, &quot;physics&quot;: false}, {&quot;id&quot;: -9210376901849910072, &quot;x&quot;: 45.70908688510962, &quot;y&quot;: 467.9185133360388, &quot;shape&quot;: &quot;text&quot;, &quot;label&quot;: &quot; &quot;, &quot;fixed&quot;: true, &quot;physics&quot;: false}, {&quot;id&quot;: -7345922297529787422, &quot;x&quot;: 95.63955399060514, &quot;y&quot;: 451.69512113135363, &quot;shape&quot;: &quot;text&quot;, &quot;label&quot;: &quot; &quot;, &quot;fixed&quot;: true, &quot;physics&quot;: false}, {&quot;id&quot;: 7053364120183086257, &quot;x&quot;: 101.04564529006194, &quot;y&quot;: 456.56278760122785, &quot;shape&quot;: &quot;text&quot;, &quot;label&quot;: &quot; &quot;, &quot;fixed&quot;: true, &quot;physics&quot;: false}, {&quot;id&quot;: 1520285861691578325, &quot;x&quot;: 111.96100905799376, &quot;y&quot;: 405.2100385627029, &quot;shape&quot;: &quot;text&quot;, &quot;label&quot;: &quot; &quot;, &quot;fixed&quot;: true, &quot;physics&quot;: false}, {&quot;id&quot;: 8498929640055607415, &quot;x&quot;: 92.82920544389796, &quot;y&quot;: 454.81632939835873, &quot;shape&quot;: &quot;text&quot;, &quot;label&quot;: &quot; &quot;, &quot;fixed&quot;: true, &quot;physics&quot;: false}, {&quot;id&quot;: 1491255143727389812, &quot;x&quot;: 103.74456921182978, &quot;y&quot;: 403.46358035983377, &quot;shape&quot;: &quot;text&quot;, &quot;label&quot;: &quot; &quot;, &quot;fixed&quot;: true, &quot;physics&quot;: false}];\n",
              "        edges = [{&quot;from&quot;: 5, &quot;to&quot;: &quot;LYS37.A&quot;, &quot;title&quot;: &quot;VdWContact&quot;, &quot;interaction_type&quot;: &quot;VdWContact&quot;, &quot;color&quot;: &quot;#59e3ad&quot;, &quot;smooth&quot;: {&quot;type&quot;: &quot;cubicBezier&quot;, &quot;roundness&quot;: 0.2}, &quot;dashes&quot;: [10], &quot;width&quot;: 6.0, &quot;group&quot;: &quot;interaction&quot;}, {&quot;from&quot;: 1, &quot;to&quot;: &quot;VAL85.A&quot;, &quot;title&quot;: &quot;VdWContact&quot;, &quot;interaction_type&quot;: &quot;VdWContact&quot;, &quot;color&quot;: &quot;#59e3ad&quot;, &quot;smooth&quot;: {&quot;type&quot;: &quot;cubicBezier&quot;, &quot;roundness&quot;: 0.2}, &quot;dashes&quot;: [10], &quot;width&quot;: 6.0, &quot;group&quot;: &quot;interaction&quot;}, {&quot;from&quot;: -2930220688842350166, &quot;to&quot;: 3989589060665748907, &quot;color&quot;: &quot;black&quot;, &quot;physics&quot;: false, &quot;dashes&quot;: [10], &quot;group&quot;: &quot;ligand&quot;, &quot;width&quot;: 4}, {&quot;from&quot;: -4620943008183182448, &quot;to&quot;: -9152961379611927806, &quot;color&quot;: &quot;black&quot;, &quot;physics&quot;: false, &quot;dashes&quot;: [10], &quot;group&quot;: &quot;ligand&quot;, &quot;width&quot;: 4}, {&quot;from&quot;: 470923238564419807, &quot;to&quot;: -5248952214501902196, &quot;color&quot;: &quot;black&quot;, &quot;physics&quot;: false, &quot;dashes&quot;: [10], &quot;group&quot;: &quot;ligand&quot;, &quot;width&quot;: 4}, {&quot;from&quot;: 2884016063808743087, &quot;to&quot;: 1828880651958069604, &quot;color&quot;: &quot;black&quot;, &quot;physics&quot;: false, &quot;dashes&quot;: [10], &quot;group&quot;: &quot;ligand&quot;, &quot;width&quot;: 4}, {&quot;from&quot;: 0, &quot;to&quot;: 11, &quot;color&quot;: &quot;black&quot;, &quot;physics&quot;: false, &quot;group&quot;: &quot;ligand&quot;, &quot;width&quot;: 4}, {&quot;from&quot;: -2460904488164556996, &quot;to&quot;: -4997517322104960184, &quot;color&quot;: &quot;black&quot;, &quot;physics&quot;: false, &quot;dashes&quot;: [10], &quot;group&quot;: &quot;ligand&quot;, &quot;width&quot;: 4}, {&quot;from&quot;: -8227304268332607074, &quot;to&quot;: -7558443896674688783, &quot;color&quot;: &quot;black&quot;, &quot;physics&quot;: false, &quot;dashes&quot;: [10], &quot;group&quot;: &quot;ligand&quot;, &quot;width&quot;: 4}, {&quot;from&quot;: 7198690673233501660, &quot;to&quot;: 1398254542951982687, &quot;color&quot;: &quot;black&quot;, &quot;physics&quot;: false, &quot;dashes&quot;: false, &quot;group&quot;: &quot;ligand&quot;, &quot;width&quot;: 4}, {&quot;from&quot;: -6440696156319402816, &quot;to&quot;: -2505851387618874116, &quot;color&quot;: &quot;black&quot;, &quot;physics&quot;: false, &quot;dashes&quot;: false, &quot;group&quot;: &quot;ligand&quot;, &quot;width&quot;: 4}, {&quot;from&quot;: -2648552880568461152, &quot;to&quot;: -5936355365575306695, &quot;color&quot;: &quot;black&quot;, &quot;physics&quot;: false, &quot;dashes&quot;: [10], &quot;group&quot;: &quot;ligand&quot;, &quot;width&quot;: 4}, {&quot;from&quot;: 6437073882875919479, &quot;to&quot;: -187039110220364317, &quot;color&quot;: &quot;black&quot;, &quot;physics&quot;: false, &quot;dashes&quot;: [10], &quot;group&quot;: &quot;ligand&quot;, &quot;width&quot;: 4}, {&quot;from&quot;: -5917269590958177677, &quot;to&quot;: -3792838552528751851, &quot;color&quot;: &quot;black&quot;, &quot;physics&quot;: false, &quot;dashes&quot;: [10], &quot;group&quot;: &quot;ligand&quot;, &quot;width&quot;: 4}, {&quot;from&quot;: 5740387857757244088, &quot;to&quot;: 7956099795176670084, &quot;color&quot;: &quot;black&quot;, &quot;physics&quot;: false, &quot;dashes&quot;: [10], &quot;group&quot;: &quot;ligand&quot;, &quot;width&quot;: 4}, {&quot;from&quot;: 3, &quot;to&quot;: 7, &quot;color&quot;: &quot;black&quot;, &quot;physics&quot;: false, &quot;group&quot;: &quot;ligand&quot;, &quot;width&quot;: 4}, {&quot;from&quot;: 5, &quot;to&quot;: 22, &quot;color&quot;: &quot;black&quot;, &quot;physics&quot;: false, &quot;group&quot;: &quot;ligand&quot;, &quot;width&quot;: 4}, {&quot;from&quot;: 5, &quot;to&quot;: 26, &quot;color&quot;: &quot;black&quot;, &quot;physics&quot;: false, &quot;group&quot;: &quot;ligand&quot;, &quot;width&quot;: 4}, {&quot;from&quot;: 5723364891576036571, &quot;to&quot;: 2747027632452540146, &quot;color&quot;: &quot;black&quot;, &quot;physics&quot;: false, &quot;dashes&quot;: [10], &quot;group&quot;: &quot;ligand&quot;, &quot;width&quot;: 4}, {&quot;from&quot;: -5593239559193899244, &quot;to&quot;: 70075498622684635, &quot;color&quot;: &quot;black&quot;, &quot;physics&quot;: false, &quot;dashes&quot;: [10], &quot;group&quot;: &quot;ligand&quot;, &quot;width&quot;: 4}, {&quot;from&quot;: 7, &quot;to&quot;: 23, &quot;color&quot;: &quot;black&quot;, &quot;physics&quot;: false, &quot;group&quot;: &quot;ligand&quot;, &quot;width&quot;: 4}, {&quot;from&quot;: 7910973288498756433, &quot;to&quot;: -4485482960706406158, &quot;color&quot;: &quot;black&quot;, &quot;physics&quot;: false, &quot;dashes&quot;: false, &quot;group&quot;: &quot;ligand&quot;, &quot;width&quot;: 4}, {&quot;from&quot;: -3659301829002499715, &quot;to&quot;: 4408068869020489926, &quot;color&quot;: &quot;black&quot;, &quot;physics&quot;: false, &quot;dashes&quot;: false, &quot;group&quot;: &quot;ligand&quot;, &quot;width&quot;: 4}, {&quot;from&quot;: 9, &quot;to&quot;: 10, &quot;color&quot;: &quot;black&quot;, &quot;physics&quot;: false, &quot;group&quot;: &quot;ligand&quot;, &quot;width&quot;: 4}, {&quot;from&quot;: 10, &quot;to&quot;: 15, &quot;color&quot;: &quot;black&quot;, &quot;physics&quot;: false, &quot;group&quot;: &quot;ligand&quot;, &quot;width&quot;: 4}, {&quot;from&quot;: 11, &quot;to&quot;: 12, &quot;color&quot;: &quot;black&quot;, &quot;physics&quot;: false, &quot;group&quot;: &quot;ligand&quot;, &quot;width&quot;: 4}, {&quot;from&quot;: 12, &quot;to&quot;: 13, &quot;color&quot;: &quot;black&quot;, &quot;physics&quot;: false, &quot;group&quot;: &quot;ligand&quot;, &quot;width&quot;: 4}, {&quot;from&quot;: -1410422305480564880, &quot;to&quot;: 1136545375626608061, &quot;color&quot;: &quot;black&quot;, &quot;physics&quot;: false, &quot;dashes&quot;: [10], &quot;group&quot;: &quot;ligand&quot;, &quot;width&quot;: 4}, {&quot;from&quot;: 2847388798703049308, &quot;to&quot;: -2569249473100202622, &quot;color&quot;: &quot;black&quot;, &quot;physics&quot;: false, &quot;dashes&quot;: [10], &quot;group&quot;: &quot;ligand&quot;, &quot;width&quot;: 4}, {&quot;from&quot;: -8485701553898801598, &quot;to&quot;: -1200850145314986950, &quot;color&quot;: &quot;black&quot;, &quot;physics&quot;: false, &quot;dashes&quot;: [10], &quot;group&quot;: &quot;ligand&quot;, &quot;width&quot;: 4}, {&quot;from&quot;: -6371140741053239256, &quot;to&quot;: -6820300478480771195, &quot;color&quot;: &quot;black&quot;, &quot;physics&quot;: false, &quot;dashes&quot;: [10], &quot;group&quot;: &quot;ligand&quot;, &quot;width&quot;: 4}, {&quot;from&quot;: -2642968305507885530, &quot;to&quot;: 9069485495954306557, &quot;color&quot;: &quot;black&quot;, &quot;physics&quot;: false, &quot;dashes&quot;: [10], &quot;group&quot;: &quot;ligand&quot;, &quot;width&quot;: 4}, {&quot;from&quot;: -3190077210302987375, &quot;to&quot;: -294426313491771221, &quot;color&quot;: &quot;black&quot;, &quot;physics&quot;: false, &quot;dashes&quot;: [10], &quot;group&quot;: &quot;ligand&quot;, &quot;width&quot;: 4}, {&quot;from&quot;: 4641755884697347806, &quot;to&quot;: 2931022912618318077, &quot;color&quot;: &quot;black&quot;, &quot;physics&quot;: false, &quot;dashes&quot;: [10], &quot;group&quot;: &quot;ligand&quot;, &quot;width&quot;: 4}, {&quot;from&quot;: -139418455435084316, &quot;to&quot;: -1845443305427820595, &quot;color&quot;: &quot;black&quot;, &quot;physics&quot;: false, &quot;dashes&quot;: [10], &quot;group&quot;: &quot;ligand&quot;, &quot;width&quot;: 4}, {&quot;from&quot;: 349525823640625507, &quot;to&quot;: 7274128422345456738, &quot;color&quot;: &quot;black&quot;, &quot;physics&quot;: false, &quot;dashes&quot;: [10], &quot;group&quot;: &quot;ligand&quot;, &quot;width&quot;: 4}, {&quot;from&quot;: -6311830488307172662, &quot;to&quot;: -1794643078453424268, &quot;color&quot;: &quot;black&quot;, &quot;physics&quot;: false, &quot;dashes&quot;: [10], &quot;group&quot;: &quot;ligand&quot;, &quot;width&quot;: 4}, {&quot;from&quot;: 16, &quot;to&quot;: 28, &quot;color&quot;: &quot;black&quot;, &quot;physics&quot;: false, &quot;group&quot;: &quot;ligand&quot;, &quot;width&quot;: 4}, {&quot;from&quot;: -8949743822251168912, &quot;to&quot;: -9094724335717667610, &quot;color&quot;: &quot;black&quot;, &quot;physics&quot;: false, &quot;dashes&quot;: [10], &quot;group&quot;: &quot;ligand&quot;, &quot;width&quot;: 4}, {&quot;from&quot;: -8388802177769774870, &quot;to&quot;: -3389495582661855378, &quot;color&quot;: &quot;black&quot;, &quot;physics&quot;: false, &quot;dashes&quot;: [10], &quot;group&quot;: &quot;ligand&quot;, &quot;width&quot;: 4}, {&quot;from&quot;: -4841616119768936375, &quot;to&quot;: 6594818319822836115, &quot;color&quot;: &quot;black&quot;, &quot;physics&quot;: false, &quot;dashes&quot;: [10], &quot;group&quot;: &quot;ligand&quot;, &quot;width&quot;: 4}, {&quot;from&quot;: -7505478070965583803, &quot;to&quot;: -1496040767196496046, &quot;color&quot;: &quot;black&quot;, &quot;physics&quot;: false, &quot;dashes&quot;: [10], &quot;group&quot;: &quot;ligand&quot;, &quot;width&quot;: 4}, {&quot;from&quot;: 5330721551608768943, &quot;to&quot;: 24736090623367257, &quot;color&quot;: &quot;black&quot;, &quot;physics&quot;: false, &quot;dashes&quot;: [10], &quot;group&quot;: &quot;ligand&quot;, &quot;width&quot;: 4}, {&quot;from&quot;: 8502286574545434152, &quot;to&quot;: 5861516150509349580, &quot;color&quot;: &quot;black&quot;, &quot;physics&quot;: false, &quot;dashes&quot;: [10], &quot;group&quot;: &quot;ligand&quot;, &quot;width&quot;: 4}, {&quot;from&quot;: -6489416175098121219, &quot;to&quot;: -5716924912154520674, &quot;color&quot;: &quot;black&quot;, &quot;physics&quot;: false, &quot;dashes&quot;: [10], &quot;group&quot;: &quot;ligand&quot;, &quot;width&quot;: 4}, {&quot;from&quot;: -1501862088299059721, &quot;to&quot;: 1016573433627771023, &quot;color&quot;: &quot;black&quot;, &quot;physics&quot;: false, &quot;dashes&quot;: [10], &quot;group&quot;: &quot;ligand&quot;, &quot;width&quot;: 4}, {&quot;from&quot;: -74260671804535662, &quot;to&quot;: -5388101521205316511, &quot;color&quot;: &quot;black&quot;, &quot;physics&quot;: false, &quot;dashes&quot;: [10], &quot;group&quot;: &quot;ligand&quot;, &quot;width&quot;: 4}, {&quot;from&quot;: -9210376901849910072, &quot;to&quot;: -7345922297529787422, &quot;color&quot;: &quot;black&quot;, &quot;physics&quot;: false, &quot;dashes&quot;: [10], &quot;group&quot;: &quot;ligand&quot;, &quot;width&quot;: 4}, {&quot;from&quot;: 7053364120183086257, &quot;to&quot;: 1520285861691578325, &quot;color&quot;: &quot;black&quot;, &quot;physics&quot;: false, &quot;dashes&quot;: [10], &quot;group&quot;: &quot;ligand&quot;, &quot;width&quot;: 4}, {&quot;from&quot;: 8498929640055607415, &quot;to&quot;: 1491255143727389812, &quot;color&quot;: &quot;black&quot;, &quot;physics&quot;: false, &quot;dashes&quot;: [10], &quot;group&quot;: &quot;ligand&quot;, &quot;width&quot;: 4}, {&quot;from&quot;: 21, &quot;to&quot;: 25, &quot;color&quot;: &quot;black&quot;, &quot;physics&quot;: false, &quot;group&quot;: &quot;ligand&quot;, &quot;width&quot;: 4}, {&quot;from&quot;: 23, &quot;to&quot;: 24, &quot;color&quot;: &quot;black&quot;, &quot;physics&quot;: false, &quot;group&quot;: &quot;ligand&quot;, &quot;width&quot;: 4}, {&quot;from&quot;: 24, &quot;to&quot;: 29, &quot;color&quot;: &quot;black&quot;, &quot;physics&quot;: false, &quot;group&quot;: &quot;ligand&quot;, &quot;width&quot;: 4}, {&quot;from&quot;: 24, &quot;to&quot;: 30, &quot;color&quot;: &quot;black&quot;, &quot;physics&quot;: false, &quot;group&quot;: &quot;ligand&quot;, &quot;width&quot;: 4}, {&quot;from&quot;: 29, &quot;to&quot;: 30, &quot;color&quot;: &quot;black&quot;, &quot;physics&quot;: false, &quot;group&quot;: &quot;ligand&quot;, &quot;width&quot;: 4}];\n",
              "        ifp = drawGraph(&#x27;mynetwork&#x27;, nodes, edges, {&quot;width&quot;: &quot;100%&quot;, &quot;height&quot;: &quot;500px&quot;, &quot;nodes&quot;: {&quot;font&quot;: {&quot;size&quot;: 20}}, &quot;physics&quot;: {&quot;barnesHut&quot;: {&quot;avoidOverlap&quot;: 0.8, &quot;springConstant&quot;: 0.1}}});\n",
              "    \n",
              "        legend_buttons = [{&quot;index&quot;: 0, &quot;label&quot;: &quot;Aliphatic&quot;, &quot;color&quot;: &quot;#59e382&quot;, &quot;group&quot;: &quot;residues&quot;}, {&quot;index&quot;: 1, &quot;label&quot;: &quot;Basic&quot;, &quot;color&quot;: &quot;#5979e3&quot;, &quot;group&quot;: &quot;residues&quot;}, {&quot;index&quot;: 0, &quot;label&quot;: &quot;VdWContact&quot;, &quot;color&quot;: &quot;#59e3ad&quot;, &quot;group&quot;: &quot;interactions&quot;}];\n",
              "        legend = document.getElementById(&#x27;networklegend&#x27;);\n",
              "        var div_residues = document.createElement(&#x27;div&#x27;);\n",
              "        var div_interactions = document.createElement(&#x27;div&#x27;);\n",
              "        var disabled = [];\n",
              "        var legend_callback = function() {\n",
              "            this.classList.toggle(&quot;disabled&quot;);\n",
              "            var hide = this.classList.contains(&quot;disabled&quot;);\n",
              "            var show = !hide;\n",
              "            var btn_label = this.innerHTML;\n",
              "            if (hide) {\n",
              "                disabled.push(btn_label);\n",
              "            } else {\n",
              "                disabled = disabled.filter(x =&gt; x !== btn_label);\n",
              "            }\n",
              "            var node_update = [],\n",
              "                edge_update = [];\n",
              "            // click on residue type\n",
              "            if (this.classList.contains(&quot;residues&quot;)) {\n",
              "                nodes.forEach((node) =&gt; {\n",
              "                    // find nodes corresponding to this type\n",
              "                    if (node.residue_type === btn_label) {\n",
              "                        // if hiding this type and residue isn&#x27;t already hidden\n",
              "                        if (hide &amp;&amp; !node.hidden) {\n",
              "                            node.hidden = true;\n",
              "                            node_update.push(node);\n",
              "                        // if showing this type and residue isn&#x27;t already visible\n",
              "                        } else if (show &amp;&amp; node.hidden) {\n",
              "                            // display if there&#x27;s at least one of its edge that isn&#x27;t hidden\n",
              "                            num_edges_active = edges.filter(x =&gt; x.to === node.id)\n",
              "                                                    .map(x =&gt; Boolean(x.hidden))\n",
              "                                                    .filter(x =&gt; !x)\n",
              "                                                    .length;\n",
              "                            if (num_edges_active &gt; 0) {\n",
              "                                node.hidden = false;\n",
              "                                node_update.push(node);\n",
              "                            }\n",
              "                        }\n",
              "                    }\n",
              "                });\n",
              "                ifp.body.data.nodes.update(node_update);\n",
              "            // click on interaction type\n",
              "            } else {\n",
              "                edges.forEach((edge) =&gt; {\n",
              "                    // find edges corresponding to this type\n",
              "                    if (edge.interaction_type === btn_label) {\n",
              "                        edge.hidden = !edge.hidden;\n",
              "                        edge_update.push(edge);\n",
              "                        // number of active edges for the corresponding residue\n",
              "                        var num_edges_active = edges.filter(x =&gt; x.to === edge.to)\n",
              "                                               .map(x =&gt; Boolean(x.hidden))\n",
              "                                               .filter(x =&gt; !x)\n",
              "                                               .length;\n",
              "                        // find corresponding residue\n",
              "                        var ix = nodes.findIndex(x =&gt; x.id === edge.to);\n",
              "                        // only change visibility if residue_type not being hidden\n",
              "                        if (!(disabled.includes(nodes[ix].residue_type))) {\n",
              "                            // hide if no edge being shown for this residue\n",
              "                            if (hide &amp;&amp; (num_edges_active === 0)) {\n",
              "                                nodes[ix].hidden = true;\n",
              "                                node_update.push(nodes[ix]);\n",
              "                            // show if edges are being shown\n",
              "                            } else if (show &amp;&amp; (num_edges_active &gt; 0)) {\n",
              "                                nodes[ix].hidden = false;\n",
              "                                node_update.push(nodes[ix]);\n",
              "                            }\n",
              "                        }\n",
              "                    }\n",
              "                });\n",
              "                ifp.body.data.nodes.update(node_update);\n",
              "                ifp.body.data.edges.update(edge_update);\n",
              "            }\n",
              "        };\n",
              "        legend_buttons.forEach(function(v,i) {\n",
              "            if (v.group === &quot;residues&quot;) {\n",
              "                var div = div_residues;\n",
              "                var border = &quot;none&quot;;\n",
              "                var color = v.color;\n",
              "            } else {\n",
              "                var div = div_interactions;\n",
              "                var border = &quot;3px dashed &quot; + v.color;\n",
              "                var color = &quot;white&quot;;\n",
              "            }\n",
              "            var button = div.appendChild(document.createElement(&#x27;button&#x27;));\n",
              "            button.classList.add(&quot;legend-btn&quot;, v.group);\n",
              "            button.innerHTML = v.label;\n",
              "            Object.assign(button.style, {\n",
              "                &quot;cursor&quot;: &quot;pointer&quot;,\n",
              "                &quot;background-color&quot;: color,\n",
              "                &quot;border&quot;: border,\n",
              "                &quot;border-radius&quot;: &quot;5px&quot;,\n",
              "                &quot;padding&quot;: &quot;5px&quot;,\n",
              "                &quot;margin&quot;: &quot;5px&quot;,\n",
              "                &quot;font&quot;: &quot;14px &#x27;Arial&#x27;, sans-serif&quot;,\n",
              "            });\n",
              "            button.onclick = legend_callback;\n",
              "        });\n",
              "        legend.appendChild(div_residues);\n",
              "        legend.appendChild(div_interactions);\n",
              "        \n",
              "        &lt;/script&gt;\n",
              "        &lt;/body&gt;\n",
              "        &lt;/html&gt;\n",
              "    \"></iframe>"
            ]
          },
          "metadata": {},
          "execution_count": 130
        }
      ]
    }
  ],
  "metadata": {
    "kernelspec": {
      "display_name": "Python 3",
      "language": "python",
      "name": "py35-paddle1.2.0"
    },
    "language_info": {
      "codemirror_mode": {
        "name": "ipython",
        "version": 3
      },
      "file_extension": ".py",
      "mimetype": "text/x-python",
      "name": "python",
      "nbconvert_exporter": "python",
      "pygments_lexer": "ipython3",
      "version": "3.7.4"
    },
    "colab": {
      "provenance": []
    },
    "widgets": {
      "application/vnd.jupyter.widget-state+json": {
        "df170e25560e496cbe0e51f3ea3aee04": {
          "model_module": "@jupyter-widgets/controls",
          "model_name": "HBoxModel",
          "model_module_version": "1.5.0",
          "state": {
            "_dom_classes": [],
            "_model_module": "@jupyter-widgets/controls",
            "_model_module_version": "1.5.0",
            "_model_name": "HBoxModel",
            "_view_count": null,
            "_view_module": "@jupyter-widgets/controls",
            "_view_module_version": "1.5.0",
            "_view_name": "HBoxView",
            "box_style": "",
            "children": [
              "IPY_MODEL_d02f75ce59fe4128a3ba578029f79c53",
              "IPY_MODEL_582a90fa1f76427498fcc5cd04ea12fa",
              "IPY_MODEL_d66238619f29446ebe4520d1b7ec52ec"
            ],
            "layout": "IPY_MODEL_627f473edb044962adc21e92e459bcf6"
          }
        },
        "d02f75ce59fe4128a3ba578029f79c53": {
          "model_module": "@jupyter-widgets/controls",
          "model_name": "HTMLModel",
          "model_module_version": "1.5.0",
          "state": {
            "_dom_classes": [],
            "_model_module": "@jupyter-widgets/controls",
            "_model_module_version": "1.5.0",
            "_model_name": "HTMLModel",
            "_view_count": null,
            "_view_module": "@jupyter-widgets/controls",
            "_view_module_version": "1.5.0",
            "_view_name": "HTMLView",
            "description": "",
            "description_tooltip": null,
            "layout": "IPY_MODEL_6d2f73e5e10145e1a31ac807e840bf45",
            "placeholder": "​",
            "style": "IPY_MODEL_2db2df992e8349999957c66d5fe01c91",
            "value": "100%"
          }
        },
        "582a90fa1f76427498fcc5cd04ea12fa": {
          "model_module": "@jupyter-widgets/controls",
          "model_name": "FloatProgressModel",
          "model_module_version": "1.5.0",
          "state": {
            "_dom_classes": [],
            "_model_module": "@jupyter-widgets/controls",
            "_model_module_version": "1.5.0",
            "_model_name": "FloatProgressModel",
            "_view_count": null,
            "_view_module": "@jupyter-widgets/controls",
            "_view_module_version": "1.5.0",
            "_view_name": "ProgressView",
            "bar_style": "",
            "description": "",
            "description_tooltip": null,
            "layout": "IPY_MODEL_291a9a07da734207a538b665f0fcebd0",
            "max": 1,
            "min": 0,
            "orientation": "horizontal",
            "style": "IPY_MODEL_bd5fb7ecd2824652bb2b4c39e0a73585",
            "value": 1
          }
        },
        "d66238619f29446ebe4520d1b7ec52ec": {
          "model_module": "@jupyter-widgets/controls",
          "model_name": "HTMLModel",
          "model_module_version": "1.5.0",
          "state": {
            "_dom_classes": [],
            "_model_module": "@jupyter-widgets/controls",
            "_model_module_version": "1.5.0",
            "_model_name": "HTMLModel",
            "_view_count": null,
            "_view_module": "@jupyter-widgets/controls",
            "_view_module_version": "1.5.0",
            "_view_name": "HTMLView",
            "description": "",
            "description_tooltip": null,
            "layout": "IPY_MODEL_edf5caec5497493e903f3c310df6f2c4",
            "placeholder": "​",
            "style": "IPY_MODEL_b023df6fd9744b1ea351bdebb1f74201",
            "value": " 1/1 [00:17&lt;00:00, 17.09s/it]"
          }
        },
        "627f473edb044962adc21e92e459bcf6": {
          "model_module": "@jupyter-widgets/base",
          "model_name": "LayoutModel",
          "model_module_version": "1.2.0",
          "state": {
            "_model_module": "@jupyter-widgets/base",
            "_model_module_version": "1.2.0",
            "_model_name": "LayoutModel",
            "_view_count": null,
            "_view_module": "@jupyter-widgets/base",
            "_view_module_version": "1.2.0",
            "_view_name": "LayoutView",
            "align_content": null,
            "align_items": null,
            "align_self": null,
            "border": null,
            "bottom": null,
            "display": null,
            "flex": null,
            "flex_flow": null,
            "grid_area": null,
            "grid_auto_columns": null,
            "grid_auto_flow": null,
            "grid_auto_rows": null,
            "grid_column": null,
            "grid_gap": null,
            "grid_row": null,
            "grid_template_areas": null,
            "grid_template_columns": null,
            "grid_template_rows": null,
            "height": null,
            "justify_content": null,
            "justify_items": null,
            "left": null,
            "margin": null,
            "max_height": null,
            "max_width": null,
            "min_height": null,
            "min_width": null,
            "object_fit": null,
            "object_position": null,
            "order": null,
            "overflow": null,
            "overflow_x": null,
            "overflow_y": null,
            "padding": null,
            "right": null,
            "top": null,
            "visibility": null,
            "width": null
          }
        },
        "6d2f73e5e10145e1a31ac807e840bf45": {
          "model_module": "@jupyter-widgets/base",
          "model_name": "LayoutModel",
          "model_module_version": "1.2.0",
          "state": {
            "_model_module": "@jupyter-widgets/base",
            "_model_module_version": "1.2.0",
            "_model_name": "LayoutModel",
            "_view_count": null,
            "_view_module": "@jupyter-widgets/base",
            "_view_module_version": "1.2.0",
            "_view_name": "LayoutView",
            "align_content": null,
            "align_items": null,
            "align_self": null,
            "border": null,
            "bottom": null,
            "display": null,
            "flex": null,
            "flex_flow": null,
            "grid_area": null,
            "grid_auto_columns": null,
            "grid_auto_flow": null,
            "grid_auto_rows": null,
            "grid_column": null,
            "grid_gap": null,
            "grid_row": null,
            "grid_template_areas": null,
            "grid_template_columns": null,
            "grid_template_rows": null,
            "height": null,
            "justify_content": null,
            "justify_items": null,
            "left": null,
            "margin": null,
            "max_height": null,
            "max_width": null,
            "min_height": null,
            "min_width": null,
            "object_fit": null,
            "object_position": null,
            "order": null,
            "overflow": null,
            "overflow_x": null,
            "overflow_y": null,
            "padding": null,
            "right": null,
            "top": null,
            "visibility": null,
            "width": null
          }
        },
        "2db2df992e8349999957c66d5fe01c91": {
          "model_module": "@jupyter-widgets/controls",
          "model_name": "DescriptionStyleModel",
          "model_module_version": "1.5.0",
          "state": {
            "_model_module": "@jupyter-widgets/controls",
            "_model_module_version": "1.5.0",
            "_model_name": "DescriptionStyleModel",
            "_view_count": null,
            "_view_module": "@jupyter-widgets/base",
            "_view_module_version": "1.2.0",
            "_view_name": "StyleView",
            "description_width": ""
          }
        },
        "291a9a07da734207a538b665f0fcebd0": {
          "model_module": "@jupyter-widgets/base",
          "model_name": "LayoutModel",
          "model_module_version": "1.2.0",
          "state": {
            "_model_module": "@jupyter-widgets/base",
            "_model_module_version": "1.2.0",
            "_model_name": "LayoutModel",
            "_view_count": null,
            "_view_module": "@jupyter-widgets/base",
            "_view_module_version": "1.2.0",
            "_view_name": "LayoutView",
            "align_content": null,
            "align_items": null,
            "align_self": null,
            "border": null,
            "bottom": null,
            "display": null,
            "flex": null,
            "flex_flow": null,
            "grid_area": null,
            "grid_auto_columns": null,
            "grid_auto_flow": null,
            "grid_auto_rows": null,
            "grid_column": null,
            "grid_gap": null,
            "grid_row": null,
            "grid_template_areas": null,
            "grid_template_columns": null,
            "grid_template_rows": null,
            "height": null,
            "justify_content": null,
            "justify_items": null,
            "left": null,
            "margin": null,
            "max_height": null,
            "max_width": null,
            "min_height": null,
            "min_width": null,
            "object_fit": null,
            "object_position": null,
            "order": null,
            "overflow": null,
            "overflow_x": null,
            "overflow_y": null,
            "padding": null,
            "right": null,
            "top": null,
            "visibility": null,
            "width": null
          }
        },
        "bd5fb7ecd2824652bb2b4c39e0a73585": {
          "model_module": "@jupyter-widgets/controls",
          "model_name": "ProgressStyleModel",
          "model_module_version": "1.5.0",
          "state": {
            "_model_module": "@jupyter-widgets/controls",
            "_model_module_version": "1.5.0",
            "_model_name": "ProgressStyleModel",
            "_view_count": null,
            "_view_module": "@jupyter-widgets/base",
            "_view_module_version": "1.2.0",
            "_view_name": "StyleView",
            "bar_color": null,
            "description_width": ""
          }
        },
        "edf5caec5497493e903f3c310df6f2c4": {
          "model_module": "@jupyter-widgets/base",
          "model_name": "LayoutModel",
          "model_module_version": "1.2.0",
          "state": {
            "_model_module": "@jupyter-widgets/base",
            "_model_module_version": "1.2.0",
            "_model_name": "LayoutModel",
            "_view_count": null,
            "_view_module": "@jupyter-widgets/base",
            "_view_module_version": "1.2.0",
            "_view_name": "LayoutView",
            "align_content": null,
            "align_items": null,
            "align_self": null,
            "border": null,
            "bottom": null,
            "display": null,
            "flex": null,
            "flex_flow": null,
            "grid_area": null,
            "grid_auto_columns": null,
            "grid_auto_flow": null,
            "grid_auto_rows": null,
            "grid_column": null,
            "grid_gap": null,
            "grid_row": null,
            "grid_template_areas": null,
            "grid_template_columns": null,
            "grid_template_rows": null,
            "height": null,
            "justify_content": null,
            "justify_items": null,
            "left": null,
            "margin": null,
            "max_height": null,
            "max_width": null,
            "min_height": null,
            "min_width": null,
            "object_fit": null,
            "object_position": null,
            "order": null,
            "overflow": null,
            "overflow_x": null,
            "overflow_y": null,
            "padding": null,
            "right": null,
            "top": null,
            "visibility": null,
            "width": null
          }
        },
        "b023df6fd9744b1ea351bdebb1f74201": {
          "model_module": "@jupyter-widgets/controls",
          "model_name": "DescriptionStyleModel",
          "model_module_version": "1.5.0",
          "state": {
            "_model_module": "@jupyter-widgets/controls",
            "_model_module_version": "1.5.0",
            "_model_name": "DescriptionStyleModel",
            "_view_count": null,
            "_view_module": "@jupyter-widgets/base",
            "_view_module_version": "1.2.0",
            "_view_name": "StyleView",
            "description_width": ""
          }
        }
      }
    }
  },
  "nbformat": 4,
  "nbformat_minor": 0
}