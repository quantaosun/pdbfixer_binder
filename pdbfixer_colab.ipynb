{
  "cells": [
    {
      "cell_type": "code",
      "execution_count": 1,
      "metadata": {
        "execution": {
          "iopub.execute_input": "2021-10-17T09:46:47.190602Z",
          "iopub.status.busy": "2021-10-17T09:46:47.190226Z"
        },
        "colab": {
          "base_uri": "https://localhost:8080/"
        },
        "id": "n-T9DTZWhQyh",
        "outputId": "55d5e8dc-af39-4f61-be47-b78846defd36"
      },
      "outputs": [
        {
          "output_type": "stream",
          "name": "stdout",
          "text": [
            "⏬ Downloading https://github.com/jaimergp/miniforge/releases/latest/download/Mambaforge-colab-Linux-x86_64.sh...\n",
            "📦 Installing...\n",
            "📌 Adjusting configuration...\n",
            "🩹 Patching environment...\n",
            "⏲ Done in 0:00:20\n",
            "🔁 Restarting kernel...\n"
          ]
        }
      ],
      "source": [
        "!pip install -q condacolab\n",
        "import condacolab\n",
        "condacolab.install()"
      ]
    },
    {
      "cell_type": "code",
      "execution_count": null,
      "metadata": {
        "execution": {
          "iopub.execute_input": "2021-10-17T09:30:42.950431Z",
          "iopub.status.busy": "2021-10-17T09:30:42.950122Z",
          "iopub.status.idle": "2021-10-17T09:31:36.742917Z",
          "shell.execute_reply": "2021-10-17T09:31:36.742146Z",
          "shell.execute_reply.started": "2021-10-17T09:30:42.950386Z"
        },
        "scrolled": true,
        "id": "MdLTT9VbhQyi"
      },
      "outputs": [],
      "source": [
        "!conda install -c conda-forge openmm -y\n",
        "!conda install -c conda-forge pdbfixer -y"
      ]
    },
    {
      "cell_type": "markdown",
      "source": [
        "# Easy if only the protein need prepared"
      ],
      "metadata": {
        "id": "tJm3Cfv-bKIc"
      }
    },
    {
      "cell_type": "code",
      "execution_count": 4,
      "metadata": {
        "execution": {
          "iopub.execute_input": "2021-10-14T13:52:53.739458Z",
          "iopub.status.busy": "2021-10-14T13:52:53.738597Z",
          "iopub.status.idle": "2021-10-14T13:53:24.168555Z",
          "shell.execute_reply": "2021-10-14T13:53:24.166859Z",
          "shell.execute_reply.started": "2021-10-14T13:52:53.739120Z"
        },
        "colab": {
          "base_uri": "https://localhost:8080/"
        },
        "id": "xzH1G92-hQyj",
        "outputId": "2c4dd2f3-cb90-4e23-a51f-f661e53e66d0"
      },
      "outputs": [
        {
          "output_type": "stream",
          "name": "stdout",
          "text": [
            "--2023-02-01 05:13:58--  https://files.rcsb.org/download/7L10.pdb\n",
            "Resolving files.rcsb.org (files.rcsb.org)... 132.249.210.234\n",
            "Connecting to files.rcsb.org (files.rcsb.org)|132.249.210.234|:443... connected.\n",
            "HTTP request sent, awaiting response... 200 OK\n",
            "Length: unspecified [application/octet-stream]\n",
            "Saving to: ‘7L10.pdb’\n",
            "\n",
            "7L10.pdb                [  <=>               ] 241.42K  1.11MB/s    in 0.2s    \n",
            "\n",
            "2023-02-01 05:13:58 (1.11 MB/s) - ‘7L10.pdb’ saved [247212]\n",
            "\n"
          ]
        }
      ],
      "source": [
        "!wget https://files.rcsb.org/download/7L10.pdb"
      ]
    },
    {
      "cell_type": "code",
      "source": [
        "# With Command line"
      ],
      "metadata": {
        "id": "Dwo6ki2WYMis"
      },
      "execution_count": null,
      "outputs": []
    },
    {
      "cell_type": "code",
      "execution_count": null,
      "metadata": {
        "execution": {
          "iopub.execute_input": "2021-10-14T14:03:55.376689Z",
          "iopub.status.busy": "2021-10-14T14:03:55.376277Z"
        },
        "colab": {
          "base_uri": "https://localhost:8080/"
        },
        "id": "eKvj30K-hQyj",
        "outputId": "b5be2e31-e547-4e20-8cd6-ae1a41b8ab65"
      },
      "outputs": [
        {
          "output_type": "stream",
          "name": "stdout",
          "text": [
            "Warning: importing 'simtk.openmm' is deprecated.  Import 'openmm' instead.\n"
          ]
        }
      ],
      "source": [
        "!pdbfixer  7L10.pdb --ph=7  --replace-nonstandard --add-residues "
      ]
    },
    {
      "cell_type": "code",
      "source": [
        "# With Python API"
      ],
      "metadata": {
        "id": "GruyyotVYGko"
      },
      "execution_count": null,
      "outputs": []
    },
    {
      "cell_type": "code",
      "source": [
        "from pdbfixer import PDBFixer\n",
        "from openmm.app import PDBFile\n",
        "fixer = PDBFixer(filename='7L10.pdb')\n",
        "fixer.findMissingResidues()\n",
        "fixer.findNonstandardResidues()\n",
        "fixer.replaceNonstandardResidues()\n",
        "fixer.removeHeterogens(True)\n",
        "fixer.findMissingAtoms()\n",
        "fixer.addMissingAtoms()\n",
        "fixer.addMissingHydrogens(7.0)\n",
        "fixer.addSolvent(fixer.topology.getUnitCellDimensions())\n",
        "PDBFile.writeFile(fixer.topology, fixer.positions, open('output.pdb', 'w'))"
      ],
      "metadata": {
        "colab": {
          "base_uri": "https://localhost:8080/"
        },
        "id": "cs1lB2W8YGni",
        "outputId": "631a156a-ed0d-4d77-d68f-c52e9212e8db"
      },
      "execution_count": 5,
      "outputs": [
        {
          "output_type": "stream",
          "name": "stderr",
          "text": [
            "Warning: importing 'simtk.openmm' is deprecated.  Import 'openmm' instead.\n"
          ]
        }
      ]
    },
    {
      "cell_type": "code",
      "source": [
        "# If you want to address the ligand interaction"
      ],
      "metadata": {
        "id": "YuDbkb2pYGqY"
      },
      "execution_count": null,
      "outputs": []
    },
    {
      "cell_type": "markdown",
      "source": [
        "# Things started to get complicated "
      ],
      "metadata": {
        "id": "Lp08sc8aaTOI"
      }
    },
    {
      "cell_type": "code",
      "execution_count": 7,
      "metadata": {
        "cellView": "form",
        "colab": {
          "base_uri": "https://localhost:8080/"
        },
        "id": "s5B8su8nB0mS",
        "outputId": "82f08648-904c-4b5d-88c3-642436fccd75"
      },
      "outputs": [
        {
          "output_type": "stream",
          "name": "stdout",
          "text": [
            "--2023-02-01 05:17:33--  https://files.rcsb.org/download/7L10.pdb\n",
            "Resolving files.rcsb.org (files.rcsb.org)... 132.249.210.234\n",
            "Connecting to files.rcsb.org (files.rcsb.org)|132.249.210.234|:443... connected.\n",
            "HTTP request sent, awaiting response... 200 OK\n",
            "Length: unspecified [application/octet-stream]\n",
            "Saving to: ‘7L10.pdb.1’\n",
            "\n",
            "7L10.pdb.1              [  <=>               ] 241.42K  1.14MB/s    in 0.2s    \n",
            "\n",
            "2023-02-01 05:17:33 (1.14 MB/s) - ‘7L10.pdb.1’ saved [247212]\n",
            "\n"
          ]
        }
      ],
      "source": [
        "#@title Input expected from the user\n",
        "PDB_ID = \"7L10\" #@param {type:\"string\"}\n",
        "pdb = PDB_ID + \".pdb\"\n",
        "! wget https://files.rcsb.org/download/$pdb\n",
        "#@title Ligand three-letter name\n",
        "Ligand = \"XEY\" #@param {type:\"string\"}\n"
      ]
    },
    {
      "cell_type": "code",
      "source": [
        "!yes|conda install -c conda-forge pymol-open-source 2>&1 1>/dev/null"
      ],
      "metadata": {
        "id": "IRe0YfRlanH7"
      },
      "execution_count": 11,
      "outputs": []
    },
    {
      "cell_type": "code",
      "source": [
        "!conda install -c rdkit rdkit -y 2>&1 1>/dev/null\n",
        "!conda install -q -y -c openbabel openbabel 2>&1 1>/dev/null"
      ],
      "metadata": {
        "id": "rnamTCcNbCvZ"
      },
      "execution_count": 13,
      "outputs": []
    },
    {
      "cell_type": "code",
      "source": [
        "!conda install -c bioconda pybel 2>&1 1>/dev/null"
      ],
      "metadata": {
        "id": "_1PtunDvdQfx"
      },
      "execution_count": 21,
      "outputs": []
    },
    {
      "cell_type": "code",
      "execution_count": 6,
      "metadata": {
        "id": "nbHM8p20i7pD"
      },
      "outputs": [],
      "source": [
        "#@title Write out a script for pymol\n",
        "com_file = open('split.pml','w')\n",
        "com_file.write('''\n",
        "load 3HTB.pdb\n",
        "remove resn HOH\n",
        "h_add elem O or elem N\n",
        "select 3HTB-JZ4, resn JZ4 #Create a selection called 1OYT-FSN from the ligand\n",
        "select 3HTB-receptor, 3HTB and not 3HTB-JZ4 #Select all that is not the ligand\n",
        "save 3HTB-JZ4.pdb, 3HTB-JZ4\n",
        "save 3HTB-receptor.pdb, 3HTB-receptor    \n",
        "''')\n",
        "com_file.close()"
      ]
    },
    {
      "cell_type": "code",
      "source": [
        "#@title Correct the script with right PDB ID and ligand name\n",
        "!sed -i 's/3HTB/{PDB_ID}/g' split.pml\n",
        "!sed 's/JZ4/{Ligand}/g' split.pml\n",
        "!sed -i 's/JZ4/{Ligand}/g' split.pml"
      ],
      "metadata": {
        "id": "Gpjf85fDeTf5",
        "colab": {
          "base_uri": "https://localhost:8080/"
        },
        "outputId": "6fe47567-730f-4f2b-a7fe-a1dda9885320"
      },
      "execution_count": 8,
      "outputs": [
        {
          "output_type": "stream",
          "name": "stdout",
          "text": [
            "\n",
            "load 7L10.pdb\n",
            "remove resn HOH\n",
            "h_add elem O or elem N\n",
            "select 7L10-XEY, resn XEY #Create a selection called 1OYT-FSN from the ligand\n",
            "select 7L10-receptor, 7L10 and not 7L10-XEY #Select all that is not the ligand\n",
            "save 7L10-XEY.pdb, 7L10-XEY\n",
            "save 7L10-receptor.pdb, 7L10-receptor    \n"
          ]
        }
      ]
    },
    {
      "cell_type": "code",
      "execution_count": 12,
      "metadata": {
        "id": "scOeFAqYi7pD",
        "outputId": "cceb651e-3919-4b22-9661-13bf53adcdbc",
        "colab": {
          "base_uri": "https://localhost:8080/"
        }
      },
      "outputs": [
        {
          "output_type": "stream",
          "name": "stdout",
          "text": [
            " PyMOL(TM) Molecular Graphics System, Version 2.5.0.\n",
            " Copyright (c) Schrodinger, LLC.\n",
            " All Rights Reserved.\n",
            " \n",
            "    Created by Warren L. DeLano, Ph.D. \n",
            " \n",
            "    PyMOL is user-supported open-source software.  Although some versions\n",
            "    are freely available, PyMOL is not in the public domain.\n",
            " \n",
            "    If PyMOL is helpful in your work or study, then please volunteer \n",
            "    support for our ongoing efforts to create open and affordable scientific\n",
            "    software by purchasing a PyMOL Maintenance and/or Support subscription.\n",
            "\n",
            "    More information can be found at \"http://www.pymol.org\".\n",
            " \n",
            "    Enter \"help\" for a list of commands.\n",
            "    Enter \"help <command-name>\" for information on a specific command.\n",
            "\n",
            " Hit ESC anytime to toggle between text and graphics.\n",
            "\n",
            " Detected 2 CPU cores.  Enabled multithreaded rendering.\n",
            "PyMOL>load 7L10.pdb\n",
            "HEADER    VIRAL PROTEIN, HYDROLASE                13-DEC-20   7L10\n",
            "TITLE     CRYSTAL STRUCTURE OF THE SARS-COV-2 (2019-NCOV) MAIN PROTEASE IN\n",
            "TITLE    2 COMPLEX WITH COMPOUND 4\n",
            "COMPND    MOL_ID: 1;\n",
            "COMPND   2 MOLECULE: 3C-LIKE PROTEINASE;\n",
            "COMPND   3 CHAIN: A;\n",
            "COMPND   4 EC: 3.4.22.69;\n",
            "COMPND   5 ENGINEERED: YES\n",
            " ObjectMolecule: Read secondary structure assignments.\n",
            " ObjectMolecule: Read crystal symmetry information.\n",
            " CmdLoad: \"\" loaded as \"7L10\".\n",
            "PyMOL>remove resn HOH\n",
            " Remove: eliminated 239 atoms in model \"7L10\".\n",
            "PyMOL>h_add elem O or elem N\n",
            "PyMOL>select 7L10-XEY, resn XEY #Create a selection called 1OYT-FSN from the ligand\n",
            " Selector: selection \"7L10-XEY\" defined with 30 atoms.\n",
            "PyMOL>select 7L10-receptor, 7L10 and not 7L10-XEY #Select all that is not the ligand\n",
            " Selector: selection \"7L10-receptor\" defined with 2856 atoms.\n",
            "PyMOL>save 7L10-XEY.pdb, 7L10-XEY\n",
            " Save: wrote \"7L10-XEY.pdb\".\n",
            "PyMOL>save 7L10-receptor.pdb, 7L10-receptor\n",
            " Save: wrote \"7L10-receptor.pdb\".\n"
          ]
        }
      ],
      "source": [
        "#@title Run pymol to split protein and native ligand\n",
        "!pymol -c split.pml"
      ]
    },
    {
      "cell_type": "code",
      "source": [
        "import sys\n",
        "import os\n",
        "from rdkit import Chem\n",
        "from rdkit.Chem import AllChem\n",
        "from rdkit.Chem import Draw\n",
        "from rdkit.Chem.Draw import IPythonConsole\n",
        "from rdkit.Chem import DataStructs\n",
        "from rdkit.Chem import RDConfig\n",
        "from rdkit.Chem import rdBase\n",
        "print(rdBase.rdkitVersion)"
      ],
      "metadata": {
        "colab": {
          "base_uri": "https://localhost:8080/"
        },
        "id": "ZddkDoYUbYQf",
        "outputId": "f389d2b0-90ae-43b6-8a64-d7f642d66863"
      },
      "execution_count": 14,
      "outputs": [
        {
          "output_type": "stream",
          "name": "stdout",
          "text": [
            "2022.09.4\n"
          ]
        }
      ]
    },
    {
      "cell_type": "code",
      "source": [
        "import pybel"
      ],
      "metadata": {
        "id": "Il1_2k4TdokL"
      },
      "execution_count": 22,
      "outputs": []
    },
    {
      "cell_type": "code",
      "source": [
        "m=Chem.MolFromPDBFile('7L10-XEY.pdb')\n",
        "Draw.MolToImage(m)"
      ],
      "metadata": {
        "colab": {
          "base_uri": "https://localhost:8080/",
          "height": 317
        },
        "id": "gfJPH3rWbBCs",
        "outputId": "6ea69da2-80c9-4d33-839a-a588bad68101"
      },
      "execution_count": 15,
      "outputs": [
        {
          "output_type": "execute_result",
          "data": {
            "text/plain": [
              "<PIL.PngImagePlugin.PngImageFile image mode=RGB size=300x300 at 0x7FB4ACCAF760>"
            ],
            "image/png": "[encoded data removed]"
          },
          "metadata": {},
          "execution_count": 15
        }
      ]
    },
    {
      "cell_type": "code",
      "source": [
        "!obabel -ipdb 7L10-XEY.pdb -omol2 -O 7L10-XEY.mol2 -h"
      ],
      "metadata": {
        "colab": {
          "base_uri": "https://localhost:8080/"
        },
        "id": "k76ASzZ-cEwk",
        "outputId": "b4d286f1-23c8-4586-f30f-e58b7f3dfede"
      },
      "execution_count": 18,
      "outputs": [
        {
          "output_type": "stream",
          "name": "stdout",
          "text": [
            "==============================\n",
            "*** Open Babel Warning  in PerceiveBondOrders\n",
            "  Failed to kekulize aromatic bonds in OBMol::PerceiveBondOrders (title is 7L10-XEY.pdb)\n",
            "\n",
            "1 molecule converted\n"
          ]
        }
      ]
    },
    {
      "cell_type": "code",
      "source": [
        "m=Chem.MolFromMol2File('7L10-XEY.mol2',sanitize=False)\n",
        "Draw.MolToImage(m)\n"
      ],
      "metadata": {
        "colab": {
          "base_uri": "https://localhost:8080/",
          "height": 317
        },
        "id": "j0ANIjfzcXnd",
        "outputId": "561e747a-e1b5-4826-8f14-4fd5d93c28b5"
      },
      "execution_count": 19,
      "outputs": [
        {
          "output_type": "execute_result",
          "data": {
            "text/plain": [
              "<PIL.PngImagePlugin.PngImageFile image mode=RGB size=300x300 at 0x7FB4B17C3250>"
            ],
            "image/png": "[encoded data removed]"
          },
          "metadata": {},
          "execution_count": 19
        }
      ]
    },
    {
      "cell_type": "code",
      "source": [
        "from openbabel import pybel"
      ],
      "metadata": {
        "id": "puNdgqzxd7LS"
      },
      "execution_count": 24,
      "outputs": []
    },
    {
      "cell_type": "code",
      "source": [
        "mol= [m for m in pybel.readfile(filename='7L10-XEY.mol2',format='mol2')][0]\n",
        "mol.addh()\n",
        "out=pybel.Outputfile(filename='7L10-XEY2.mol2',format='mol2',overwrite=True)\n",
        "out.write(mol)\n",
        "out.close()"
      ],
      "metadata": {
        "id": "17renKy9YbR0"
      },
      "execution_count": 25,
      "outputs": []
    },
    {
      "cell_type": "code",
      "source": [
        "m=Chem.MolFromMol2File('7L10-XEY2.mol2',sanitize=False)\n",
        "Draw.MolToImage(m)"
      ],
      "metadata": {
        "colab": {
          "base_uri": "https://localhost:8080/",
          "height": 317
        },
        "id": "Pg7ibNSFd-SN",
        "outputId": "583af34e-1758-4673-dde3-8ae1d8243fa5"
      },
      "execution_count": 26,
      "outputs": [
        {
          "output_type": "execute_result",
          "data": {
            "text/plain": [
              "<PIL.PngImagePlugin.PngImageFile image mode=RGB size=300x300 at 0x7FB4A97E7D30>"
            ],
            "image/png": "[encoded data removed]"
          },
          "metadata": {},
          "execution_count": 26
        }
      ]
    },
    {
      "cell_type": "code",
      "source": [
        "!obabel -imol2 7L10-XEY2.mol2 -opdb -O 7L10-XEY2.pdb -h"
      ],
      "metadata": {
        "colab": {
          "base_uri": "https://localhost:8080/"
        },
        "id": "4wFaiEgxe9Rh",
        "outputId": "833fa416-8cf3-4868-e68c-d20210b789ca"
      },
      "execution_count": 30,
      "outputs": [
        {
          "output_type": "stream",
          "name": "stdout",
          "text": [
            "1 molecule converted\n"
          ]
        }
      ]
    },
    {
      "cell_type": "code",
      "source": [
        "m=Chem.MolFromPDBFile('7L10-XEY2.pdb')\n",
        "Draw.MolToImage(m)"
      ],
      "metadata": {
        "colab": {
          "base_uri": "https://localhost:8080/",
          "height": 317
        },
        "id": "R22q7xekfMv2",
        "outputId": "014f5054-3cfa-4d91-ff5c-6f83b984cda7"
      },
      "execution_count": 31,
      "outputs": [
        {
          "output_type": "execute_result",
          "data": {
            "text/plain": [
              "<PIL.PngImagePlugin.PngImageFile image mode=RGB size=300x300 at 0x7FB4A6E2D220>"
            ],
            "image/png": "[encoded data removed]"
          },
          "metadata": {},
          "execution_count": 31
        }
      ]
    },
    {
      "cell_type": "markdown",
      "source": [],
      "metadata": {
        "id": "t_9-PdkWeRxa"
      }
    },
    {
      "cell_type": "code",
      "source": [
        "# Save the ligand and prepared protein together"
      ],
      "metadata": {
        "id": "YH9gy8LZeJXV"
      },
      "execution_count": null,
      "outputs": []
    },
    {
      "cell_type": "code",
      "source": [
        "#@title Write out a script for pymol\n",
        "com_file = open('merge.pml','w')\n",
        "com_file.write('''\n",
        "load output.pdb\n",
        "load 7L10-XEY2.pdb\n",
        "h_add elem O or elem N\n",
        "save complex_prepared.pdb, all   \n",
        "''')\n",
        "com_file.close()"
      ],
      "metadata": {
        "id": "yAj07OH6eJeF"
      },
      "execution_count": 32,
      "outputs": []
    },
    {
      "cell_type": "code",
      "source": [
        "!pymol -c merge.pml"
      ],
      "metadata": {
        "id": "95QFba_ceJnN"
      },
      "execution_count": null,
      "outputs": []
    },
    {
      "cell_type": "code",
      "source": [
        "# If you want to see proten-ligand interactions\n",
        "# It become even more complex"
      ],
      "metadata": {
        "id": "N4pIdzSihUIa"
      },
      "execution_count": null,
      "outputs": []
    },
    {
      "cell_type": "code",
      "source": [
        "# Now you can just download your prepared complex"
      ],
      "metadata": {
        "id": "PhU0mfWwk0dd"
      },
      "execution_count": null,
      "outputs": []
    },
    {
      "cell_type": "markdown",
      "source": [
        "# It become even more complicated, If you want to see proten-ligand interactions,"
      ],
      "metadata": {
        "id": "9NMNSGndkqPV"
      }
    },
    {
      "cell_type": "code",
      "source": [
        "!conda install -c conda-forge mdanalysis"
      ],
      "metadata": {
        "id": "5IjWpXX6hXXG"
      },
      "execution_count": null,
      "outputs": []
    },
    {
      "cell_type": "code",
      "source": [
        "!conda install -c conda-forge prolif"
      ],
      "metadata": {
        "id": "Qp_p215DhXZS"
      },
      "execution_count": null,
      "outputs": []
    },
    {
      "cell_type": "code",
      "source": [
        "import MDAnalysis as mda\n",
        "import prolif as plf"
      ],
      "metadata": {
        "id": "sBgJvEoVil_O"
      },
      "execution_count": 36,
      "outputs": []
    },
    {
      "cell_type": "code",
      "source": [
        "\n",
        "import numpy as np\n",
        "\n",
        "# load topology\n",
        "u = mda.Universe('complex_prepared.pdb')\n",
        "lig = u.select_atoms(\"resname XEY\")\n",
        "prot = u.select_atoms(\"protein\")"
      ],
      "metadata": {
        "id": "-aZJe8mAimF4"
      },
      "execution_count": 37,
      "outputs": []
    },
    {
      "cell_type": "code",
      "source": [
        "from rdkit import Chem\n",
        "from rdkit.Chem import Draw\n",
        "\n",
        "# create a molecule from the MDAnalysis selection\n",
        "lmol = plf.Molecule.from_mda(lig)\n",
        "# cleanup before drawing\n",
        "mol = Chem.RemoveHs(lmol)\n",
        "mol.RemoveAllConformers()\n",
        "Draw.MolToImage(mol, size=(400, 200))"
      ],
      "metadata": {
        "colab": {
          "base_uri": "https://localhost:8080/",
          "height": 217
        },
        "id": "JNcvWmG8kEmT",
        "outputId": "ec7812d0-ab7f-4ae1-ebdf-9d5d79424f85"
      },
      "execution_count": 39,
      "outputs": [
        {
          "output_type": "execute_result",
          "data": {
            "text/plain": [
              "<PIL.PngImagePlugin.PngImageFile image mode=RGB size=400x200 at 0x7FB4920A84F0>"
            ],
            "image/png": "[encoded data removed]"
          },
          "metadata": {},
          "execution_count": 39
        }
      ]
    },
    {
      "cell_type": "code",
      "source": [
        "from prolif.plotting.network import LigNetwork\n",
        "\n",
        "fp = plf.Fingerprint()\n",
        "fp.run(u.trajectory[::10], lig, prot)\n",
        "df = fp.to_dataframe(return_atoms=True)\n",
        "\n",
        "net = LigNetwork.from_ifp(\n",
        "    df,\n",
        "    lmol,\n",
        "    # replace with `kind=\"frame\", frame=0` for the other depiction\n",
        "    kind=\"aggregate\",\n",
        "    threshold=0.3,\n",
        "    rotation=270,\n",
        ")\n",
        "net.display()"
      ],
      "metadata": {
        "colab": {
          "base_uri": "https://localhost:8080/",
          "height": 806,
          "referenced_widgets": [
            "2862343d11d6455e995f07bb8b6addd6",
            "f45f55b346f044e283851adf15d6b693",
            "acaa8bc1da3d4e9b9b2423bf01f5e282",
            "ad5b6e1385a74762b8f927aa718a5f36",
            "25d4568f03f44ec4b17c98166b0a79a7",
            "792c6816246e44b4b5329e1c12a41def",
            "cf851ca692af40d9ad61e2aed7e8489d",
            "406cf47a94784960880eb7b1660b9c3c",
            "b6bceb297aea4982adf27c5409ad7f98",
            "8746213288a74c24a6cac3cc2f8adb15",
            "fbb2c3668fa8479daf25654f5c91a9e7"
          ]
        },
        "id": "4aVukh4EimKF",
        "outputId": "1e77ec55-23a7-4dc3-ae18-09dc6e7a3d6f"
      },
      "execution_count": 40,
      "outputs": [
        {
          "output_type": "display_data",
          "data": {
            "text/plain": [
              "  0%|          | 0/1 [00:00<?, ?it/s]"
            ],
            "application/vnd.jupyter.widget-view+json": {
              "version_major": 2,
              "version_minor": 0,
              "model_id": "2862343d11d6455e995f07bb8b6addd6"
            }
          },
          "metadata": {}
        },
        {
          "output_type": "stream",
          "name": "stderr",
          "text": [
            "/usr/lib/python3.8/multiprocessing/reduction.py:51: UserWarning: Reader has no dt information, set to 1.0 ps\n",
            "  cls(buf, protocol).dump(obj)\n",
            "/usr/local/lib/python3.8/site-packages/prolif/plotting/network.py:292: FutureWarning: In a future version, the Index constructor will not infer numeric dtypes when passed object-dtype sequences (matching Series behavior)\n",
            "  pd.get_dummies(\n",
            "/usr/local/lib/python3.8/site-packages/prolif/plotting/network.py:292: FutureWarning: In a future version, the Index constructor will not infer numeric dtypes when passed object-dtype sequences (matching Series behavior)\n",
            "  pd.get_dummies(\n",
            "/usr/local/lib/python3.8/site-packages/prolif/plotting/network.py:292: FutureWarning: In a future version, the Index constructor will not infer numeric dtypes when passed object-dtype sequences (matching Series behavior)\n",
            "  pd.get_dummies(\n"
          ]
        },
        {
          "output_type": "execute_result",
          "data": {
            "text/plain": [
              "<IPython.core.display.HTML object>"
            ],
            "text/html": [
              "<iframe width=\"100%\" height=\"590px\" frameborder=\"0\" srcdoc=\"\n",
              "        &lt;html&gt;\n",
              "        &lt;head&gt;\n",
              "        &lt;script type=&quot;text/javascript&quot; src=&quot;https://unpkg.com/vis-network@9.0.4/dist/vis-network.min.js&quot;&gt;&lt;/script&gt;\n",
              "        &lt;link href=&quot;https://unpkg.com/vis-network@9.0.4/dist/dist/vis-network.min.css&quot; rel=&quot;stylesheet&quot; type=&quot;text/css&quot; /&gt;\n",
              "        &lt;style type=&quot;text/css&quot;&gt;\n",
              "            body {\n",
              "                padding: 0;\n",
              "                margin: 0;\n",
              "                background: #fff;\n",
              "            }\n",
              "            .legend-btn.residues.disabled {\n",
              "                background: #b4b4b4 !important;\n",
              "                color: #555 !important;\n",
              "            }\n",
              "            .legend-btn.interactions.disabled {\n",
              "                border-color: #b4b4b4 !important;\n",
              "                color: #555 !important;\n",
              "            }\n",
              "        &lt;/style&gt;\n",
              "        &lt;/head&gt;\n",
              "        &lt;body&gt;\n",
              "        &lt;div id=&quot;mynetwork&quot;&gt;&lt;/div&gt;\n",
              "        &lt;div id=&quot;networklegend&quot;&gt;&lt;/div&gt;\n",
              "        &lt;script type=&quot;text/javascript&quot;&gt;\n",
              "            \n",
              "        var ifp, legend, nodes, edges, legend_buttons;\n",
              "        function drawGraph(_id, nodes, edges, options) {\n",
              "            var container = document.getElementById(_id);\n",
              "            nodes = new vis.DataSet(nodes);\n",
              "            edges = new vis.DataSet(edges);\n",
              "            var data = {nodes: nodes, edges: edges};\n",
              "            var network = new vis.Network(container, data, options);\n",
              "            network.on(&quot;stabilizationIterationsDone&quot;, function () {\n",
              "                network.setOptions( { physics: false } );\n",
              "            });\n",
              "            return network;\n",
              "        }\n",
              "        nodes = [{&quot;id&quot;: &quot;CYS145.A&quot;, &quot;label&quot;: &quot;CYS145.A&quot;, &quot;color&quot;: &quot;#e3ce59&quot;, &quot;shape&quot;: &quot;box&quot;, &quot;borderWidth&quot;: 0, &quot;physics&quot;: true, &quot;mass&quot;: 2, &quot;group&quot;: &quot;protein&quot;, &quot;residue_type&quot;: &quot;Sulfur&quot;}, {&quot;id&quot;: &quot;GLY143.A&quot;, &quot;label&quot;: &quot;GLY143.A&quot;, &quot;color&quot;: &quot;#59e382&quot;, &quot;shape&quot;: &quot;box&quot;, &quot;borderWidth&quot;: 0, &quot;physics&quot;: true, &quot;mass&quot;: 2, &quot;group&quot;: &quot;protein&quot;, &quot;residue_type&quot;: &quot;Aliphatic&quot;}, {&quot;id&quot;: &quot;MET49.A&quot;, &quot;label&quot;: &quot;MET49.A&quot;, &quot;color&quot;: &quot;#e3ce59&quot;, &quot;shape&quot;: &quot;box&quot;, &quot;borderWidth&quot;: 0, &quot;physics&quot;: true, &quot;mass&quot;: 2, &quot;group&quot;: &quot;protein&quot;, &quot;residue_type&quot;: &quot;Sulfur&quot;}, {&quot;label&quot;: &quot;Cl&quot;, &quot;shape&quot;: &quot;circle&quot;, &quot;color&quot;: &quot;white&quot;, &quot;font&quot;: {&quot;color&quot;: &quot;lime&quot;}, &quot;id&quot;: 0, &quot;x&quot;: -306.6322111323521, &quot;y&quot;: -108.88071839953636, &quot;fixed&quot;: true, &quot;group&quot;: &quot;ligand&quot;, &quot;borderWidth&quot;: 0}, {&quot;label&quot;: &quot;Cl&quot;, &quot;shape&quot;: &quot;circle&quot;, &quot;color&quot;: &quot;white&quot;, &quot;font&quot;: {&quot;color&quot;: &quot;lime&quot;}, &quot;id&quot;: 1, &quot;x&quot;: -215.69954373498592, &quot;y&quot;: 48.61928160046363, &quot;fixed&quot;: true, &quot;group&quot;: &quot;ligand&quot;, &quot;borderWidth&quot;: 0}, {&quot;label&quot;: &quot; &quot;, &quot;shape&quot;: &quot;dot&quot;, &quot;color&quot;: &quot;black&quot;, &quot;size&quot;: 5.6000000000000005, &quot;id&quot;: 2, &quot;x&quot;: -261.165877433669, &quot;y&quot;: -82.63071839953638, &quot;fixed&quot;: true, &quot;group&quot;: &quot;ligand&quot;, &quot;borderWidth&quot;: 0}, {&quot;label&quot;: &quot;N&quot;, &quot;shape&quot;: &quot;circle&quot;, &quot;color&quot;: &quot;white&quot;, &quot;font&quot;: {&quot;color&quot;: &quot;blue&quot;}, &quot;id&quot;: 3, &quot;x&quot;: -33.8342089402538, &quot;y&quot;: -108.88071839953645, &quot;fixed&quot;: true, &quot;group&quot;: &quot;ligand&quot;, &quot;borderWidth&quot;: 0}, {&quot;label&quot;: &quot;OH&quot;, &quot;shape&quot;: &quot;ellipse&quot;, &quot;color&quot;: &quot;white&quot;, &quot;font&quot;: {&quot;color&quot;: &quot;red&quot;}, &quot;id&quot;: 4, &quot;x&quot;: -113.04689214748018, &quot;y&quot;: -42.413385135790065, &quot;fixed&quot;: true, &quot;group&quot;: &quot;ligand&quot;, &quot;borderWidth&quot;: 0}, {&quot;label&quot;: &quot; &quot;, &quot;shape&quot;: &quot;dot&quot;, &quot;color&quot;: &quot;black&quot;, &quot;size&quot;: 5.6000000000000005, &quot;id&quot;: 5, &quot;x&quot;: -215.69954373498592, &quot;y&quot;: -108.88071839953642, &quot;fixed&quot;: true, &quot;group&quot;: &quot;ligand&quot;, &quot;borderWidth&quot;: 0}, {&quot;label&quot;: &quot;N&quot;, &quot;shape&quot;: &quot;circle&quot;, &quot;color&quot;: &quot;white&quot;, &quot;font&quot;: {&quot;color&quot;: &quot;blue&quot;}, &quot;id&quot;: 6, &quot;x&quot;: 57.0984606698219, &quot;y&quot;: -3.8807203157993686, &quot;fixed&quot;: true, &quot;group&quot;: &quot;ligand&quot;, &quot;borderWidth&quot;: 0}, {&quot;label&quot;: &quot; &quot;, &quot;shape&quot;: &quot;dot&quot;, &quot;color&quot;: &quot;black&quot;, &quot;size&quot;: 5.6000000000000005, &quot;id&quot;: 7, &quot;x&quot;: -261.165877433669, &quot;y&quot;: -30.130718399536388, &quot;fixed&quot;: true, &quot;group&quot;: &quot;ligand&quot;, &quot;borderWidth&quot;: 0}, {&quot;label&quot;: &quot;N&quot;, &quot;shape&quot;: &quot;circle&quot;, &quot;color&quot;: &quot;white&quot;, &quot;font&quot;: {&quot;color&quot;: &quot;blue&quot;}, &quot;id&quot;: 8, &quot;x&quot;: 57.09845845711219, &quot;y&quot;: -213.88071839953673, &quot;fixed&quot;: true, &quot;group&quot;: &quot;ligand&quot;, &quot;borderWidth&quot;: 0}, {&quot;label&quot;: &quot; &quot;, &quot;shape&quot;: &quot;dot&quot;, &quot;color&quot;: &quot;black&quot;, &quot;size&quot;: 5.6000000000000005, &quot;id&quot;: 9, &quot;x&quot;: -170.2332100363029, &quot;y&quot;: -82.63071839953642, &quot;fixed&quot;: true, &quot;group&quot;: &quot;ligand&quot;, &quot;borderWidth&quot;: 0}, {&quot;label&quot;: &quot; &quot;, &quot;shape&quot;: &quot;dot&quot;, &quot;color&quot;: &quot;black&quot;, &quot;size&quot;: 5.6000000000000005, &quot;id&quot;: 10, &quot;x&quot;: -124.76687633761993, &quot;y&quot;: -108.88071839953642, &quot;fixed&quot;: true, &quot;group&quot;: &quot;ligand&quot;, &quot;borderWidth&quot;: 0}, {&quot;label&quot;: &quot; &quot;, &quot;shape&quot;: &quot;dot&quot;, &quot;color&quot;: &quot;black&quot;, &quot;size&quot;: 5.6000000000000005, &quot;id&quot;: 11, &quot;x&quot;: -170.23321003630286, &quot;y&quot;: -30.13071839953642, &quot;fixed&quot;: true, &quot;group&quot;: &quot;ligand&quot;, &quot;borderWidth&quot;: 0}, {&quot;label&quot;: &quot; &quot;, &quot;shape&quot;: &quot;dot&quot;, &quot;color&quot;: &quot;black&quot;, &quot;size&quot;: 5.6000000000000005, &quot;id&quot;: 12, &quot;x&quot;: -215.69954373498587, &quot;y&quot;: -3.8807183995363714, &quot;fixed&quot;: true, &quot;group&quot;: &quot;ligand&quot;, &quot;borderWidth&quot;: 0}, {&quot;label&quot;: &quot; &quot;, &quot;shape&quot;: &quot;dot&quot;, &quot;color&quot;: &quot;black&quot;, &quot;size&quot;: 5.6000000000000005, &quot;id&quot;: 13, &quot;x&quot;: -79.30054263893688, &quot;y&quot;: -82.63071839953642, &quot;fixed&quot;: true, &quot;group&quot;: &quot;ligand&quot;, &quot;borderWidth&quot;: 0}, {&quot;label&quot;: &quot; &quot;, &quot;shape&quot;: &quot;dot&quot;, &quot;color&quot;: &quot;black&quot;, &quot;size&quot;: 5.6000000000000005, &quot;id&quot;: 14, &quot;x&quot;: -33.834208940253816, &quot;y&quot;: -161.38071839953645, &quot;fixed&quot;: true, &quot;group&quot;: &quot;ligand&quot;, &quot;borderWidth&quot;: 0}, {&quot;label&quot;: &quot; &quot;, &quot;shape&quot;: &quot;dot&quot;, &quot;color&quot;: &quot;black&quot;, &quot;size&quot;: 5.6000000000000005, &quot;id&quot;: 15, &quot;x&quot;: -79.30054263893683, &quot;y&quot;: -187.63071839953642, &quot;fixed&quot;: true, &quot;group&quot;: &quot;ligand&quot;, &quot;borderWidth&quot;: 0}, {&quot;label&quot;: &quot; &quot;, &quot;shape&quot;: &quot;dot&quot;, &quot;color&quot;: &quot;black&quot;, &quot;size&quot;: 5.6000000000000005, &quot;id&quot;: 16, &quot;x&quot;: -124.76687633761986, &quot;y&quot;: -161.38071839953642, &quot;fixed&quot;: true, &quot;group&quot;: &quot;ligand&quot;, &quot;borderWidth&quot;: 0}, {&quot;label&quot;: &quot; &quot;, &quot;shape&quot;: &quot;dot&quot;, &quot;color&quot;: &quot;black&quot;, &quot;size&quot;: 5.6000000000000005, &quot;id&quot;: 17, &quot;x&quot;: 11.632124758429283, &quot;y&quot;: -82.63071839953649, &quot;fixed&quot;: true, &quot;group&quot;: &quot;ligand&quot;, &quot;borderWidth&quot;: 0}, {&quot;label&quot;: &quot; &quot;, &quot;shape&quot;: &quot;dot&quot;, &quot;color&quot;: &quot;black&quot;, &quot;size&quot;: 5.6000000000000005, &quot;id&quot;: 18, &quot;x&quot;: -79.30054263893683, &quot;y&quot;: -240.13071839953642, &quot;fixed&quot;: true, &quot;group&quot;: &quot;ligand&quot;, &quot;borderWidth&quot;: 0}, {&quot;label&quot;: &quot; &quot;, &quot;shape&quot;: &quot;dot&quot;, &quot;color&quot;: &quot;black&quot;, &quot;size&quot;: 5.6000000000000005, &quot;id&quot;: 19, &quot;x&quot;: 57.09845845711224, &quot;y&quot;: -108.88072031579907, &quot;fixed&quot;: true, &quot;group&quot;: &quot;ligand&quot;, &quot;borderWidth&quot;: 0}, {&quot;label&quot;: &quot; &quot;, &quot;shape&quot;: &quot;dot&quot;, &quot;color&quot;: &quot;black&quot;, &quot;size&quot;: 5.6000000000000005, &quot;id&quot;: 20, &quot;x&quot;: 102.56479270897252, &quot;y&quot;: -82.63072127393042, &quot;fixed&quot;: true, &quot;group&quot;: &quot;ligand&quot;, &quot;borderWidth&quot;: 0}, {&quot;label&quot;: &quot; &quot;, &quot;shape&quot;: &quot;dot&quot;, &quot;color&quot;: &quot;black&quot;, &quot;size&quot;: 5.6000000000000005, &quot;id&quot;: 21, &quot;x&quot;: 102.56479381532759, &quot;y&quot;: -30.130721273930433, &quot;fixed&quot;: true, &quot;group&quot;: &quot;ligand&quot;, &quot;borderWidth&quot;: 0}, {&quot;label&quot;: &quot; &quot;, &quot;shape&quot;: &quot;dot&quot;, &quot;color&quot;: &quot;black&quot;, &quot;size&quot;: 5.6000000000000005, &quot;id&quot;: 22, &quot;x&quot;: 11.632126417961398, &quot;y&quot;: -30.13071935766782, &quot;fixed&quot;: true, &quot;group&quot;: &quot;ligand&quot;, &quot;borderWidth&quot;: 0}, {&quot;label&quot;: &quot; &quot;, &quot;shape&quot;: &quot;dot&quot;, &quot;color&quot;: &quot;black&quot;, &quot;size&quot;: 5.6000000000000005, &quot;id&quot;: 23, &quot;x&quot;: -33.83420894025371, &quot;y&quot;: -266.3807183995365, &quot;fixed&quot;: true, &quot;group&quot;: &quot;ligand&quot;, &quot;borderWidth&quot;: 0}, {&quot;label&quot;: &quot; &quot;, &quot;shape&quot;: &quot;dot&quot;, &quot;color&quot;: &quot;black&quot;, &quot;size&quot;: 5.6000000000000005, &quot;id&quot;: 24, &quot;x&quot;: -33.83420894025367, &quot;y&quot;: -318.8807183995365, &quot;fixed&quot;: true, &quot;group&quot;: &quot;ligand&quot;, &quot;borderWidth&quot;: 0}, {&quot;label&quot;: &quot; &quot;, &quot;shape&quot;: &quot;dot&quot;, &quot;color&quot;: &quot;black&quot;, &quot;size&quot;: 5.6000000000000005, &quot;id&quot;: 25, &quot;x&quot;: -79.3005426389367, &quot;y&quot;: -345.1307183995365, &quot;fixed&quot;: true, &quot;group&quot;: &quot;ligand&quot;, &quot;borderWidth&quot;: 0}, {&quot;label&quot;: &quot; &quot;, &quot;shape&quot;: &quot;dot&quot;, &quot;color&quot;: &quot;black&quot;, &quot;size&quot;: 5.6000000000000005, &quot;id&quot;: 26, &quot;x&quot;: -124.76687633761976, &quot;y&quot;: -318.88071839953653, &quot;fixed&quot;: true, &quot;group&quot;: &quot;ligand&quot;, &quot;borderWidth&quot;: 0}, {&quot;label&quot;: &quot; &quot;, &quot;shape&quot;: &quot;dot&quot;, &quot;color&quot;: &quot;black&quot;, &quot;size&quot;: 5.6000000000000005, &quot;id&quot;: 27, &quot;x&quot;: -124.7668763376198, &quot;y&quot;: -266.38071839953653, &quot;fixed&quot;: true, &quot;group&quot;: &quot;ligand&quot;, &quot;borderWidth&quot;: 0}, {&quot;label&quot;: &quot; &quot;, &quot;shape&quot;: &quot;dot&quot;, &quot;color&quot;: &quot;black&quot;, &quot;size&quot;: 5.6000000000000005, &quot;id&quot;: 28, &quot;x&quot;: 11.632124758429283, &quot;y&quot;: -240.1307183995365, &quot;fixed&quot;: true, &quot;group&quot;: &quot;ligand&quot;, &quot;borderWidth&quot;: 0}, {&quot;id&quot;: -6885737477832829504, &quot;x&quot;: -259.06587743366896, &quot;y&quot;: -78.99341170364174, &quot;shape&quot;: &quot;text&quot;, &quot;label&quot;: &quot; &quot;, &quot;fixed&quot;: true, &quot;physics&quot;: false}, {&quot;id&quot;: 3842911087082907716, &quot;x&quot;: -213.59954373498593, &quot;y&quot;: -105.24341170364178, &quot;shape&quot;: &quot;text&quot;, &quot;label&quot;: &quot; &quot;, &quot;fixed&quot;: true, &quot;physics&quot;: false}, {&quot;id&quot;: -7181695983297625259, &quot;x&quot;: -263.265877433669, &quot;y&quot;: -86.26802509543101, &quot;shape&quot;: &quot;text&quot;, &quot;label&quot;: &quot; &quot;, &quot;fixed&quot;: true, &quot;physics&quot;: false}, {&quot;id&quot;: -8857727869762017495, &quot;x&quot;: -217.79954373498592, &quot;y&quot;: -112.51802509543106, &quot;shape&quot;: &quot;text&quot;, &quot;label&quot;: &quot; &quot;, &quot;fixed&quot;: true, &quot;physics&quot;: false}, {&quot;id&quot;: 6212908462690434619, &quot;x&quot;: -265.36587743366897, &quot;y&quot;: -82.63071839953638, &quot;shape&quot;: &quot;text&quot;, &quot;label&quot;: &quot; &quot;, &quot;fixed&quot;: true, &quot;physics&quot;: false}, {&quot;id&quot;: -4210511177411151996, &quot;x&quot;: -265.36587743366897, &quot;y&quot;: -30.130718399536388, &quot;shape&quot;: &quot;text&quot;, &quot;label&quot;: &quot; &quot;, &quot;fixed&quot;: true, &quot;physics&quot;: false}, {&quot;id&quot;: 4616902655478836818, &quot;x&quot;: -256.965877433669, &quot;y&quot;: -82.63071839953638, &quot;shape&quot;: &quot;text&quot;, &quot;label&quot;: &quot; &quot;, &quot;fixed&quot;: true, &quot;physics&quot;: false}, {&quot;id&quot;: 3493758120221917331, &quot;x&quot;: -256.965877433669, &quot;y&quot;: -30.130718399536388, &quot;shape&quot;: &quot;text&quot;, &quot;label&quot;: &quot; &quot;, &quot;fixed&quot;: true, &quot;physics&quot;: false}, {&quot;id&quot;: 7819373441556371551, &quot;x&quot;: -217.79954373498592, &quot;y&quot;: -105.24341170364178, &quot;shape&quot;: &quot;text&quot;, &quot;label&quot;: &quot; &quot;, &quot;fixed&quot;: true, &quot;physics&quot;: false}, {&quot;id&quot;: 7919466174761974438, &quot;x&quot;: -172.3332100363029, &quot;y&quot;: -78.99341170364178, &quot;shape&quot;: &quot;text&quot;, &quot;label&quot;: &quot; &quot;, &quot;fixed&quot;: true, &quot;physics&quot;: false}, {&quot;id&quot;: -5485114000943396438, &quot;x&quot;: -213.59954373498593, &quot;y&quot;: -112.51802509543106, &quot;shape&quot;: &quot;text&quot;, &quot;label&quot;: &quot; &quot;, &quot;fixed&quot;: true, &quot;physics&quot;: false}, {&quot;id&quot;: -6844957689999936474, &quot;x&quot;: -168.1332100363029, &quot;y&quot;: -86.26802509543106, &quot;shape&quot;: &quot;text&quot;, &quot;label&quot;: &quot; &quot;, &quot;fixed&quot;: true, &quot;physics&quot;: false}, {&quot;id&quot;: 3918268626962921844, &quot;x&quot;: 59.198460746472385, &quot;y&quot;: -0.2434136641589073, &quot;shape&quot;: &quot;text&quot;, &quot;label&quot;: &quot; &quot;, &quot;fixed&quot;: true, &quot;physics&quot;: false}, {&quot;id&quot;: -4000406098574787563, &quot;x&quot;: 104.66479389197808, &quot;y&quot;: -26.493414622289972, &quot;shape&quot;: &quot;text&quot;, &quot;label&quot;: &quot; &quot;, &quot;fixed&quot;: true, &quot;physics&quot;: false}, {&quot;id&quot;: 5862227971212722065, &quot;x&quot;: 54.99846059317141, &quot;y&quot;: -7.51802696743983, &quot;shape&quot;: &quot;text&quot;, &quot;label&quot;: &quot; &quot;, &quot;fixed&quot;: true, &quot;physics&quot;: false}, {&quot;id&quot;: -1443014902894575675, &quot;x&quot;: 100.4647937386771, &quot;y&quot;: -33.76802792557089, &quot;shape&quot;: &quot;text&quot;, &quot;label&quot;: &quot; &quot;, &quot;fixed&quot;: true, &quot;physics&quot;: false}, {&quot;id&quot;: 4507479633875287999, &quot;x&quot;: 59.198460593171376, &quot;y&quot;: -7.51802705594821, &quot;shape&quot;: &quot;text&quot;, &quot;label&quot;: &quot; &quot;, &quot;fixed&quot;: true, &quot;physics&quot;: false}, {&quot;id&quot;: -8423064621179352929, &quot;x&quot;: 13.732126341310876, &quot;y&quot;: -33.768026097816666, &quot;shape&quot;: &quot;text&quot;, &quot;label&quot;: &quot; &quot;, &quot;fixed&quot;: true, &quot;physics&quot;: false}, {&quot;id&quot;: 8168002598025590873, &quot;x&quot;: 54.99846074647242, &quot;y&quot;: -0.24341357565052713, &quot;shape&quot;: &quot;text&quot;, &quot;label&quot;: &quot; &quot;, &quot;fixed&quot;: true, &quot;physics&quot;: false}, {&quot;id&quot;: 3966992876351842314, &quot;x&quot;: 9.532126494611921, &quot;y&quot;: -26.49341261751898, &quot;shape&quot;: &quot;text&quot;, &quot;label&quot;: &quot; &quot;, &quot;fixed&quot;: true, &quot;physics&quot;: false}, {&quot;id&quot;: 2784361107139975959, &quot;x&quot;: -263.265877433669, &quot;y&quot;: -26.493411703641744, &quot;shape&quot;: &quot;text&quot;, &quot;label&quot;: &quot; &quot;, &quot;fixed&quot;: true, &quot;physics&quot;: false}, {&quot;id&quot;: -3044532961373204478, &quot;x&quot;: -217.79954373498586, &quot;y&quot;: -0.2434117036417276, &quot;shape&quot;: &quot;text&quot;, &quot;label&quot;: &quot; &quot;, &quot;fixed&quot;: true, &quot;physics&quot;: false}, {&quot;id&quot;: -7436784931168023325, &quot;x&quot;: -259.06587743366896, &quot;y&quot;: -33.76802509543103, &quot;shape&quot;: &quot;text&quot;, &quot;label&quot;: &quot; &quot;, &quot;fixed&quot;: true, &quot;physics&quot;: false}, {&quot;id&quot;: -8127480410930596932, &quot;x&quot;: -213.59954373498587, &quot;y&quot;: -7.518025095431016, &quot;shape&quot;: &quot;text&quot;, &quot;label&quot;: &quot; &quot;, &quot;fixed&quot;: true, &quot;physics&quot;: false}, {&quot;id&quot;: -1268009552403686570, &quot;x&quot;: 60.24845845711217, &quot;y&quot;: -219.3366784433787, &quot;shape&quot;: &quot;text&quot;, &quot;label&quot;: &quot; &quot;, &quot;fixed&quot;: true, &quot;physics&quot;: false}, {&quot;id&quot;: 7437256609393150278, &quot;x&quot;: 14.78212475842927, &quot;y&quot;: -245.58667844337847, &quot;shape&quot;: &quot;text&quot;, &quot;label&quot;: &quot; &quot;, &quot;fixed&quot;: true, &quot;physics&quot;: false}, {&quot;id&quot;: 3881354868388926850, &quot;x&quot;: 53.9484584571122, &quot;y&quot;: -208.42475835569476, &quot;shape&quot;: &quot;text&quot;, &quot;label&quot;: &quot; &quot;, &quot;fixed&quot;: true, &quot;physics&quot;: false}, {&quot;id&quot;: -8653626563605258719, &quot;x&quot;: 8.482124758429297, &quot;y&quot;: -234.67475835569454, &quot;shape&quot;: &quot;text&quot;, &quot;label&quot;: &quot; &quot;, &quot;fixed&quot;: true, &quot;physics&quot;: false}, {&quot;id&quot;: -5354850449335014136, &quot;x&quot;: -174.43321003630288, &quot;y&quot;: -82.63071839953642, &quot;shape&quot;: &quot;text&quot;, &quot;label&quot;: &quot; &quot;, &quot;fixed&quot;: true, &quot;physics&quot;: false}, {&quot;id&quot;: -439157236921114056, &quot;x&quot;: -174.43321003630285, &quot;y&quot;: -30.130718399536416, &quot;shape&quot;: &quot;text&quot;, &quot;label&quot;: &quot; &quot;, &quot;fixed&quot;: true, &quot;physics&quot;: false}, {&quot;id&quot;: -4514192339624920303, &quot;x&quot;: -166.0332100363029, &quot;y&quot;: -82.63071839953642, &quot;shape&quot;: &quot;text&quot;, &quot;label&quot;: &quot; &quot;, &quot;fixed&quot;: true, &quot;physics&quot;: false}, {&quot;id&quot;: 6364414377175703135, &quot;x&quot;: -166.03321003630288, &quot;y&quot;: -30.130718399536423, &quot;shape&quot;: &quot;text&quot;, &quot;label&quot;: &quot; &quot;, &quot;fixed&quot;: true, &quot;physics&quot;: false}, {&quot;id&quot;: -5589548638116855387, &quot;x&quot;: -120.56687633761993, &quot;y&quot;: -108.88071839953642, &quot;shape&quot;: &quot;text&quot;, &quot;label&quot;: &quot; &quot;, &quot;fixed&quot;: true, &quot;physics&quot;: false}, {&quot;id&quot;: -1503550158846135245, &quot;x&quot;: -120.56687633761986, &quot;y&quot;: -161.38071839953642, &quot;shape&quot;: &quot;text&quot;, &quot;label&quot;: &quot; &quot;, &quot;fixed&quot;: true, &quot;physics&quot;: false}, {&quot;id&quot;: 6430376660722791901, &quot;x&quot;: -128.96687633761994, &quot;y&quot;: -108.88071839953642, &quot;shape&quot;: &quot;text&quot;, &quot;label&quot;: &quot; &quot;, &quot;fixed&quot;: true, &quot;physics&quot;: false}, {&quot;id&quot;: -6326092578876957292, &quot;x&quot;: -128.96687633761985, &quot;y&quot;: -161.38071839953642, &quot;shape&quot;: &quot;text&quot;, &quot;label&quot;: &quot; &quot;, &quot;fixed&quot;: true, &quot;physics&quot;: false}, {&quot;id&quot;: -3982092185906031952, &quot;x&quot;: -172.33321003630286, &quot;y&quot;: -33.76802509543106, &quot;shape&quot;: &quot;text&quot;, &quot;label&quot;: &quot; &quot;, &quot;fixed&quot;: true, &quot;physics&quot;: false}, {&quot;id&quot;: 7424913831071112699, &quot;x&quot;: -217.79954373498586, &quot;y&quot;: -7.518025095431011, &quot;shape&quot;: &quot;text&quot;, &quot;label&quot;: &quot; &quot;, &quot;fixed&quot;: true, &quot;physics&quot;: false}, {&quot;id&quot;: 7887860415076327122, &quot;x&quot;: -168.13321003630287, &quot;y&quot;: -26.49341170364178, &quot;shape&quot;: &quot;text&quot;, &quot;label&quot;: &quot; &quot;, &quot;fixed&quot;: true, &quot;physics&quot;: false}, {&quot;id&quot;: -3058067371147918446, &quot;x&quot;: -213.59954373498587, &quot;y&quot;: -0.2434117036417316, &quot;shape&quot;: &quot;text&quot;, &quot;label&quot;: &quot; &quot;, &quot;fixed&quot;: true, &quot;physics&quot;: false}, {&quot;id&quot;: -1792694864876743824, &quot;x&quot;: -31.73420894025382, &quot;y&quot;: -165.01802509543108, &quot;shape&quot;: &quot;text&quot;, &quot;label&quot;: &quot; &quot;, &quot;fixed&quot;: true, &quot;physics&quot;: false}, {&quot;id&quot;: -820686459433130002, &quot;x&quot;: -77.20054263893684, &quot;y&quot;: -191.26802509543106, &quot;shape&quot;: &quot;text&quot;, &quot;label&quot;: &quot; &quot;, &quot;fixed&quot;: true, &quot;physics&quot;: false}, {&quot;id&quot;: -7681632919478354700, &quot;x&quot;: -35.93420894025382, &quot;y&quot;: -157.7434117036418, &quot;shape&quot;: &quot;text&quot;, &quot;label&quot;: &quot; &quot;, &quot;fixed&quot;: true, &quot;physics&quot;: false}, {&quot;id&quot;: -8727694094359883594, &quot;x&quot;: -81.40054263893683, &quot;y&quot;: -183.99341170364178, &quot;shape&quot;: &quot;text&quot;, &quot;label&quot;: &quot; &quot;, &quot;fixed&quot;: true, &quot;physics&quot;: false}, {&quot;id&quot;: -8508661466335597947, &quot;x&quot;: 13.732124873405038, &quot;y&quot;: -78.99341177002313, &quot;shape&quot;: &quot;text&quot;, &quot;label&quot;: &quot; &quot;, &quot;fixed&quot;: true, &quot;physics&quot;: false}, {&quot;id&quot;: 5029415030883061861, &quot;x&quot;: 59.19845857208799, &quot;y&quot;: -105.2434136862857, &quot;shape&quot;: &quot;text&quot;, &quot;label&quot;: &quot; &quot;, &quot;fixed&quot;: true, &quot;physics&quot;: false}, {&quot;id&quot;: -5176040700488541327, &quot;x&quot;: 9.532124643453528, &quot;y&quot;: -86.26802502904985, &quot;shape&quot;: &quot;text&quot;, &quot;label&quot;: &quot; &quot;, &quot;fixed&quot;: true, &quot;physics&quot;: false}, {&quot;id&quot;: -722971975694345464, &quot;x&quot;: 54.99845834213648, &quot;y&quot;: -112.51802694531243, &quot;shape&quot;: &quot;text&quot;, &quot;label&quot;: &quot; &quot;, &quot;fixed&quot;: true, &quot;physics&quot;: false}, {&quot;id&quot;: 475984938392103308, &quot;x&quot;: 7.4321247584292855, &quot;y&quot;: -82.63071826677393, &quot;shape&quot;: &quot;text&quot;, &quot;label&quot;: &quot; &quot;, &quot;fixed&quot;: true, &quot;physics&quot;: false}, {&quot;id&quot;: -1100562474432630318, &quot;x&quot;: 7.432126417961401, &quot;y&quot;: -30.13071922490525, &quot;shape&quot;: &quot;text&quot;, &quot;label&quot;: &quot; &quot;, &quot;fixed&quot;: true, &quot;physics&quot;: false}, {&quot;id&quot;: -1923887933824590673, &quot;x&quot;: 15.83212475842928, &quot;y&quot;: -82.63071853229906, &quot;shape&quot;: &quot;text&quot;, &quot;label&quot;: &quot; &quot;, &quot;fixed&quot;: true, &quot;physics&quot;: false}, {&quot;id&quot;: -1060067790253632903, &quot;x&quot;: 15.832126417961396, &quot;y&quot;: -30.130719490430394, &quot;shape&quot;: &quot;text&quot;, &quot;label&quot;: &quot; &quot;, &quot;fixed&quot;: true, &quot;physics&quot;: false}, {&quot;id&quot;: -2514936344751245715, &quot;x&quot;: -77.20054263893684, &quot;y&quot;: -236.49341170364178, &quot;shape&quot;: &quot;text&quot;, &quot;label&quot;: &quot; &quot;, &quot;fixed&quot;: true, &quot;physics&quot;: false}, {&quot;id&quot;: -5371341127879843218, &quot;x&quot;: -31.73420894025371, &quot;y&quot;: -262.7434117036418, &quot;shape&quot;: &quot;text&quot;, &quot;label&quot;: &quot; &quot;, &quot;fixed&quot;: true, &quot;physics&quot;: false}, {&quot;id&quot;: 9039390186131596044, &quot;x&quot;: -81.40054263893683, &quot;y&quot;: -243.76802509543106, &quot;shape&quot;: &quot;text&quot;, &quot;label&quot;: &quot; &quot;, &quot;fixed&quot;: true, &quot;physics&quot;: false}, {&quot;id&quot;: -5030908910934185124, &quot;x&quot;: -35.93420894025371, &quot;y&quot;: -270.01802509543114, &quot;shape&quot;: &quot;text&quot;, &quot;label&quot;: &quot; &quot;, &quot;fixed&quot;: true, &quot;physics&quot;: false}, {&quot;id&quot;: -8648771076653391363, &quot;x&quot;: -77.20054263893682, &quot;y&quot;: -243.76802509543106, &quot;shape&quot;: &quot;text&quot;, &quot;label&quot;: &quot; &quot;, &quot;fixed&quot;: true, &quot;physics&quot;: false}, {&quot;id&quot;: 2828828252972411093, &quot;x&quot;: -122.6668763376198, &quot;y&quot;: -270.0180250954312, &quot;shape&quot;: &quot;text&quot;, &quot;label&quot;: &quot; &quot;, &quot;fixed&quot;: true, &quot;physics&quot;: false}, {&quot;id&quot;: -8824175579577447779, &quot;x&quot;: -81.40054263893684, &quot;y&quot;: -236.49341170364178, &quot;shape&quot;: &quot;text&quot;, &quot;label&quot;: &quot; &quot;, &quot;fixed&quot;: true, &quot;physics&quot;: false}, {&quot;id&quot;: -3372382397544157073, &quot;x&quot;: -126.86687633761981, &quot;y&quot;: -262.74341170364187, &quot;shape&quot;: &quot;text&quot;, &quot;label&quot;: &quot; &quot;, &quot;fixed&quot;: true, &quot;physics&quot;: false}, {&quot;id&quot;: 1755166234709209609, &quot;x&quot;: 54.998458533762744, &quot;y&quot;: -105.24341357565024, &quot;shape&quot;: &quot;text&quot;, &quot;label&quot;: &quot; &quot;, &quot;fixed&quot;: true, &quot;physics&quot;: false}, {&quot;id&quot;: -7869022281142993531, &quot;x&quot;: 100.46479278562302, &quot;y&quot;: -78.99341453378159, &quot;shape&quot;: &quot;text&quot;, &quot;label&quot;: &quot; &quot;, &quot;fixed&quot;: true, &quot;physics&quot;: false}, {&quot;id&quot;: -6810403747736357929, &quot;x&quot;: 59.19845838046173, &quot;y&quot;: -112.5180270559479, &quot;shape&quot;: &quot;text&quot;, &quot;label&quot;: &quot; &quot;, &quot;fixed&quot;: true, &quot;physics&quot;: false}, {&quot;id&quot;: 2070680707834581567, &quot;x&quot;: 104.66479263232202, &quot;y&quot;: -86.26802801407925, &quot;shape&quot;: &quot;text&quot;, &quot;label&quot;: &quot; &quot;, &quot;fixed&quot;: true, &quot;physics&quot;: false}, {&quot;id&quot;: 7828276571047383170, &quot;x&quot;: 98.36479270897252, &quot;y&quot;: -82.63072118542202, &quot;shape&quot;: &quot;text&quot;, &quot;label&quot;: &quot; &quot;, &quot;fixed&quot;: true, &quot;physics&quot;: false}, {&quot;id&quot;: -6615650896766139830, &quot;x&quot;: 98.36479381532759, &quot;y&quot;: -30.13072118542203, &quot;shape&quot;: &quot;text&quot;, &quot;label&quot;: &quot; &quot;, &quot;fixed&quot;: true, &quot;physics&quot;: false}, {&quot;id&quot;: 2001210613001229976, &quot;x&quot;: 106.76479270897252, &quot;y&quot;: -82.63072136243882, &quot;shape&quot;: &quot;text&quot;, &quot;label&quot;: &quot; &quot;, &quot;fixed&quot;: true, &quot;physics&quot;: false}, {&quot;id&quot;: 2537770526283807371, &quot;x&quot;: 106.7647938153276, &quot;y&quot;: -30.130721362438837, &quot;shape&quot;: &quot;text&quot;, &quot;label&quot;: &quot; &quot;, &quot;fixed&quot;: true, &quot;physics&quot;: false}, {&quot;id&quot;: -7834356780289940861, &quot;x&quot;: -29.63420894025371, &quot;y&quot;: -266.3807183995365, &quot;shape&quot;: &quot;text&quot;, &quot;label&quot;: &quot; &quot;, &quot;fixed&quot;: true, &quot;physics&quot;: false}, {&quot;id&quot;: 8208659816087743710, &quot;x&quot;: -29.634208940253668, &quot;y&quot;: -318.8807183995365, &quot;shape&quot;: &quot;text&quot;, &quot;label&quot;: &quot; &quot;, &quot;fixed&quot;: true, &quot;physics&quot;: false}, {&quot;id&quot;: 539720448390580329, &quot;x&quot;: -38.03420894025371, &quot;y&quot;: -266.3807183995365, &quot;shape&quot;: &quot;text&quot;, &quot;label&quot;: &quot; &quot;, &quot;fixed&quot;: true, &quot;physics&quot;: false}, {&quot;id&quot;: -4000669880399297855, &quot;x&quot;: -38.03420894025367, &quot;y&quot;: -318.8807183995365, &quot;shape&quot;: &quot;text&quot;, &quot;label&quot;: &quot; &quot;, &quot;fixed&quot;: true, &quot;physics&quot;: false}, {&quot;id&quot;: -742182569054911441, &quot;x&quot;: -31.734208940253666, &quot;y&quot;: -322.51802509543114, &quot;shape&quot;: &quot;text&quot;, &quot;label&quot;: &quot; &quot;, &quot;fixed&quot;: true, &quot;physics&quot;: false}, {&quot;id&quot;: 592735102869196834, &quot;x&quot;: -77.20054263893671, &quot;y&quot;: -348.76802509543114, &quot;shape&quot;: &quot;text&quot;, &quot;label&quot;: &quot; &quot;, &quot;fixed&quot;: true, &quot;physics&quot;: false}, {&quot;id&quot;: 4398943752644342335, &quot;x&quot;: -35.93420894025367, &quot;y&quot;: -315.2434117036418, &quot;shape&quot;: &quot;text&quot;, &quot;label&quot;: &quot; &quot;, &quot;fixed&quot;: true, &quot;physics&quot;: false}, {&quot;id&quot;: 4557723189782583471, &quot;x&quot;: -81.4005426389367, &quot;y&quot;: -341.4934117036418, &quot;shape&quot;: &quot;text&quot;, &quot;label&quot;: &quot; &quot;, &quot;fixed&quot;: true, &quot;physics&quot;: false}, {&quot;id&quot;: -3602886346198046806, &quot;x&quot;: -81.4005426389367, &quot;y&quot;: -348.76802509543114, &quot;shape&quot;: &quot;text&quot;, &quot;label&quot;: &quot; &quot;, &quot;fixed&quot;: true, &quot;physics&quot;: false}, {&quot;id&quot;: -732813959772177153, &quot;x&quot;: -126.86687633761976, &quot;y&quot;: -322.5180250954312, &quot;shape&quot;: &quot;text&quot;, &quot;label&quot;: &quot; &quot;, &quot;fixed&quot;: true, &quot;physics&quot;: false}, {&quot;id&quot;: -1393818684280649592, &quot;x&quot;: -77.20054263893671, &quot;y&quot;: -341.4934117036418, &quot;shape&quot;: &quot;text&quot;, &quot;label&quot;: &quot; &quot;, &quot;fixed&quot;: true, &quot;physics&quot;: false}, {&quot;id&quot;: 4746232816430436103, &quot;x&quot;: -122.66687633761977, &quot;y&quot;: -315.24341170364187, &quot;shape&quot;: &quot;text&quot;, &quot;label&quot;: &quot; &quot;, &quot;fixed&quot;: true, &quot;physics&quot;: false}, {&quot;id&quot;: 4729631685763280605, &quot;x&quot;: -128.96687633761977, &quot;y&quot;: -318.88071839953653, &quot;shape&quot;: &quot;text&quot;, &quot;label&quot;: &quot; &quot;, &quot;fixed&quot;: true, &quot;physics&quot;: false}, {&quot;id&quot;: -8555132926449621840, &quot;x&quot;: -128.9668763376198, &quot;y&quot;: -266.38071839953653, &quot;shape&quot;: &quot;text&quot;, &quot;label&quot;: &quot; &quot;, &quot;fixed&quot;: true, &quot;physics&quot;: false}, {&quot;id&quot;: -8514229863694917513, &quot;x&quot;: -120.56687633761976, &quot;y&quot;: -318.88071839953653, &quot;shape&quot;: &quot;text&quot;, &quot;label&quot;: &quot; &quot;, &quot;fixed&quot;: true, &quot;physics&quot;: false}, {&quot;id&quot;: 5512947661974015126, &quot;x&quot;: -120.5668763376198, &quot;y&quot;: -266.38071839953653, &quot;shape&quot;: &quot;text&quot;, &quot;label&quot;: &quot; &quot;, &quot;fixed&quot;: true, &quot;physics&quot;: false}];\n",
              "        edges = [{&quot;from&quot;: 3, &quot;to&quot;: &quot;CYS145.A&quot;, &quot;title&quot;: &quot;VdWContact&quot;, &quot;interaction_type&quot;: &quot;VdWContact&quot;, &quot;color&quot;: &quot;#59e3ad&quot;, &quot;smooth&quot;: {&quot;type&quot;: &quot;cubicBezier&quot;, &quot;roundness&quot;: 0.2}, &quot;dashes&quot;: [10], &quot;width&quot;: 6.0, &quot;group&quot;: &quot;interaction&quot;}, {&quot;from&quot;: 8, &quot;to&quot;: &quot;GLY143.A&quot;, &quot;title&quot;: &quot;VdWContact&quot;, &quot;interaction_type&quot;: &quot;VdWContact&quot;, &quot;color&quot;: &quot;#59e3ad&quot;, &quot;smooth&quot;: {&quot;type&quot;: &quot;cubicBezier&quot;, &quot;roundness&quot;: 0.2}, &quot;dashes&quot;: [10], &quot;width&quot;: 6.0, &quot;group&quot;: &quot;interaction&quot;}, {&quot;from&quot;: 0, &quot;to&quot;: &quot;MET49.A&quot;, &quot;title&quot;: &quot;VdWContact&quot;, &quot;interaction_type&quot;: &quot;VdWContact&quot;, &quot;color&quot;: &quot;#59e3ad&quot;, &quot;smooth&quot;: {&quot;type&quot;: &quot;cubicBezier&quot;, &quot;roundness&quot;: 0.2}, &quot;dashes&quot;: [10], &quot;width&quot;: 6.0, &quot;group&quot;: &quot;interaction&quot;}, {&quot;from&quot;: 0, &quot;to&quot;: 2, &quot;color&quot;: &quot;black&quot;, &quot;physics&quot;: false, &quot;group&quot;: &quot;ligand&quot;, &quot;width&quot;: 4}, {&quot;from&quot;: 1, &quot;to&quot;: 12, &quot;color&quot;: &quot;black&quot;, &quot;physics&quot;: false, &quot;group&quot;: &quot;ligand&quot;, &quot;width&quot;: 4}, {&quot;from&quot;: -6885737477832829504, &quot;to&quot;: 3842911087082907716, &quot;color&quot;: &quot;black&quot;, &quot;physics&quot;: false, &quot;dashes&quot;: [10], &quot;group&quot;: &quot;ligand&quot;, &quot;width&quot;: 4}, {&quot;from&quot;: -7181695983297625259, &quot;to&quot;: -8857727869762017495, &quot;color&quot;: &quot;black&quot;, &quot;physics&quot;: false, &quot;dashes&quot;: [10], &quot;group&quot;: &quot;ligand&quot;, &quot;width&quot;: 4}, {&quot;from&quot;: 6212908462690434619, &quot;to&quot;: -4210511177411151996, &quot;color&quot;: &quot;black&quot;, &quot;physics&quot;: false, &quot;dashes&quot;: [10], &quot;group&quot;: &quot;ligand&quot;, &quot;width&quot;: 4}, {&quot;from&quot;: 4616902655478836818, &quot;to&quot;: 3493758120221917331, &quot;color&quot;: &quot;black&quot;, &quot;physics&quot;: false, &quot;dashes&quot;: [10], &quot;group&quot;: &quot;ligand&quot;, &quot;width&quot;: 4}, {&quot;from&quot;: 3, &quot;to&quot;: 13, &quot;color&quot;: &quot;black&quot;, &quot;physics&quot;: false, &quot;group&quot;: &quot;ligand&quot;, &quot;width&quot;: 4}, {&quot;from&quot;: 3, &quot;to&quot;: 14, &quot;color&quot;: &quot;black&quot;, &quot;physics&quot;: false, &quot;group&quot;: &quot;ligand&quot;, &quot;width&quot;: 4}, {&quot;from&quot;: 3, &quot;to&quot;: 17, &quot;color&quot;: &quot;black&quot;, &quot;physics&quot;: false, &quot;group&quot;: &quot;ligand&quot;, &quot;width&quot;: 4}, {&quot;from&quot;: 4, &quot;to&quot;: 13, &quot;color&quot;: &quot;black&quot;, &quot;physics&quot;: false, &quot;group&quot;: &quot;ligand&quot;, &quot;width&quot;: 4}, {&quot;from&quot;: 7819373441556371551, &quot;to&quot;: 7919466174761974438, &quot;color&quot;: &quot;black&quot;, &quot;physics&quot;: false, &quot;dashes&quot;: [10], &quot;group&quot;: &quot;ligand&quot;, &quot;width&quot;: 4}, {&quot;from&quot;: -5485114000943396438, &quot;to&quot;: -6844957689999936474, &quot;color&quot;: &quot;black&quot;, &quot;physics&quot;: false, &quot;dashes&quot;: [10], &quot;group&quot;: &quot;ligand&quot;, &quot;width&quot;: 4}, {&quot;from&quot;: 3918268626962921844, &quot;to&quot;: -4000406098574787563, &quot;color&quot;: &quot;black&quot;, &quot;physics&quot;: false, &quot;dashes&quot;: [10], &quot;group&quot;: &quot;ligand&quot;, &quot;width&quot;: 4}, {&quot;from&quot;: 5862227971212722065, &quot;to&quot;: -1443014902894575675, &quot;color&quot;: &quot;black&quot;, &quot;physics&quot;: false, &quot;dashes&quot;: [10], &quot;group&quot;: &quot;ligand&quot;, &quot;width&quot;: 4}, {&quot;from&quot;: 4507479633875287999, &quot;to&quot;: -8423064621179352929, &quot;color&quot;: &quot;black&quot;, &quot;physics&quot;: false, &quot;dashes&quot;: [10], &quot;group&quot;: &quot;ligand&quot;, &quot;width&quot;: 4}, {&quot;from&quot;: 8168002598025590873, &quot;to&quot;: 3966992876351842314, &quot;color&quot;: &quot;black&quot;, &quot;physics&quot;: false, &quot;dashes&quot;: [10], &quot;group&quot;: &quot;ligand&quot;, &quot;width&quot;: 4}, {&quot;from&quot;: 2784361107139975959, &quot;to&quot;: -3044532961373204478, &quot;color&quot;: &quot;black&quot;, &quot;physics&quot;: false, &quot;dashes&quot;: [10], &quot;group&quot;: &quot;ligand&quot;, &quot;width&quot;: 4}, {&quot;from&quot;: -7436784931168023325, &quot;to&quot;: -8127480410930596932, &quot;color&quot;: &quot;black&quot;, &quot;physics&quot;: false, &quot;dashes&quot;: [10], &quot;group&quot;: &quot;ligand&quot;, &quot;width&quot;: 4}, {&quot;from&quot;: -1268009552403686570, &quot;to&quot;: 7437256609393150278, &quot;color&quot;: &quot;black&quot;, &quot;physics&quot;: false, &quot;dashes&quot;: false, &quot;group&quot;: &quot;ligand&quot;, &quot;width&quot;: 4}, {&quot;from&quot;: 3881354868388926850, &quot;to&quot;: -8653626563605258719, &quot;color&quot;: &quot;black&quot;, &quot;physics&quot;: false, &quot;dashes&quot;: false, &quot;group&quot;: &quot;ligand&quot;, &quot;width&quot;: 4}, {&quot;from&quot;: 8, &quot;to&quot;: 28, &quot;color&quot;: &quot;black&quot;, &quot;physics&quot;: false, &quot;group&quot;: &quot;ligand&quot;, &quot;width&quot;: 4}, {&quot;from&quot;: 9, &quot;to&quot;: 10, &quot;color&quot;: &quot;black&quot;, &quot;physics&quot;: false, &quot;group&quot;: &quot;ligand&quot;, &quot;width&quot;: 4}, {&quot;from&quot;: -5354850449335014136, &quot;to&quot;: -439157236921114056, &quot;color&quot;: &quot;black&quot;, &quot;physics&quot;: false, &quot;dashes&quot;: [10], &quot;group&quot;: &quot;ligand&quot;, &quot;width&quot;: 4}, {&quot;from&quot;: -4514192339624920303, &quot;to&quot;: 6364414377175703135, &quot;color&quot;: &quot;black&quot;, &quot;physics&quot;: false, &quot;dashes&quot;: [10], &quot;group&quot;: &quot;ligand&quot;, &quot;width&quot;: 4}, {&quot;from&quot;: 10, &quot;to&quot;: 13, &quot;color&quot;: &quot;black&quot;, &quot;physics&quot;: false, &quot;group&quot;: &quot;ligand&quot;, &quot;width&quot;: 4}, {&quot;from&quot;: -5589548638116855387, &quot;to&quot;: -1503550158846135245, &quot;color&quot;: &quot;black&quot;, &quot;physics&quot;: false, &quot;dashes&quot;: false, &quot;group&quot;: &quot;ligand&quot;, &quot;width&quot;: 4}, {&quot;from&quot;: 6430376660722791901, &quot;to&quot;: -6326092578876957292, &quot;color&quot;: &quot;black&quot;, &quot;physics&quot;: false, &quot;dashes&quot;: false, &quot;group&quot;: &quot;ligand&quot;, &quot;width&quot;: 4}, {&quot;from&quot;: -3982092185906031952, &quot;to&quot;: 7424913831071112699, &quot;color&quot;: &quot;black&quot;, &quot;physics&quot;: false, &quot;dashes&quot;: [10], &quot;group&quot;: &quot;ligand&quot;, &quot;width&quot;: 4}, {&quot;from&quot;: 7887860415076327122, &quot;to&quot;: -3058067371147918446, &quot;color&quot;: &quot;black&quot;, &quot;physics&quot;: false, &quot;dashes&quot;: [10], &quot;group&quot;: &quot;ligand&quot;, &quot;width&quot;: 4}, {&quot;from&quot;: -1792694864876743824, &quot;to&quot;: -820686459433130002, &quot;color&quot;: &quot;black&quot;, &quot;physics&quot;: false, &quot;dashes&quot;: false, &quot;group&quot;: &quot;ligand&quot;, &quot;width&quot;: 4}, {&quot;from&quot;: -7681632919478354700, &quot;to&quot;: -8727694094359883594, &quot;color&quot;: &quot;black&quot;, &quot;physics&quot;: false, &quot;dashes&quot;: false, &quot;group&quot;: &quot;ligand&quot;, &quot;width&quot;: 4}, {&quot;from&quot;: 15, &quot;to&quot;: 16, &quot;color&quot;: &quot;black&quot;, &quot;physics&quot;: false, &quot;group&quot;: &quot;ligand&quot;, &quot;width&quot;: 4}, {&quot;from&quot;: 15, &quot;to&quot;: 18, &quot;color&quot;: &quot;black&quot;, &quot;physics&quot;: false, &quot;group&quot;: &quot;ligand&quot;, &quot;width&quot;: 4}, {&quot;from&quot;: -8508661466335597947, &quot;to&quot;: 5029415030883061861, &quot;color&quot;: &quot;black&quot;, &quot;physics&quot;: false, &quot;dashes&quot;: [10], &quot;group&quot;: &quot;ligand&quot;, &quot;width&quot;: 4}, {&quot;from&quot;: -5176040700488541327, &quot;to&quot;: -722971975694345464, &quot;color&quot;: &quot;black&quot;, &quot;physics&quot;: false, &quot;dashes&quot;: [10], &quot;group&quot;: &quot;ligand&quot;, &quot;width&quot;: 4}, {&quot;from&quot;: 475984938392103308, &quot;to&quot;: -1100562474432630318, &quot;color&quot;: &quot;black&quot;, &quot;physics&quot;: false, &quot;dashes&quot;: [10], &quot;group&quot;: &quot;ligand&quot;, &quot;width&quot;: 4}, {&quot;from&quot;: -1923887933824590673, &quot;to&quot;: -1060067790253632903, &quot;color&quot;: &quot;black&quot;, &quot;physics&quot;: false, &quot;dashes&quot;: [10], &quot;group&quot;: &quot;ligand&quot;, &quot;width&quot;: 4}, {&quot;from&quot;: -2514936344751245715, &quot;to&quot;: -5371341127879843218, &quot;color&quot;: &quot;black&quot;, &quot;physics&quot;: false, &quot;dashes&quot;: [10], &quot;group&quot;: &quot;ligand&quot;, &quot;width&quot;: 4}, {&quot;from&quot;: 9039390186131596044, &quot;to&quot;: -5030908910934185124, &quot;color&quot;: &quot;black&quot;, &quot;physics&quot;: false, &quot;dashes&quot;: [10], &quot;group&quot;: &quot;ligand&quot;, &quot;width&quot;: 4}, {&quot;from&quot;: -8648771076653391363, &quot;to&quot;: 2828828252972411093, &quot;color&quot;: &quot;black&quot;, &quot;physics&quot;: false, &quot;dashes&quot;: [10], &quot;group&quot;: &quot;ligand&quot;, &quot;width&quot;: 4}, {&quot;from&quot;: -8824175579577447779, &quot;to&quot;: -3372382397544157073, &quot;color&quot;: &quot;black&quot;, &quot;physics&quot;: false, &quot;dashes&quot;: [10], &quot;group&quot;: &quot;ligand&quot;, &quot;width&quot;: 4}, {&quot;from&quot;: 1755166234709209609, &quot;to&quot;: -7869022281142993531, &quot;color&quot;: &quot;black&quot;, &quot;physics&quot;: false, &quot;dashes&quot;: [10], &quot;group&quot;: &quot;ligand&quot;, &quot;width&quot;: 4}, {&quot;from&quot;: -6810403747736357929, &quot;to&quot;: 2070680707834581567, &quot;color&quot;: &quot;black&quot;, &quot;physics&quot;: false, &quot;dashes&quot;: [10], &quot;group&quot;: &quot;ligand&quot;, &quot;width&quot;: 4}, {&quot;from&quot;: 7828276571047383170, &quot;to&quot;: -6615650896766139830, &quot;color&quot;: &quot;black&quot;, &quot;physics&quot;: false, &quot;dashes&quot;: [10], &quot;group&quot;: &quot;ligand&quot;, &quot;width&quot;: 4}, {&quot;from&quot;: 2001210613001229976, &quot;to&quot;: 2537770526283807371, &quot;color&quot;: &quot;black&quot;, &quot;physics&quot;: false, &quot;dashes&quot;: [10], &quot;group&quot;: &quot;ligand&quot;, &quot;width&quot;: 4}, {&quot;from&quot;: -7834356780289940861, &quot;to&quot;: 8208659816087743710, &quot;color&quot;: &quot;black&quot;, &quot;physics&quot;: false, &quot;dashes&quot;: [10], &quot;group&quot;: &quot;ligand&quot;, &quot;width&quot;: 4}, {&quot;from&quot;: 539720448390580329, &quot;to&quot;: -4000669880399297855, &quot;color&quot;: &quot;black&quot;, &quot;physics&quot;: false, &quot;dashes&quot;: [10], &quot;group&quot;: &quot;ligand&quot;, &quot;width&quot;: 4}, {&quot;from&quot;: 23, &quot;to&quot;: 28, &quot;color&quot;: &quot;black&quot;, &quot;physics&quot;: false, &quot;group&quot;: &quot;ligand&quot;, &quot;width&quot;: 4}, {&quot;from&quot;: -742182569054911441, &quot;to&quot;: 592735102869196834, &quot;color&quot;: &quot;black&quot;, &quot;physics&quot;: false, &quot;dashes&quot;: [10], &quot;group&quot;: &quot;ligand&quot;, &quot;width&quot;: 4}, {&quot;from&quot;: 4398943752644342335, &quot;to&quot;: 4557723189782583471, &quot;color&quot;: &quot;black&quot;, &quot;physics&quot;: false, &quot;dashes&quot;: [10], &quot;group&quot;: &quot;ligand&quot;, &quot;width&quot;: 4}, {&quot;from&quot;: -3602886346198046806, &quot;to&quot;: -732813959772177153, &quot;color&quot;: &quot;black&quot;, &quot;physics&quot;: false, &quot;dashes&quot;: [10], &quot;group&quot;: &quot;ligand&quot;, &quot;width&quot;: 4}, {&quot;from&quot;: -1393818684280649592, &quot;to&quot;: 4746232816430436103, &quot;color&quot;: &quot;black&quot;, &quot;physics&quot;: false, &quot;dashes&quot;: [10], &quot;group&quot;: &quot;ligand&quot;, &quot;width&quot;: 4}, {&quot;from&quot;: 4729631685763280605, &quot;to&quot;: -8555132926449621840, &quot;color&quot;: &quot;black&quot;, &quot;physics&quot;: false, &quot;dashes&quot;: [10], &quot;group&quot;: &quot;ligand&quot;, &quot;width&quot;: 4}, {&quot;from&quot;: -8514229863694917513, &quot;to&quot;: 5512947661974015126, &quot;color&quot;: &quot;black&quot;, &quot;physics&quot;: false, &quot;dashes&quot;: [10], &quot;group&quot;: &quot;ligand&quot;, &quot;width&quot;: 4}];\n",
              "        ifp = drawGraph(&#x27;mynetwork&#x27;, nodes, edges, {&quot;width&quot;: &quot;100%&quot;, &quot;height&quot;: &quot;500px&quot;, &quot;nodes&quot;: {&quot;font&quot;: {&quot;size&quot;: 20}}, &quot;physics&quot;: {&quot;barnesHut&quot;: {&quot;avoidOverlap&quot;: 0.8, &quot;springConstant&quot;: 0.1}}});\n",
              "    \n",
              "        legend_buttons = [{&quot;index&quot;: 0, &quot;label&quot;: &quot;Aliphatic&quot;, &quot;color&quot;: &quot;#59e382&quot;, &quot;group&quot;: &quot;residues&quot;}, {&quot;index&quot;: 1, &quot;label&quot;: &quot;Sulfur&quot;, &quot;color&quot;: &quot;#e3ce59&quot;, &quot;group&quot;: &quot;residues&quot;}, {&quot;index&quot;: 0, &quot;label&quot;: &quot;VdWContact&quot;, &quot;color&quot;: &quot;#59e3ad&quot;, &quot;group&quot;: &quot;interactions&quot;}];\n",
              "        legend = document.getElementById(&#x27;networklegend&#x27;);\n",
              "        var div_residues = document.createElement(&#x27;div&#x27;);\n",
              "        var div_interactions = document.createElement(&#x27;div&#x27;);\n",
              "        var disabled = [];\n",
              "        var legend_callback = function() {\n",
              "            this.classList.toggle(&quot;disabled&quot;);\n",
              "            var hide = this.classList.contains(&quot;disabled&quot;);\n",
              "            var show = !hide;\n",
              "            var btn_label = this.innerHTML;\n",
              "            if (hide) {\n",
              "                disabled.push(btn_label);\n",
              "            } else {\n",
              "                disabled = disabled.filter(x =&gt; x !== btn_label);\n",
              "            }\n",
              "            var node_update = [],\n",
              "                edge_update = [];\n",
              "            // click on residue type\n",
              "            if (this.classList.contains(&quot;residues&quot;)) {\n",
              "                nodes.forEach((node) =&gt; {\n",
              "                    // find nodes corresponding to this type\n",
              "                    if (node.residue_type === btn_label) {\n",
              "                        // if hiding this type and residue isn&#x27;t already hidden\n",
              "                        if (hide &amp;&amp; !node.hidden) {\n",
              "                            node.hidden = true;\n",
              "                            node_update.push(node);\n",
              "                        // if showing this type and residue isn&#x27;t already visible\n",
              "                        } else if (show &amp;&amp; node.hidden) {\n",
              "                            // display if there&#x27;s at least one of its edge that isn&#x27;t hidden\n",
              "                            num_edges_active = edges.filter(x =&gt; x.to === node.id)\n",
              "                                                    .map(x =&gt; Boolean(x.hidden))\n",
              "                                                    .filter(x =&gt; !x)\n",
              "                                                    .length;\n",
              "                            if (num_edges_active &gt; 0) {\n",
              "                                node.hidden = false;\n",
              "                                node_update.push(node);\n",
              "                            }\n",
              "                        }\n",
              "                    }\n",
              "                });\n",
              "                ifp.body.data.nodes.update(node_update);\n",
              "            // click on interaction type\n",
              "            } else {\n",
              "                edges.forEach((edge) =&gt; {\n",
              "                    // find edges corresponding to this type\n",
              "                    if (edge.interaction_type === btn_label) {\n",
              "                        edge.hidden = !edge.hidden;\n",
              "                        edge_update.push(edge);\n",
              "                        // number of active edges for the corresponding residue\n",
              "                        var num_edges_active = edges.filter(x =&gt; x.to === edge.to)\n",
              "                                               .map(x =&gt; Boolean(x.hidden))\n",
              "                                               .filter(x =&gt; !x)\n",
              "                                               .length;\n",
              "                        // find corresponding residue\n",
              "                        var ix = nodes.findIndex(x =&gt; x.id === edge.to);\n",
              "                        // only change visibility if residue_type not being hidden\n",
              "                        if (!(disabled.includes(nodes[ix].residue_type))) {\n",
              "                            // hide if no edge being shown for this residue\n",
              "                            if (hide &amp;&amp; (num_edges_active === 0)) {\n",
              "                                nodes[ix].hidden = true;\n",
              "                                node_update.push(nodes[ix]);\n",
              "                            // show if edges are being shown\n",
              "                            } else if (show &amp;&amp; (num_edges_active &gt; 0)) {\n",
              "                                nodes[ix].hidden = false;\n",
              "                                node_update.push(nodes[ix]);\n",
              "                            }\n",
              "                        }\n",
              "                    }\n",
              "                });\n",
              "                ifp.body.data.nodes.update(node_update);\n",
              "                ifp.body.data.edges.update(edge_update);\n",
              "            }\n",
              "        };\n",
              "        legend_buttons.forEach(function(v,i) {\n",
              "            if (v.group === &quot;residues&quot;) {\n",
              "                var div = div_residues;\n",
              "                var border = &quot;none&quot;;\n",
              "                var color = v.color;\n",
              "            } else {\n",
              "                var div = div_interactions;\n",
              "                var border = &quot;3px dashed &quot; + v.color;\n",
              "                var color = &quot;white&quot;;\n",
              "            }\n",
              "            var button = div.appendChild(document.createElement(&#x27;button&#x27;));\n",
              "            button.classList.add(&quot;legend-btn&quot;, v.group);\n",
              "            button.innerHTML = v.label;\n",
              "            Object.assign(button.style, {\n",
              "                &quot;cursor&quot;: &quot;pointer&quot;,\n",
              "                &quot;background-color&quot;: color,\n",
              "                &quot;border&quot;: border,\n",
              "                &quot;border-radius&quot;: &quot;5px&quot;,\n",
              "                &quot;padding&quot;: &quot;5px&quot;,\n",
              "                &quot;margin&quot;: &quot;5px&quot;,\n",
              "                &quot;font&quot;: &quot;14px &#x27;Arial&#x27;, sans-serif&quot;,\n",
              "            });\n",
              "            button.onclick = legend_callback;\n",
              "        });\n",
              "        legend.appendChild(div_residues);\n",
              "        legend.appendChild(div_interactions);\n",
              "        \n",
              "        &lt;/script&gt;\n",
              "        &lt;/body&gt;\n",
              "        &lt;/html&gt;\n",
              "    \"></iframe>"
            ]
          },
          "metadata": {},
          "execution_count": 40
        }
      ]
    }
  ],
  "metadata": {
    "kernelspec": {
      "display_name": "Python 3",
      "language": "python",
      "name": "py35-paddle1.2.0"
    },
    "language_info": {
      "codemirror_mode": {
        "name": "ipython",
        "version": 3
      },
      "file_extension": ".py",
      "mimetype": "text/x-python",
      "name": "python",
      "nbconvert_exporter": "python",
      "pygments_lexer": "ipython3",
      "version": "3.7.4"
    },
    "colab": {
      "provenance": []
    },
    "widgets": {
      "application/vnd.jupyter.widget-state+json": {
        "2862343d11d6455e995f07bb8b6addd6": {
          "model_module": "@jupyter-widgets/controls",
          "model_name": "HBoxModel",
          "model_module_version": "1.5.0",
          "state": {
            "_dom_classes": [],
            "_model_module": "@jupyter-widgets/controls",
            "_model_module_version": "1.5.0",
            "_model_name": "HBoxModel",
            "_view_count": null,
            "_view_module": "@jupyter-widgets/controls",
            "_view_module_version": "1.5.0",
            "_view_name": "HBoxView",
            "box_style": "",
            "children": [
              "IPY_MODEL_f45f55b346f044e283851adf15d6b693",
              "IPY_MODEL_acaa8bc1da3d4e9b9b2423bf01f5e282",
              "IPY_MODEL_ad5b6e1385a74762b8f927aa718a5f36"
            ],
            "layout": "IPY_MODEL_25d4568f03f44ec4b17c98166b0a79a7"
          }
        },
        "f45f55b346f044e283851adf15d6b693": {
          "model_module": "@jupyter-widgets/controls",
          "model_name": "HTMLModel",
          "model_module_version": "1.5.0",
          "state": {
            "_dom_classes": [],
            "_model_module": "@jupyter-widgets/controls",
            "_model_module_version": "1.5.0",
            "_model_name": "HTMLModel",
            "_view_count": null,
            "_view_module": "@jupyter-widgets/controls",
            "_view_module_version": "1.5.0",
            "_view_name": "HTMLView",
            "description": "",
            "description_tooltip": null,
            "layout": "IPY_MODEL_792c6816246e44b4b5329e1c12a41def",
            "placeholder": "​",
            "style": "IPY_MODEL_cf851ca692af40d9ad61e2aed7e8489d",
            "value": "100%"
          }
        },
        "acaa8bc1da3d4e9b9b2423bf01f5e282": {
          "model_module": "@jupyter-widgets/controls",
          "model_name": "FloatProgressModel",
          "model_module_version": "1.5.0",
          "state": {
            "_dom_classes": [],
            "_model_module": "@jupyter-widgets/controls",
            "_model_module_version": "1.5.0",
            "_model_name": "FloatProgressModel",
            "_view_count": null,
            "_view_module": "@jupyter-widgets/controls",
            "_view_module_version": "1.5.0",
            "_view_name": "ProgressView",
            "bar_style": "",
            "description": "",
            "description_tooltip": null,
            "layout": "IPY_MODEL_406cf47a94784960880eb7b1660b9c3c",
            "max": 1,
            "min": 0,
            "orientation": "horizontal",
            "style": "IPY_MODEL_b6bceb297aea4982adf27c5409ad7f98",
            "value": 1
          }
        },
        "ad5b6e1385a74762b8f927aa718a5f36": {
          "model_module": "@jupyter-widgets/controls",
          "model_name": "HTMLModel",
          "model_module_version": "1.5.0",
          "state": {
            "_dom_classes": [],
            "_model_module": "@jupyter-widgets/controls",
            "_model_module_version": "1.5.0",
            "_model_name": "HTMLModel",
            "_view_count": null,
            "_view_module": "@jupyter-widgets/controls",
            "_view_module_version": "1.5.0",
            "_view_name": "HTMLView",
            "description": "",
            "description_tooltip": null,
            "layout": "IPY_MODEL_8746213288a74c24a6cac3cc2f8adb15",
            "placeholder": "​",
            "style": "IPY_MODEL_fbb2c3668fa8479daf25654f5c91a9e7",
            "value": " 1/1 [00:21&lt;00:00, 21.11s/it]"
          }
        },
        "25d4568f03f44ec4b17c98166b0a79a7": {
          "model_module": "@jupyter-widgets/base",
          "model_name": "LayoutModel",
          "model_module_version": "1.2.0",
          "state": {
            "_model_module": "@jupyter-widgets/base",
            "_model_module_version": "1.2.0",
            "_model_name": "LayoutModel",
            "_view_count": null,
            "_view_module": "@jupyter-widgets/base",
            "_view_module_version": "1.2.0",
            "_view_name": "LayoutView",
            "align_content": null,
            "align_items": null,
            "align_self": null,
            "border": null,
            "bottom": null,
            "display": null,
            "flex": null,
            "flex_flow": null,
            "grid_area": null,
            "grid_auto_columns": null,
            "grid_auto_flow": null,
            "grid_auto_rows": null,
            "grid_column": null,
            "grid_gap": null,
            "grid_row": null,
            "grid_template_areas": null,
            "grid_template_columns": null,
            "grid_template_rows": null,
            "height": null,
            "justify_content": null,
            "justify_items": null,
            "left": null,
            "margin": null,
            "max_height": null,
            "max_width": null,
            "min_height": null,
            "min_width": null,
            "object_fit": null,
            "object_position": null,
            "order": null,
            "overflow": null,
            "overflow_x": null,
            "overflow_y": null,
            "padding": null,
            "right": null,
            "top": null,
            "visibility": null,
            "width": null
          }
        },
        "792c6816246e44b4b5329e1c12a41def": {
          "model_module": "@jupyter-widgets/base",
          "model_name": "LayoutModel",
          "model_module_version": "1.2.0",
          "state": {
            "_model_module": "@jupyter-widgets/base",
            "_model_module_version": "1.2.0",
            "_model_name": "LayoutModel",
            "_view_count": null,
            "_view_module": "@jupyter-widgets/base",
            "_view_module_version": "1.2.0",
            "_view_name": "LayoutView",
            "align_content": null,
            "align_items": null,
            "align_self": null,
            "border": null,
            "bottom": null,
            "display": null,
            "flex": null,
            "flex_flow": null,
            "grid_area": null,
            "grid_auto_columns": null,
            "grid_auto_flow": null,
            "grid_auto_rows": null,
            "grid_column": null,
            "grid_gap": null,
            "grid_row": null,
            "grid_template_areas": null,
            "grid_template_columns": null,
            "grid_template_rows": null,
            "height": null,
            "justify_content": null,
            "justify_items": null,
            "left": null,
            "margin": null,
            "max_height": null,
            "max_width": null,
            "min_height": null,
            "min_width": null,
            "object_fit": null,
            "object_position": null,
            "order": null,
            "overflow": null,
            "overflow_x": null,
            "overflow_y": null,
            "padding": null,
            "right": null,
            "top": null,
            "visibility": null,
            "width": null
          }
        },
        "cf851ca692af40d9ad61e2aed7e8489d": {
          "model_module": "@jupyter-widgets/controls",
          "model_name": "DescriptionStyleModel",
          "model_module_version": "1.5.0",
          "state": {
            "_model_module": "@jupyter-widgets/controls",
            "_model_module_version": "1.5.0",
            "_model_name": "DescriptionStyleModel",
            "_view_count": null,
            "_view_module": "@jupyter-widgets/base",
            "_view_module_version": "1.2.0",
            "_view_name": "StyleView",
            "description_width": ""
          }
        },
        "406cf47a94784960880eb7b1660b9c3c": {
          "model_module": "@jupyter-widgets/base",
          "model_name": "LayoutModel",
          "model_module_version": "1.2.0",
          "state": {
            "_model_module": "@jupyter-widgets/base",
            "_model_module_version": "1.2.0",
            "_model_name": "LayoutModel",
            "_view_count": null,
            "_view_module": "@jupyter-widgets/base",
            "_view_module_version": "1.2.0",
            "_view_name": "LayoutView",
            "align_content": null,
            "align_items": null,
            "align_self": null,
            "border": null,
            "bottom": null,
            "display": null,
            "flex": null,
            "flex_flow": null,
            "grid_area": null,
            "grid_auto_columns": null,
            "grid_auto_flow": null,
            "grid_auto_rows": null,
            "grid_column": null,
            "grid_gap": null,
            "grid_row": null,
            "grid_template_areas": null,
            "grid_template_columns": null,
            "grid_template_rows": null,
            "height": null,
            "justify_content": null,
            "justify_items": null,
            "left": null,
            "margin": null,
            "max_height": null,
            "max_width": null,
            "min_height": null,
            "min_width": null,
            "object_fit": null,
            "object_position": null,
            "order": null,
            "overflow": null,
            "overflow_x": null,
            "overflow_y": null,
            "padding": null,
            "right": null,
            "top": null,
            "visibility": null,
            "width": null
          }
        },
        "b6bceb297aea4982adf27c5409ad7f98": {
          "model_module": "@jupyter-widgets/controls",
          "model_name": "ProgressStyleModel",
          "model_module_version": "1.5.0",
          "state": {
            "_model_module": "@jupyter-widgets/controls",
            "_model_module_version": "1.5.0",
            "_model_name": "ProgressStyleModel",
            "_view_count": null,
            "_view_module": "@jupyter-widgets/base",
            "_view_module_version": "1.2.0",
            "_view_name": "StyleView",
            "bar_color": null,
            "description_width": ""
          }
        },
        "8746213288a74c24a6cac3cc2f8adb15": {
          "model_module": "@jupyter-widgets/base",
          "model_name": "LayoutModel",
          "model_module_version": "1.2.0",
          "state": {
            "_model_module": "@jupyter-widgets/base",
            "_model_module_version": "1.2.0",
            "_model_name": "LayoutModel",
            "_view_count": null,
            "_view_module": "@jupyter-widgets/base",
            "_view_module_version": "1.2.0",
            "_view_name": "LayoutView",
            "align_content": null,
            "align_items": null,
            "align_self": null,
            "border": null,
            "bottom": null,
            "display": null,
            "flex": null,
            "flex_flow": null,
            "grid_area": null,
            "grid_auto_columns": null,
            "grid_auto_flow": null,
            "grid_auto_rows": null,
            "grid_column": null,
            "grid_gap": null,
            "grid_row": null,
            "grid_template_areas": null,
            "grid_template_columns": null,
            "grid_template_rows": null,
            "height": null,
            "justify_content": null,
            "justify_items": null,
            "left": null,
            "margin": null,
            "max_height": null,
            "max_width": null,
            "min_height": null,
            "min_width": null,
            "object_fit": null,
            "object_position": null,
            "order": null,
            "overflow": null,
            "overflow_x": null,
            "overflow_y": null,
            "padding": null,
            "right": null,
            "top": null,
            "visibility": null,
            "width": null
          }
        },
        "fbb2c3668fa8479daf25654f5c91a9e7": {
          "model_module": "@jupyter-widgets/controls",
          "model_name": "DescriptionStyleModel",
          "model_module_version": "1.5.0",
          "state": {
            "_model_module": "@jupyter-widgets/controls",
            "_model_module_version": "1.5.0",
            "_model_name": "DescriptionStyleModel",
            "_view_count": null,
            "_view_module": "@jupyter-widgets/base",
            "_view_module_version": "1.2.0",
            "_view_name": "StyleView",
            "description_width": ""
          }
        }
      }
    }
  },
  "nbformat": 4,
  "nbformat_minor": 0
}