{
 "cells": [
  {
   "cell_type": "code",
   "execution_count": 1,
   "metadata": {
    "colab": {
     "base_uri": "https://localhost:8080/"
    },
    "id": "xzH1G92-hQyj",
    "outputId": "8e2237b6-0321-428b-b02f-240db4e0f11f",
    "tags": []
   },
   "outputs": [
    {
     "name": "stdout",
     "output_type": "stream",
     "text": [
      "--2023-02-01 03:07:21--  https://files.rcsb.org/download/7L10.pdb\n",
      "Resolving files.rcsb.org (files.rcsb.org)... 132.249.210.234\n",
      "Connecting to files.rcsb.org (files.rcsb.org)|132.249.210.234|:443... connected.\n",
      "HTTP request sent, awaiting response... 200 OK\n",
      "Length: unspecified [application/octet-stream]\n",
      "Saving to: ‘7L10.pdb’\n",
      "\n",
      "7L10.pdb                [  <=>               ] 241.42K  1.15MB/s    in 0.2s    \n",
      "\n",
      "2023-02-01 03:07:22 (1.15 MB/s) - ‘7L10.pdb’ saved [247212]\n",
      "\n"
     ]
    }
   ],
   "source": [
    "!wget https://files.rcsb.org/download/7L10.pdb"
   ]
  },
  {
   "cell_type": "code",
   "execution_count": 2,
   "metadata": {
    "colab": {
     "base_uri": "https://localhost:8080/"
    },
    "id": "eKvj30K-hQyj",
    "outputId": "b5be2e31-e547-4e20-8cd6-ae1a41b8ab65",
    "tags": []
   },
   "outputs": [
    {
     "name": "stdout",
     "output_type": "stream",
     "text": [
      "Warning: importing 'simtk.openmm' is deprecated.  Import 'openmm' instead.\n"
     ]
    }
   ],
   "source": [
    "!pdbfixer  7L10.pdb --ph=7  --replace-nonstandard --add-residues "
   ]
  },
  {
   "cell_type": "code",
   "execution_count": 4,
   "metadata": {},
   "outputs": [],
   "source": [
    "from pdbfixer import PDBFixer"
   ]
  },
  {
   "cell_type": "code",
   "execution_count": 5,
   "metadata": {},
   "outputs": [],
   "source": [
    "fixer = PDBFixer(filename='7L10.pdb')"
   ]
  },
  {
   "cell_type": "code",
   "execution_count": null,
   "metadata": {},
   "outputs": [],
   "source": []
  },
  {
   "cell_type": "code",
   "execution_count": null,
   "metadata": {},
   "outputs": [],
   "source": [
    "from pdbfixer import PDBFixer\n",
    "from openmm.app import PDBFile\n",
    "fixer = PDBFixer(filename='7L10.pdb')\n",
    "fixer.findMissingResidues()\n",
    "fixer.findNonstandardResidues()\n",
    "fixer.replaceNonstandardResidues()\n",
    "fixer.removeHeterogens(True)\n",
    "fixer.findMissingAtoms()\n",
    "fixer.addMissingAtoms()\n",
    "fixer.addMissingHydrogens(7.0)\n",
    "fixer.addSolvent(fixer.topology.getUnitCellDimensions())\n",
    "PDBFile.writeFile(fixer.topology, fixer.positions, open('output.pdb', 'w'))"
   ]
  }
 ],
 "metadata": {
  "colab": {
   "provenance": []
  },
  "kernelspec": {
   "display_name": "Python 3 (ipykernel)",
   "language": "python",
   "name": "python3"
  },
  "language_info": {
   "codemirror_mode": {
    "name": "ipython",
    "version": 3
   },
   "file_extension": ".py",
   "mimetype": "text/x-python",
   "name": "python",
   "nbconvert_exporter": "python",
   "pygments_lexer": "ipython3",
   "version": "3.8.15"
  }
 },
 "nbformat": 4,
 "nbformat_minor": 4
}
