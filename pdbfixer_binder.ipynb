{
  "cells": [
    {
      "cell_type": "code",
      "execution_count": 13,
      "metadata": {
        "execution": {
          "iopub.execute_input": "2021-10-17T09:46:47.190602Z",
          "iopub.status.busy": "2021-10-17T09:46:47.190226Z"
        },
        "colab": {
          "base_uri": "https://localhost:8080/"
        },
        "id": "n-T9DTZWhQyh",
        "outputId": "60929ba9-25a1-485f-d418-fe7237e0808b"
      },
      "outputs": [
        {
          "output_type": "stream",
          "name": "stdout",
          "text": [
            "⏬ Downloading https://github.com/jaimergp/miniforge/releases/latest/download/Mambaforge-colab-Linux-x86_64.sh...\n",
            "📦 Installing...\n",
            "📌 Adjusting configuration...\n",
            "🩹 Patching environment...\n",
            "⏲ Done in 0:00:18\n",
            "🔁 Restarting kernel...\n"
          ]
        }
      ],
      "source": [
        "!pip install -q condacolab\n",
        "import condacolab\n",
        "condacolab.install()"
      ]
    },
    {
      "cell_type": "code",
      "execution_count": null,
      "metadata": {
        "execution": {
          "iopub.execute_input": "2021-10-17T09:30:42.950431Z",
          "iopub.status.busy": "2021-10-17T09:30:42.950122Z",
          "iopub.status.idle": "2021-10-17T09:31:36.742917Z",
          "shell.execute_reply": "2021-10-17T09:31:36.742146Z",
          "shell.execute_reply.started": "2021-10-17T09:30:42.950386Z"
        },
        "scrolled": true,
        "id": "MdLTT9VbhQyi"
      },
      "outputs": [],
      "source": [
        "!conda install -c conda-forge openmm -y"
      ]
    },
    {
      "cell_type": "code",
      "execution_count": null,
      "metadata": {
        "execution": {
          "iopub.execute_input": "2021-10-17T09:23:51.709439Z",
          "iopub.status.busy": "2021-10-17T09:23:51.709115Z",
          "iopub.status.idle": "2021-10-17T09:24:58.881025Z",
          "shell.execute_reply": "2021-10-17T09:24:58.879589Z",
          "shell.execute_reply.started": "2021-10-17T09:23:51.709390Z"
        },
        "scrolled": true,
        "id": "-DfqsbVmhQyi"
      },
      "outputs": [],
      "source": [
        "!conda install -c conda-forge pdbfixer -y"
      ]
    },
    {
      "cell_type": "code",
      "execution_count": 3,
      "metadata": {
        "execution": {
          "iopub.execute_input": "2021-10-14T13:52:35.384200Z",
          "iopub.status.busy": "2021-10-14T13:52:35.383775Z",
          "iopub.status.idle": "2021-10-14T13:52:35.999252Z",
          "shell.execute_reply": "2021-10-14T13:52:35.998000Z",
          "shell.execute_reply.started": "2021-10-14T13:52:35.384135Z"
        },
        "colab": {
          "base_uri": "https://localhost:8080/"
        },
        "id": "en5Bd3ckhQyj",
        "outputId": "c06cb8fd-57c5-4b33-db6f-d9b0c70a0fdf"
      },
      "outputs": [
        {
          "output_type": "stream",
          "name": "stdout",
          "text": [
            "Usage: pdbfixer\n",
            "       pdbfixer filename [options] \n",
            "\n",
            "When run with no arguments, it launches the user interface.  If any arguments are specified, it runs in command line mode.\n",
            "\n",
            "Options:\n",
            "  -h, --help            show this help message and exit\n",
            "  --pdbid=PDBID         PDB id to retrieve from RCSB [default: None]\n",
            "  --url=URL             URL to retrieve PDB from [default: None]\n",
            "  --output=FILENAME     output pdb file [default: output.pdb]\n",
            "  --add-atoms=ATOMS     which missing atoms to add: all, heavy, hydrogen, or\n",
            "                        none [default: all]\n",
            "  --keep-heterogens=OPTION\n",
            "                        which heterogens to keep: all, water, or none\n",
            "                        [default: all]\n",
            "  --replace-nonstandard\n",
            "                        replace nonstandard residues with standard equivalents\n",
            "  --add-residues        add missing residues\n",
            "  --water-box=X Y Z     add a water box. The value is the box dimensions in nm\n",
            "                        [example: --water-box=2.5 2.4 3.0]\n",
            "  --ph=PH               the pH to use for adding missing hydrogens [default:\n",
            "                        7.0]\n",
            "  --positive-ion=ION    positive ion to include in the water box: Cs+, K+,\n",
            "                        Li+, Na+, or Rb+ [default: Na+]\n",
            "  --negative-ion=ION    negative ion to include in the water box: Cl-, Br-,\n",
            "                        F-, or I- [default: Cl-]\n",
            "  --ionic-strength=STRENGTH\n",
            "                        molar concentration of ions to add to the water box\n",
            "                        [default: 0.0]\n",
            "  --verbose             Print verbose output\n"
          ]
        }
      ],
      "source": [
        "!pdbfixer --help"
      ]
    },
    {
      "cell_type": "code",
      "execution_count": 4,
      "metadata": {
        "execution": {
          "iopub.execute_input": "2021-10-14T13:52:53.739458Z",
          "iopub.status.busy": "2021-10-14T13:52:53.738597Z",
          "iopub.status.idle": "2021-10-14T13:53:24.168555Z",
          "shell.execute_reply": "2021-10-14T13:53:24.166859Z",
          "shell.execute_reply.started": "2021-10-14T13:52:53.739120Z"
        },
        "colab": {
          "base_uri": "https://localhost:8080/"
        },
        "id": "xzH1G92-hQyj",
        "outputId": "8e2237b6-0321-428b-b02f-240db4e0f11f"
      },
      "outputs": [
        {
          "output_type": "stream",
          "name": "stdout",
          "text": [
            "--2023-02-01 02:42:38--  https://files.rcsb.org/download/7L10.pdb\n",
            "Resolving files.rcsb.org (files.rcsb.org)... 128.6.158.70\n",
            "Connecting to files.rcsb.org (files.rcsb.org)|128.6.158.70|:443... connected.\n",
            "HTTP request sent, awaiting response... 200 OK\n",
            "Length: unspecified [application/octet-stream]\n",
            "Saving to: ‘7L10.pdb.1’\n",
            "\n",
            "7L10.pdb.1              [ <=>                ] 241.42K  --.-KB/s    in 0.08s   \n",
            "\n",
            "2023-02-01 02:42:38 (3.08 MB/s) - ‘7L10.pdb.1’ saved [247212]\n",
            "\n"
          ]
        }
      ],
      "source": [
        "!wget https://files.rcsb.org/download/7L10.pdb"
      ]
    },
    {
      "cell_type": "code",
      "execution_count": 5,
      "metadata": {
        "execution": {
          "iopub.execute_input": "2021-10-14T14:03:55.376689Z",
          "iopub.status.busy": "2021-10-14T14:03:55.376277Z"
        },
        "colab": {
          "base_uri": "https://localhost:8080/"
        },
        "id": "eKvj30K-hQyj",
        "outputId": "b5be2e31-e547-4e20-8cd6-ae1a41b8ab65"
      },
      "outputs": [
        {
          "output_type": "stream",
          "name": "stdout",
          "text": [
            "Warning: importing 'simtk.openmm' is deprecated.  Import 'openmm' instead.\n"
          ]
        }
      ],
      "source": [
        "!pdbfixer  7L10.pdb --ph=7  --replace-nonstandard --add-residues "
      ]
    },
    {
      "cell_type": "code",
      "source": [
        "!conda env export > environment.yml"
      ],
      "metadata": {
        "id": "xBHs-1gt2vZQ"
      },
      "execution_count": 6,
      "outputs": []
    }
  ],
  "metadata": {
    "kernelspec": {
      "display_name": "Python 3",
      "language": "python",
      "name": "py35-paddle1.2.0"
    },
    "language_info": {
      "codemirror_mode": {
        "name": "ipython",
        "version": 3
      },
      "file_extension": ".py",
      "mimetype": "text/x-python",
      "name": "python",
      "nbconvert_exporter": "python",
      "pygments_lexer": "ipython3",
      "version": "3.7.4"
    },
    "colab": {
      "provenance": []
    }
  },
  "nbformat": 4,
  "nbformat_minor": 0
}